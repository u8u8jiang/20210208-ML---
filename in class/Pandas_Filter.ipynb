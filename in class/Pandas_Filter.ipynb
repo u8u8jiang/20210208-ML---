{
 "cells": [
  {
   "cell_type": "code",
   "execution_count": null,
   "metadata": {},
   "outputs": [],
   "source": [
    "#載入pandas模組 \n",
    "import pandas as pd\n",
    "#篩選練習一Series \n",
    "data=pd.Series([30, 15, 20])\n",
    "print (\"原始Series:\",data,sep=\"\\n\")\n",
    "print (\"===============\")\n",
    "condition=[True, False, True]\n",
    "filteredData=data [condition]\n",
    "print (\"篩選結果:\",filteredData,sep=\"\\n\")"
   ]
  },
  {
   "cell_type": "code",
   "execution_count": null,
   "metadata": {},
   "outputs": [],
   "source": [
    "print (\"原始Series:\",data,sep=\"\\n\")\n",
    "print (\"===============\")\n",
    "condition=data>18\n",
    "print (\"篩選條件:\",condition,sep=\"\\n\")\n",
    "print (\"===============\")\n",
    "filteredData=data [condition]\n",
    "print (\"篩選結果:\",filteredData,sep=\"\\n\")"
   ]
  },
  {
   "cell_type": "code",
   "execution_count": null,
   "metadata": {},
   "outputs": [],
   "source": [
    "data=pd.Series([\"您好\", \"Python\", \"Pandas\"]) \n",
    "print (\"原始Series:\",data,sep=\"\\n\")\n",
    "print (\"===============\")\n",
    "condition=[False, True, True]\n",
    "filteredData=data [condition]\n",
    "print (\"篩選結果:\",filteredData,sep=\"\\n\")"
   ]
  },
  {
   "cell_type": "code",
   "execution_count": null,
   "metadata": {},
   "outputs": [],
   "source": [
    "print (\"原始Series:\",data,sep=\"\\n\")\n",
    "print (\"===============\")\n",
    "condition=data.str.contains(\"P\")\n",
    "print (\"篩選條件:\",condition,sep=\"\\n\")\n",
    "print (\"===============\")\n",
    "filteredData=data [condition]\n",
    "print (\"篩選結果:\",filteredData,sep=\"\\n\")"
   ]
  },
  {
   "cell_type": "code",
   "execution_count": null,
   "metadata": {},
   "outputs": [],
   "source": [
    "#篩選練習一DataFrame \n",
    "data=pd.DataFrame({\n",
    "    \"name\":[\"May\", \"Lin\", \"Bob\"],\n",
    "    \"salary\":[30000, 60000, 50000] \n",
    "})\n",
    "print (\"原始DataFrame:\",data,sep=\"\\n\")\n",
    "print (\"===============\")\n",
    "condition=[False, True, True]\n",
    "filteredData=data [condition]\n",
    "print (\"篩選結果:\",filteredData,sep=\"\\n\")"
   ]
  },
  {
   "cell_type": "code",
   "execution_count": null,
   "metadata": {},
   "outputs": [],
   "source": [
    "print (\"原始DataFrame:\",data,sep=\"\\n\")\n",
    "print (\"===============\")\n",
    "condition=data[\"salary\"]>=40000\n",
    "print (\"篩選條件:\",condition,sep=\"\\n\")\n",
    "print (\"===============\")\n",
    "filteredData=data [condition]\n",
    "print (\"篩選結果:\",filteredData,sep=\"\\n\")"
   ]
  },
  {
   "cell_type": "code",
   "execution_count": null,
   "metadata": {},
   "outputs": [],
   "source": [
    "print (data)\n",
    "print (\"===============\")\n",
    "condition=data[\"name\"]==\"Lin\"\n",
    "print (\"篩選條件:\",condition,sep=\"\\n\")\n",
    "print (\"===============\")\n",
    "filteredData=data [condition]\n",
    "print (\"篩選結果:\",filteredData,sep=\"\\n\")"
   ]
  },
  {
   "cell_type": "code",
   "execution_count": null,
   "metadata": {},
   "outputs": [],
   "source": [
    "#載入CSV資料\n",
    "df = pd.read_csv(\"products.csv\", encoding=\"utf16\")\n",
    "print(df)"
   ]
  },
  {
   "cell_type": "code",
   "execution_count": null,
   "metadata": {},
   "outputs": [],
   "source": [
    "#重設標題與index\n",
    "df.columns = [\"type\", \"price\", \"name\"]\n",
    "ordinals = [\"A\", \"B\", \"C\", \"D\", \"E\", \"F\"]\n",
    "df.index = ordinals\n",
    "print(df)"
   ]
  },
  {
   "cell_type": "code",
   "execution_count": null,
   "metadata": {},
   "outputs": [],
   "source": [
    "#選取單一欄位\n",
    "print(df[\"price\"].head(3))#選取\"price\"欄位並顯示前3筆\n",
    "print(df.price.head(3))#選取\"price\"欄位並顯示前3筆"
   ]
  },
  {
   "cell_type": "code",
   "execution_count": null,
   "metadata": {},
   "outputs": [],
   "source": [
    "#選取多個欄位\n",
    "print(df[[\"type\",\"name\"]].head(3))#選取\"price\"與\"name\"欄位並顯示前3筆"
   ]
  },
  {
   "cell_type": "code",
   "execution_count": null,
   "metadata": {},
   "outputs": [],
   "source": [
    "#選取特定範圍的多筆記錄\n",
    "print(df[0:3])     #不含3\n",
    "print(df[\"C\":\"E\"]) # 含\"E\""
   ]
  },
  {
   "cell_type": "code",
   "execution_count": null,
   "metadata": {},
   "outputs": [],
   "source": [
    "#使用標籤選取資料\n",
    "print(df)\n",
    "print (\"===============\")\n",
    "print('df.loc[\"B\"]:',df.loc[\"B\"],sep=\"\\n\")\n",
    "print (\"===============\")\n",
    "print('type(df.loc[\"B\"]):',type(df.loc[\"B\"]))"
   ]
  },
  {
   "cell_type": "code",
   "execution_count": null,
   "metadata": {},
   "outputs": [],
   "source": [
    "#使用位置選取資料\n",
    "print(df)\n",
    "print (\"===============\")\n",
    "print(\"df.iloc[3]:\",df.iloc[3],sep=\"\\n\")# 第 4 筆\n",
    "print (\"===============\")\n",
    "print(\"df.iloc[3:5, 1:3]:\", df.iloc[3:5, 1:3],sep=\"\\n\")   # 切割"
   ]
  },
  {
   "cell_type": "code",
   "execution_count": null,
   "metadata": {},
   "outputs": [],
   "source": [
    "#過濾資料 – 使用布林索引\n",
    "print(df)\n",
    "print (\"===============\")\n",
    "print(df[df.price > 20])"
   ]
  },
  {
   "cell_type": "code",
   "execution_count": null,
   "metadata": {},
   "outputs": [],
   "source": [
    "#過濾資料 – 使用isin()函數\n",
    "print(df)\n",
    "print (\"===============\")\n",
    "print(df[df[\"type\"].isin([\"科技\",\"居家\"])])"
   ]
  },
  {
   "cell_type": "code",
   "execution_count": null,
   "metadata": {},
   "outputs": [],
   "source": [
    "#使用多個條件和字串函數過濾資料\n",
    "print(df)\n",
    "print (\"===============\")\n",
    "print(df[(df.price > 15) & (df.price < 25)])"
   ]
  },
  {
   "cell_type": "code",
   "execution_count": null,
   "metadata": {},
   "outputs": [],
   "source": [
    "df.loc[\"G\"] = [\"科學\", 28.5, \"全聯超\"]\n",
    "print(df)\n",
    "print (\"===============\")\n",
    "print(df[df[\"type\"].str.startswith(\"科\")])"
   ]
  },
  {
   "cell_type": "code",
   "execution_count": null,
   "metadata": {},
   "outputs": [],
   "source": [
    "#排序資料 - 指定索引欄位排序\n",
    "df2 = df.set_index(\"price\")\n",
    "print(df2,\"\\n===============\")\n",
    "df2.sort_index(ascending=False, inplace=True)\n",
    "print(\"price由大到小:\",df2,sep=\"\\n\")\n",
    "print (\"===============\")\n",
    "df2.sort_index(inplace=True)\n",
    "print(\"price由小到大:\",df2,sep=\"\\n\")"
   ]
  },
  {
   "cell_type": "code",
   "execution_count": null,
   "metadata": {},
   "outputs": [],
   "source": [
    "#排序資料 – 指定欄位值排序\n",
    "df2 = df.sort_values(\"price\", ascending=False)\n",
    "print(df2)\n",
    "print(df.sort_values([\"type\",\"price\"], inplace=False))\n",
    "print(df)"
   ]
  },
  {
   "cell_type": "code",
   "execution_count": null,
   "metadata": {},
   "outputs": [],
   "source": []
  }
 ],
 "metadata": {
  "kernelspec": {
   "display_name": "Python 3",
   "language": "python",
   "name": "python3"
  },
  "language_info": {
   "codemirror_mode": {
    "name": "ipython",
    "version": 3
   },
   "file_extension": ".py",
   "mimetype": "text/x-python",
   "name": "python",
   "nbconvert_exporter": "python",
   "pygments_lexer": "ipython3",
   "version": "3.8.6"
  }
 },
 "nbformat": 4,
 "nbformat_minor": 4
}
