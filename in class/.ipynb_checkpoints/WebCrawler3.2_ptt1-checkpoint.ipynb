{
 "cells": [
  {
   "cell_type": "code",
   "execution_count": null,
   "metadata": {},
   "outputs": [],
   "source": [
    "#抓取PTT省錢版網頁的原始碼\n",
    "import urllib.request as request \n",
    "# src=\"https://www.ptt.cc/bbs/Lifeismoney/index.html\"\n",
    "src = \"https://www.ptt.cc/bbs/EAseries/index.html\"\n",
    "with request.urlopen(src) as response:\n",
    "    data=response.read().decode(\"utf-8\")\n",
    "print(data)  #HTTPError: HTTP Error 403: Forbidden"
   ]
  },
  {
   "cell_type": "code",
   "execution_count": null,
   "metadata": {},
   "outputs": [],
   "source": [
    "#抓取PTT省錢版網頁的原始碼\n",
    "import urllib.request as request \n",
    "#src=\"https://www.ptt.cc/bbs/Lifeismoney/index.html\"\n",
    "src = \"https://www.ptt.cc/bbs/EAseries/index.html\"\n",
    "requestUA=request.Request(src, headers={\n",
    "   # \"User-Agent\":\"Mozilla/5.0 (Windows NT 10.0; Win64; x64) AppleWebKit/537.36 (KHTML, like Gecko) Chrome/86.0.4240.193 Safari/537.36 Edg/86.0.622.68\"\n",
    "    \"user-agent\":\"Mozilla/5.0 (Windows NT 10.0; Win64; x64) AppleWebKit/537.36 (KHTML, like Gecko) Chrome/88.0.4324.146 Safari/537.36\"\n",
    "})   #你是誰？User-Agent，確認是否為正常瀏覽，給request才抓得到\n",
    "with request.urlopen(requestUA) as response:\n",
    "    data=response.read().decode(\"utf-8\")\n",
    "print(data)"
   ]
  },
  {
   "cell_type": "code",
   "execution_count": null,
   "metadata": {},
   "outputs": [],
   "source": [
    "import bs4\n",
    "root=bs4.BeautifulSoup(data, \"html.parser\") #讓BeautifulSoup協助解析HTML格式文件\n",
    "print(root)"
   ]
  },
  {
   "cell_type": "code",
   "execution_count": null,
   "metadata": {},
   "outputs": [],
   "source": [
    "print(root.title)#尋找\"title\"標籤"
   ]
  },
  {
   "cell_type": "code",
   "execution_count": null,
   "metadata": {},
   "outputs": [],
   "source": [
    "print(root.title.string)#尋找\"title\"標籤字串"
   ]
  },
  {
   "cell_type": "code",
   "execution_count": null,
   "metadata": {},
   "outputs": [],
   "source": [
    "titles=root.find(\"div\", class_=\"title\") #尋找class=\"title\"的div標籤\n",
    "print(titles) "
   ]
  },
  {
   "cell_type": "code",
   "execution_count": null,
   "metadata": {},
   "outputs": [],
   "source": [
    "print(titles.div) "
   ]
  },
  {
   "cell_type": "code",
   "execution_count": null,
   "metadata": {},
   "outputs": [],
   "source": [
    "# print(titles.div.string) #裡面都是標籤，是空的\n",
    "print(root.title.string)"
   ]
  },
  {
   "cell_type": "code",
   "execution_count": null,
   "metadata": {},
   "outputs": [],
   "source": [
    "titles=root.find_all(\"div\", class_=\"title\") #尋找所有class=\"title\"的div標籤\n",
    "print(titles)"
   ]
  },
  {
   "cell_type": "code",
   "execution_count": null,
   "metadata": {},
   "outputs": [],
   "source": [
    "count=0\n",
    "for title in titles:\n",
    "    print(count, title)\n",
    "    count=count+1"
   ]
  },
  {
   "cell_type": "code",
   "execution_count": null,
   "metadata": {},
   "outputs": [],
   "source": [
    "for title in titles:\n",
    "    if title.a != None: #如果標題包含a標籤 (沒有被刪除), 印出來\n",
    "        print(title.a.string)"
   ]
  },
  {
   "cell_type": "code",
   "execution_count": null,
   "metadata": {},
   "outputs": [],
   "source": [
    "import urllib.request as request \n",
    "import bs4\n",
    "\n",
    "def GetTitle(src):\n",
    "    requestUA = request.Request(src, headers={\n",
    "    \"user-agent\":\"Mozilla/5.0 (Windows NT 10.0; Win64; x64) AppleWebKit/537.36 (KHTML, like Gecko) Chrome/88.0.4324.146 Safari/537.36\"\n",
    "    })   \n",
    "    with request.urlopen(requestUA) as response:\n",
    "        data=response.read().decode(\"utf-8\")\n",
    "        pass\n",
    "    root = bs4.BeautifulSoup(data, \"html.parser\")\n",
    "    titles = root.find_all(\"div\", class_=\"title\") #尋找所有class=\"title\"的div標籤\n",
    " \n",
    "    for title in titles:\n",
    "        if title.a != None: #如果標題包含a標籤 (沒有被刪除), 印出來\n",
    "            print(title.a.string)\n",
    "            pass\n",
    "        pass\n",
    "    pass\n",
    "\n",
    "GetTitle('https://www.ptt.cc/bbs/EAseries/index.html')\n",
    "    \n",
    "    \n",
    "\n",
    "    "
   ]
  },
  {
   "cell_type": "code",
   "execution_count": null,
   "metadata": {},
   "outputs": [],
   "source": [
    "# get the header in ppt\n",
    "\n",
    "import urllib.request as request \n",
    "import bs4\n",
    "\n",
    "def GetTitle(name):\n",
    "    src = 'https://www.ptt.cc/bbs/'+name+'/index.html'\n",
    "    requestUA = request.Request(src, headers={\n",
    "    \"user-agent\":\"Mozilla/5.0 (Windows NT 10.0; Win64; x64) AppleWebKit/537.36 (KHTML, like Gecko) Chrome/88.0.4324.146 Safari/537.36\"\n",
    "    })   \n",
    "    with request.urlopen(requestUA) as response:\n",
    "        data=response.read().decode(\"utf-8\")\n",
    "        pass\n",
    "    root = bs4.BeautifulSoup(data, \"html.parser\")\n",
    "    titles = root.find_all(\"div\", class_=\"title\") #尋找所有class=\"title\"的div標籤\n",
    " \n",
    "    for title in titles:\n",
    "        if title.a != None: #如果標題包含a標籤 (沒有被刪除), 印出來\n",
    "            print(title.a.string)\n",
    "            pass\n",
    "        pass\n",
    "    pass\n",
    "\n",
    "GetTitle('Stock')\n",
    "    "
   ]
  },
  {
   "cell_type": "code",
   "execution_count": null,
   "metadata": {},
   "outputs": [],
   "source": []
  }
 ],
 "metadata": {
  "kernelspec": {
   "display_name": "Python 3",
   "language": "python",
   "name": "python3"
  },
  "language_info": {
   "codemirror_mode": {
    "name": "ipython",
    "version": 3
   },
   "file_extension": ".py",
   "mimetype": "text/x-python",
   "name": "python",
   "nbconvert_exporter": "python",
   "pygments_lexer": "ipython3",
   "version": "3.7.3"
  }
 },
 "nbformat": 4,
 "nbformat_minor": 4
}
