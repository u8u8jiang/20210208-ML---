{
 "cells": [
  {
   "cell_type": "code",
   "execution_count": null,
   "metadata": {},
   "outputs": [],
   "source": [
    "#網路連線\n",
    "import urllib .request as request\n",
    "src=\"https://www.cjcu.edu.tw/\"\n",
    "with request.urlopen(src)as response:\n",
    "    data=response.read() #取得長榮大學網站的原始碼(HTML、CSS、JASON) \n",
    "print(data)"
   ]
  },
  {
   "cell_type": "code",
   "execution_count": null,
   "metadata": {},
   "outputs": [],
   "source": [
    "with request.urlopen(src)as response:\n",
    "    data=response.read().decode(\"utf-8\") #utf-8解碼\n",
    "print(data)"
   ]
  },
  {
   "cell_type": "code",
   "execution_count": null,
   "metadata": {},
   "outputs": [],
   "source": [
    "#串接、擷以公開資料 \n",
    "import urllib .request as request\n",
    "src=\"https://data.taipei/api/v1/dataset/296acfa2-5d93-4706-ad58-e83cc951863c?scope=resourceAquire\"\n",
    "with request.urlopen(src)as response:\n",
    "    data=response.read().decode(\"utf-8\") \n",
    "print(data)"
   ]
  },
  {
   "cell_type": "code",
   "execution_count": null,
   "metadata": {},
   "outputs": [],
   "source": [
    "import urllib .request as request\n",
    "import json#使用JASON格式讀取\n",
    "src=\"https://data.taipei/api/v1/dataset/296acfa2-5d93-4706-ad58-e83cc951863c?scope=resourceAquire\"\n",
    "with request.urlopen(src) as response:\n",
    "    data=json.load(response)#使用JASON格式讀取 \n",
    "print(data)"
   ]
  },
  {
   "cell_type": "code",
   "execution_count": null,
   "metadata": {},
   "outputs": [],
   "source": [
    "#將公司名稱列表出來 \n",
    "clist = data[\"result\"][\"results\"] \n",
    "with open(\"data.txt\",\"w\",encoding=\"utf-8\") as file:\n",
    "    for company in clist:\n",
    "        file.write(company[\"公司名稱\"]+\"\\n\")"
   ]
  },
  {
   "cell_type": "code",
   "execution_count": null,
   "metadata": {},
   "outputs": [],
   "source": []
  }
 ],
 "metadata": {
  "kernelspec": {
   "display_name": "Python 3",
   "language": "python",
   "name": "python3"
  },
  "language_info": {
   "codemirror_mode": {
    "name": "ipython",
    "version": 3
   },
   "file_extension": ".py",
   "mimetype": "text/x-python",
   "name": "python",
   "nbconvert_exporter": "python",
   "pygments_lexer": "ipython3",
   "version": "3.8.6"
  }
 },
 "nbformat": 4,
 "nbformat_minor": 4
}
