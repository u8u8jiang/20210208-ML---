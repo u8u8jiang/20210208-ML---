{
 "cells": [
  {
   "cell_type": "code",
   "execution_count": 2,
   "metadata": {},
   "outputs": [
    {
     "name": "stdout",
     "output_type": "stream",
     "text": [
      "a = np.arange(15): [ 0  1  2  3  4  5  6  7  8  9 10 11 12 13 14]\n",
      "a.reshape(3, 5):\n",
      "[[ 0  1  2  3  4]\n",
      " [ 5  6  7  8  9]\n",
      " [10 11 12 13 14]]\n"
     ]
    }
   ],
   "source": [
    "import numpy as np\n",
    "a = np.arange(15)\n",
    "print(\"a = np.arange(15):\", a)\n",
    "a=a.reshape(3, 5)\n",
    "print(\"a.reshape(3, 5):\",a,sep=\"\\n\")"
   ]
  },
  {
   "cell_type": "code",
   "execution_count": 2,
   "metadata": {
    "scrolled": true
   },
   "outputs": [
    {
     "name": "stdout",
     "output_type": "stream",
     "text": [
      "a.shape= (3, 5)\n",
      "a.ndim= 2\n",
      "a.dtype.name= int32\n",
      "a.itemsize= 4\n",
      "a.size= 15\n",
      "type(a)= <class 'numpy.ndarray'>\n"
     ]
    }
   ],
   "source": [
    "# guess what will these related variables of a show\n",
    "print(\"a.shape=\",a.shape)\n",
    "print(\"a.ndim=\",a.ndim)\n",
    "print(\"a.dtype.name=\",a.dtype.name)\n",
    "print(\"a.itemsize=\",a.itemsize)\n",
    "print(\"a.size=\",a.size)\n",
    "print(\"type(a)=\",type(a))"
   ]
  },
  {
   "cell_type": "code",
   "execution_count": 3,
   "metadata": {},
   "outputs": [
    {
     "name": "stdout",
     "output_type": "stream",
     "text": [
      "[6 7 8]\n",
      "type(b)= <class 'numpy.ndarray'>\n"
     ]
    }
   ],
   "source": [
    "b = np.array([6, 7, 8])\n",
    "print(b)\n",
    "print(\"type(b)=\",type(b))"
   ]
  },
  {
   "cell_type": "code",
   "execution_count": 4,
   "metadata": {},
   "outputs": [
    {
     "name": "stdout",
     "output_type": "stream",
     "text": [
      "[[1 2 3]\n",
      " [2 3 4]]\n"
     ]
    }
   ],
   "source": [
    "import numpy as np\n",
    "array = np.array([[1,2,3],[2,3,4]])\n",
    "print(array)"
   ]
  },
  {
   "cell_type": "code",
   "execution_count": 10,
   "metadata": {},
   "outputs": [
    {
     "name": "stdout",
     "output_type": "stream",
     "text": [
      "a= [2 3 4]\n",
      "a.dtype: int32\n",
      "b= [1.2 3.5 5.1]\n",
      "b.dtype: float64\n"
     ]
    }
   ],
   "source": [
    "# another the types of variables\n",
    "# dtype: int, float, complex...\n",
    "\n",
    "import numpy as np\n",
    "a = np.array([2,3,4])\n",
    "print(\"a=\", a)\n",
    "print(\"a.dtype:\",a.dtype)\n",
    "b = np.array([1.2, 3.5, 5.1])\n",
    "print(\"b=\", b)\n",
    "print(\"b.dtype:\", b.dtype)"
   ]
  },
  {
   "cell_type": "code",
   "execution_count": 6,
   "metadata": {},
   "outputs": [
    {
     "name": "stdout",
     "output_type": "stream",
     "text": [
      "b=\n",
      "[[1.5 2.  3. ]\n",
      " [4.  5.  6. ]]\n",
      "b.dtype: float64\n"
     ]
    }
   ],
   "source": [
    "# creat some arrays\n",
    "\n",
    "b = np.array([(1.5,2,3), (4,5,6)])\n",
    "print(\"b=\",b,sep=\"\\n\")\n",
    "print(\"b.dtype:\", b.dtype)"
   ]
  },
  {
   "cell_type": "code",
   "execution_count": 7,
   "metadata": {},
   "outputs": [
    {
     "name": "stdout",
     "output_type": "stream",
     "text": [
      "c=\n",
      "[[1.+0.j 2.+0.j]\n",
      " [3.+0.j 4.+0.j]]\n",
      "c.dtype: complex128\n"
     ]
    }
   ],
   "source": [
    "c = np.array( [ [1,2], [3,4] ],dtype=complex )\n",
    "print(\"c=\",c,sep=\"\\n\")\n",
    "print(\"c.dtype:\", c.dtype)"
   ]
  },
  {
   "cell_type": "code",
   "execution_count": 8,
   "metadata": {},
   "outputs": [
    {
     "name": "stdout",
     "output_type": "stream",
     "text": [
      "c=\n",
      "[[1.+3.j 2.-2.j]\n",
      " [3.-5.j 4.+0.j]]\n",
      "c.dtype: complex128\n"
     ]
    }
   ],
   "source": [
    "c = np.array( [ [1+3j,2-2j], [3-5j,4] ],dtype=complex )\n",
    "print(\"c=\",c,sep=\"\\n\")\n",
    "print(\"c.dtype:\", c.dtype)"
   ]
  },
  {
   "cell_type": "code",
   "execution_count": 5,
   "metadata": {},
   "outputs": [
    {
     "name": "stdout",
     "output_type": "stream",
     "text": [
      "np.zeros((3,4)):\n",
      "[[0. 0. 0. 0.]\n",
      " [0. 0. 0. 0.]\n",
      " [0. 0. 0. 0.]]\n",
      "\n",
      "np.ones((2,3,4), dtype=np.int16 )\n",
      "[[[1 1 1 1]\n",
      "  [1 1 1 1]\n",
      "  [1 1 1 1]]\n",
      "\n",
      " [[1 1 1 1]\n",
      "  [1 1 1 1]\n",
      "  [1 1 1 1]]]\n",
      "\n",
      "np.empty((2,3))\n",
      "[[1.39069238e-309 1.39069238e-309 1.39069238e-309]\n",
      " [1.39069238e-309 1.39069238e-309 1.39069238e-309]]\n"
     ]
    }
   ],
   "source": [
    "# creat zero, identity, null matriice\n",
    "\n",
    "print(\"np.zeros((3,4)):\",np.zeros((3,4)),sep=\"\\n\")\n",
    "print(\"\\nnp.ones((2,3,4), dtype=np.int16 )\",np.ones((2,3,4), dtype=np.int16 ),sep=\"\\n\")\n",
    "print(\"\\nnp.empty((2,3))\",np.empty((2,3)),sep=\"\\n\")"
   ]
  },
  {
   "cell_type": "code",
   "execution_count": 6,
   "metadata": {},
   "outputs": [
    {
     "name": "stdout",
     "output_type": "stream",
     "text": [
      "[10 15 20 25]\n",
      "[0.  0.3 0.6 0.9 1.2 1.5 1.8]\n"
     ]
    }
   ],
   "source": [
    "# # 創建數字組成的陣列，返回陣列而不是清單\n",
    "\n",
    "print(np.arange( 10, 30, 5 ))\n",
    "print(np.arange( 0, 2, 0.3 )) # it accepts float arguments"
   ]
  },
  {
   "cell_type": "code",
   "execution_count": 7,
   "metadata": {},
   "outputs": [
    {
     "name": "stdout",
     "output_type": "stream",
     "text": [
      "[0.   0.25 0.5  0.75 1.   1.25 1.5  1.75 2.  ]\n"
     ]
    },
    {
     "data": {
      "text/plain": [
       "[<matplotlib.lines.Line2D at 0x19fdd91ef98>]"
      ]
     },
     "execution_count": 7,
     "metadata": {},
     "output_type": "execute_result"
    },
    {
     "data": {
      "image/png": "[encoded data removed]",
      "text/plain": [
       "<Figure size 432x288 with 1 Axes>"
      ]
     },
     "metadata": {
      "needs_background": "light"
     },
     "output_type": "display_data"
    }
   ],
   "source": [
    "# 通常不可能預測所獲得的元素的數量。通常最好使用linspace函數來接收想 要的元素數量的函數\n",
    "\n",
    "from numpy import pi\n",
    "print(np.linspace( 0, 2, 9 )) # 從 0 到 2 均勻產生9個數字\n",
    "x = np.linspace( 0, 2*pi, 100 ) # useful to evaluate function at lots of points\n",
    "f = np.sin(x)\n",
    "import matplotlib.pyplot as plt\n",
    "plt.plot(x,f)"
   ]
  },
  {
   "cell_type": "code",
   "execution_count": 8,
   "metadata": {},
   "outputs": [
    {
     "name": "stdout",
     "output_type": "stream",
     "text": [
      "1D array: [0 1 2 3 4 5]\n",
      "\n",
      "2D array:\n",
      "[[ 0  1  2]\n",
      " [ 3  4  5]\n",
      " [ 6  7  8]\n",
      " [ 9 10 11]]\n",
      "\n",
      "3D array:\n",
      "[[[ 0  1  2  3]\n",
      "  [ 4  5  6  7]\n",
      "  [ 8  9 10 11]]\n",
      "\n",
      " [[12 13 14 15]\n",
      "  [16 17 18 19]\n",
      "  [20 21 22 23]]]\n"
     ]
    }
   ],
   "source": [
    "#當列印陣列時, NumPy以與巢狀清單類似的方式 顯示它，但具有以下佈局: \n",
    "\n",
    "a = np.arange(6) # 1d array\n",
    "print(\"1D array:\", a)\n",
    "\n",
    "b = np.arange(12).reshape(4,3) # 2d array\n",
    "print(\"\\n2D array:\", b,sep=\"\\n\")\n",
    "\n",
    "c = np.arange(24).reshape(2,3,4) # 3d array\n",
    "print(\"\\n3D array:\", c,sep=\"\\n\")"
   ]
  },
  {
   "cell_type": "code",
   "execution_count": null,
   "metadata": {},
   "outputs": [],
   "source": [
    "# 如果陣列太大而無法列印，NumPy會自動跳過陣 列的中心部分並僅列印角點: \n",
    "\n",
    "print(np.arange(10000))\n",
    "print(np.arange(10000).reshape(100,100))"
   ]
  },
  {
   "cell_type": "code",
   "execution_count": 13,
   "metadata": {},
   "outputs": [],
   "source": [
    "import sys\n",
    "np.set_printoptions(threshold=sys.maxsize)"
   ]
  },
  {
   "cell_type": "code",
   "execution_count": 14,
   "metadata": {},
   "outputs": [
    {
     "name": "stdout",
     "output_type": "stream",
     "text": [
      "a= [20 30 40 50]\n",
      "b= [0 1 2 3]\n",
      "c=a-b= [20 29 38 47]\n",
      "b**2= [0 1 4 9]\n",
      "10*np.sin(a)= [ 9.12945251 -9.88031624  7.4511316  -2.62374854]\n",
      "a<35: [ True  True False False]\n"
     ]
    }
   ],
   "source": [
    "# 陣列上的算術運算元會應用到元素級別。下面是 建立新陣列並填滿結果\n",
    "a = np.array( [20,30,40,50] ); print(\"a=\",a)\n",
    "b = np.arange( 4 ); print(\"b=\",b)\n",
    "c = a-b; print(\"c=a-b=\",c)\n",
    "print(\"b**2=\",b**2)\n",
    "print(\"10*np.sin(a)=\",10*np.sin(a))\n",
    "print(\"a<35:\",a<35)"
   ]
  },
  {
   "cell_type": "code",
   "execution_count": 9,
   "metadata": {},
   "outputs": [
    {
     "name": "stdout",
     "output_type": "stream",
     "text": [
      "A * B=\n",
      "[[2 0]\n",
      " [0 4]]\n",
      "\n",
      "A @ B=\n",
      "[[5 4]\n",
      " [3 4]]\n",
      "\n",
      "A.dot(B)\n",
      "[[5 4]\n",
      " [3 4]]\n"
     ]
    }
   ],
   "source": [
    "# 矩陣乘積\n",
    "A = np.array([[1,1],[0,1]])\n",
    "B = np.array( [[2,0],[3,4]] )\n",
    "print(\"A * B=\", A * B,sep=\"\\n\") # elementwise product\n",
    "print(\"\\nA @ B=\", A @ B,sep=\"\\n\") # matrix product\n",
    "print(\"\\nA.dot(B)\", A.dot(B),sep=\"\\n\") #another matrix product "
   ]
  },
  {
   "cell_type": "code",
   "execution_count": 17,
   "metadata": {},
   "outputs": [
    {
     "name": "stdout",
     "output_type": "stream",
     "text": [
      "[[3 3 3]\n",
      " [3 3 3]]\n",
      "[[3.9836401  3.78282854 3.01525696]\n",
      " [3.28518701 3.42615116 3.48539531]]\n"
     ]
    },
    {
     "ename": "TypeError",
     "evalue": "Cannot cast ufunc add output from dtype('float64') to dtype('int32') with casting rule 'same_kind'",
     "output_type": "error",
     "traceback": [
      "\u001b[1;31m---------------------------------------------------------------------------\u001b[0m",
      "\u001b[1;31mTypeError\u001b[0m                                 Traceback (most recent call last)",
      "\u001b[1;32m<ipython-input-17-81ddb3ccba9b>\u001b[0m in \u001b[0;36m<module>\u001b[1;34m\u001b[0m\n\u001b[0;32m      5\u001b[0m \u001b[0mb\u001b[0m \u001b[1;33m+=\u001b[0m \u001b[0ma\u001b[0m\u001b[1;33m\u001b[0m\u001b[1;33m\u001b[0m\u001b[0m\n\u001b[0;32m      6\u001b[0m \u001b[0mprint\u001b[0m\u001b[1;33m(\u001b[0m\u001b[0mb\u001b[0m\u001b[1;33m)\u001b[0m\u001b[1;33m\u001b[0m\u001b[1;33m\u001b[0m\u001b[0m\n\u001b[1;32m----> 7\u001b[1;33m \u001b[0ma\u001b[0m \u001b[1;33m+=\u001b[0m \u001b[0mb\u001b[0m  \u001b[1;31m# b is not automatically converted to integer type\u001b[0m\u001b[1;33m\u001b[0m\u001b[1;33m\u001b[0m\u001b[0m\n\u001b[0m\u001b[0;32m      8\u001b[0m \u001b[0mprint\u001b[0m\u001b[1;33m(\u001b[0m\u001b[0ma\u001b[0m\u001b[1;33m)\u001b[0m\u001b[1;33m\u001b[0m\u001b[1;33m\u001b[0m\u001b[0m\n",
      "\u001b[1;31mTypeError\u001b[0m: Cannot cast ufunc add output from dtype('float64') to dtype('int32') with casting rule 'same_kind'"
     ]
    }
   ],
   "source": [
    "# 某些操作(例如+=和*=)會更直接更改被操作的矩 陣陣列而不會創建新矩陣陣列\n",
    "\n",
    "a = np.ones((2,3), dtype=int)\n",
    "b = np.random.random((2,3))\n",
    "a *= 3\n",
    "print(a)\n",
    "b += a\n",
    "print(b)\n",
    "a += b  # b is not automatically converted to integer type\n",
    "print(a)"
   ]
  },
  {
   "cell_type": "code",
   "execution_count": 11,
   "metadata": {},
   "outputs": [
    {
     "name": "stdout",
     "output_type": "stream",
     "text": [
      "b.dtype: float64\n",
      "c= [1.         2.57079633 4.14159265] \tc.dtype: float64\n",
      "[ 0.54030231+0.84147098j -0.84147098+0.54030231j -0.54030231-0.84147098j]\n",
      "complex128\n"
     ]
    }
   ],
   "source": [
    "# 當使用不同類型的陣列進行操作時，結果陣列的類型對應於更一般或更精確的陣列(稱為向上轉換的行為)\n",
    "\n",
    "a = np.ones(3, dtype=np.int32)\n",
    "b = np.linspace(0,pi,3)\n",
    "print(\"b.dtype:\",b.dtype)\n",
    "c = a+b\n",
    "print(\"c=\",c,\"\\tc.dtype:\",c.dtype)\n",
    "d = np.exp(c*1j)\n",
    "print(d)\n",
    "print(d.dtype)"
   ]
  },
  {
   "cell_type": "code",
   "execution_count": 19,
   "metadata": {},
   "outputs": [
    {
     "name": "stdout",
     "output_type": "stream",
     "text": [
      "[0 1 2]\n",
      "\n",
      "np.exp(B):\n",
      "[1.         2.71828183 7.3890561 ]\n",
      "\n",
      "np.sqrt(B):\n",
      "[0.         1.         1.41421356]\n",
      "\n",
      "np.add(B, C):\n",
      "[2. 0. 6.]\n"
     ]
    }
   ],
   "source": [
    "B = np.arange(3)\n",
    "print(B)\n",
    "print(\"\\nnp.exp(B):\",np.exp(B),sep=\"\\n\")\n",
    "print(\"\\nnp.sqrt(B):\",np.sqrt(B),sep=\"\\n\")\n",
    "C = np.array([2., -1., 4.])\n",
    "print(\"\\nnp.add(B, C):\",np.add(B, C),sep=\"\\n\")"
   ]
  },
  {
   "cell_type": "code",
   "execution_count": 20,
   "metadata": {},
   "outputs": [
    {
     "name": "stdout",
     "output_type": "stream",
     "text": [
      "[[0.18024554 0.94659664 0.2557115 ]\n",
      " [0.83032893 0.93321598 0.78095927]]\n",
      "a.sum()= 3.927057861803295\n",
      "a.min()= 0.1802455367799911\n",
      "a.max()= 0.9465966357709371\n"
     ]
    }
   ],
   "source": [
    "# 許多一維陣列運算，例如計算陣列中所有元素的 總和，都是以ndarray類別方法實現的。 \n",
    "# the sum of six numbers\n",
    "\n",
    "a = np.random.random((2,3))\n",
    "print(a)\n",
    "print(\"a.sum()=\",a.sum())\n",
    "print(\"a.min()=\",a.min())\n",
    "print(\"a.max()=\",a.max())"
   ]
  },
  {
   "cell_type": "code",
   "execution_count": 22,
   "metadata": {},
   "outputs": [
    {
     "name": "stdout",
     "output_type": "stream",
     "text": [
      "[[ 0  1  2  3]\n",
      " [ 4  5  6  7]\n",
      " [ 8  9 10 11]]\n",
      "b.sum(axis=0): [12 15 18 21]\n",
      "b.min(axis=1): [0 4 8]\n",
      "b.cumsum(axis=0):\n",
      "[[ 0  1  2  3]\n",
      " [ 4  6  8 10]\n",
      " [12 15 18 21]]\n",
      "b.cumsum(axis=1):\n",
      "[[ 0  1  3  6]\n",
      " [ 4  9 15 22]\n",
      " [ 8 17 27 38]]\n"
     ]
    }
   ],
   "source": [
    "# 預設這些操作適用於1D陣列,就像list清單一樣， 無論其形狀如何。但透過指定axis參數,可以沿多維陣列的指定軸進行操作： \n",
    "\n",
    "b = np.arange(12).reshape(3,4)\n",
    "print(b)\n",
    "print(\"b.sum(axis=0):\",b.sum(axis=0)) # sum of each column\n",
    "print(\"b.min(axis=1):\",b.min(axis=1)) # min of each row\n",
    "print(\"b.cumsum(axis=0):\",b.cumsum(axis=0),sep=\"\\n\")  #累積加總\n",
    "print(\"b.cumsum(axis=1):\",b.cumsum(axis=1),sep=\"\\n\")   "
   ]
  },
  {
   "cell_type": "code",
   "execution_count": 23,
   "metadata": {},
   "outputs": [
    {
     "name": "stdout",
     "output_type": "stream",
     "text": [
      "a= [10 20 30 40]\n",
      "b= [0 1 2 3]\n",
      "a-b= [10 19 28 37]\n",
      "a+b= [10 21 32 43]\n",
      "a*b= [  0  20  60 120]\n",
      "b**2= [0 1 4 9]\n",
      "10*np.sin(a)= [-5.44021111  9.12945251 -9.88031624  7.4511316 ]\n",
      "b<3= [ True  True  True False]\n"
     ]
    }
   ],
   "source": [
    "# Numpy的幾種基本運算 \n",
    "\n",
    "a = np.array([10,20,30,40])\n",
    "b = np.arange(4)\n",
    "print(\"a=\",a)\n",
    "print(\"b=\",b)\n",
    "c = a-b\n",
    "print(\"a-b=\",c)\n",
    "c = a+b\n",
    "print(\"a+b=\",c)\n",
    "c = a*b\n",
    "print(\"a*b=\",c)\n",
    "c = b**2\n",
    "print(\"b**2=\",c)\n",
    "c = 10*np.sin(a)\n",
    "print(\"10*np.sin(a)=\",c)\n",
    "print(\"b<3=\",b<3)"
   ]
  },
  {
   "cell_type": "code",
   "execution_count": 21,
   "metadata": {},
   "outputs": [
    {
     "name": "stdout",
     "output_type": "stream",
     "text": [
      "a=\n",
      "[[1 1]\n",
      " [0 1]]\n",
      "b=\n",
      "[[0 1]\n",
      " [2 3]]\n",
      "np.dot(a,b)=\n",
      "[[2 4]\n",
      " [2 3]]\n",
      "a.dot(b)=\n",
      "[[2 4]\n",
      " [2 3]]\n",
      "np.sum(b)= 6\n",
      "np.min(b)= 0\n",
      "np.max(b)= 3\n"
     ]
    }
   ],
   "source": [
    "# Numpy的幾種基本運算 \n",
    "\n",
    "a = np.array([[1,1],[0,1]])\n",
    "print(\"a=\",a,sep=\"\\n\")\n",
    "b = np.arange(4).reshape((2,2))\n",
    "print(\"b=\",b,sep=\"\\n\")\n",
    "c_dot = np.dot(a,b)\n",
    "print(\"np.dot(a,b)=\",c_dot,sep=\"\\n\")\n",
    "c_dot_2 = a.dot(b)\n",
    "print(\"a.dot(b)=\",c_dot_2,sep=\"\\n\")\n",
    "print(\"np.sum(b)=\",np.sum(b))\n",
    "print(\"np.min(b)=\",np.min(b))\n",
    "print(\"np.max(b)=\",np.max(b))"
   ]
  },
  {
   "cell_type": "code",
   "execution_count": 24,
   "metadata": {},
   "outputs": [
    {
     "name": "stdout",
     "output_type": "stream",
     "text": [
      "b=\n",
      "[0 1 2 3]\n"
     ]
    },
    {
     "ename": "AxisError",
     "evalue": "axis 1 is out of bounds for array of dimension 1",
     "output_type": "error",
     "traceback": [
      "\u001b[1;31m---------------------------------------------------------------------------\u001b[0m",
      "\u001b[1;31mAxisError\u001b[0m                                 Traceback (most recent call last)",
      "\u001b[1;32m<ipython-input-24-8cd77de718b5>\u001b[0m in \u001b[0;36m<module>\u001b[1;34m\u001b[0m\n\u001b[0;32m      1\u001b[0m \u001b[0mprint\u001b[0m\u001b[1;33m(\u001b[0m\u001b[1;34m\"b=\"\u001b[0m\u001b[1;33m,\u001b[0m\u001b[0mb\u001b[0m\u001b[1;33m,\u001b[0m\u001b[0msep\u001b[0m\u001b[1;33m=\u001b[0m\u001b[1;34m\"\\n\"\u001b[0m\u001b[1;33m)\u001b[0m\u001b[1;33m\u001b[0m\u001b[1;33m\u001b[0m\u001b[0m\n\u001b[1;32m----> 2\u001b[1;33m \u001b[0mprint\u001b[0m\u001b[1;33m(\u001b[0m\u001b[1;34m\"np.sum(b,axis=1)=\"\u001b[0m\u001b[1;33m,\u001b[0m\u001b[0mnp\u001b[0m\u001b[1;33m.\u001b[0m\u001b[0msum\u001b[0m\u001b[1;33m(\u001b[0m\u001b[0mb\u001b[0m\u001b[1;33m,\u001b[0m\u001b[0maxis\u001b[0m\u001b[1;33m=\u001b[0m\u001b[1;36m1\u001b[0m\u001b[1;33m)\u001b[0m\u001b[1;33m)\u001b[0m\u001b[1;33m\u001b[0m\u001b[1;33m\u001b[0m\u001b[0m\n\u001b[0m\u001b[0;32m      3\u001b[0m \u001b[0mprint\u001b[0m\u001b[1;33m(\u001b[0m\u001b[1;34m\"np.min(b,axis=0)=\"\u001b[0m\u001b[1;33m,\u001b[0m\u001b[0mnp\u001b[0m\u001b[1;33m.\u001b[0m\u001b[0mmin\u001b[0m\u001b[1;33m(\u001b[0m\u001b[0mb\u001b[0m\u001b[1;33m,\u001b[0m\u001b[0maxis\u001b[0m\u001b[1;33m=\u001b[0m\u001b[1;36m0\u001b[0m\u001b[1;33m)\u001b[0m\u001b[1;33m)\u001b[0m\u001b[1;33m\u001b[0m\u001b[1;33m\u001b[0m\u001b[0m\n\u001b[0;32m      4\u001b[0m \u001b[0mprint\u001b[0m\u001b[1;33m(\u001b[0m\u001b[1;34m\"np.max(b,axis=1)=\"\u001b[0m\u001b[1;33m,\u001b[0m\u001b[0mnp\u001b[0m\u001b[1;33m.\u001b[0m\u001b[0mmax\u001b[0m\u001b[1;33m(\u001b[0m\u001b[0mb\u001b[0m\u001b[1;33m,\u001b[0m\u001b[0maxis\u001b[0m\u001b[1;33m=\u001b[0m\u001b[1;36m1\u001b[0m\u001b[1;33m)\u001b[0m\u001b[1;33m)\u001b[0m\u001b[1;33m\u001b[0m\u001b[1;33m\u001b[0m\u001b[0m\n",
      "\u001b[1;32m~\\Anaconda3\\lib\\site-packages\\numpy\\core\\fromnumeric.py\u001b[0m in \u001b[0;36msum\u001b[1;34m(a, axis, dtype, out, keepdims, initial)\u001b[0m\n\u001b[0;32m   2074\u001b[0m \u001b[1;33m\u001b[0m\u001b[0m\n\u001b[0;32m   2075\u001b[0m     return _wrapreduction(a, np.add, 'sum', axis, dtype, out, keepdims=keepdims,\n\u001b[1;32m-> 2076\u001b[1;33m                           initial=initial)\n\u001b[0m\u001b[0;32m   2077\u001b[0m \u001b[1;33m\u001b[0m\u001b[0m\n\u001b[0;32m   2078\u001b[0m \u001b[1;33m\u001b[0m\u001b[0m\n",
      "\u001b[1;32m~\\Anaconda3\\lib\\site-packages\\numpy\\core\\fromnumeric.py\u001b[0m in \u001b[0;36m_wrapreduction\u001b[1;34m(obj, ufunc, method, axis, dtype, out, **kwargs)\u001b[0m\n\u001b[0;32m     84\u001b[0m                 \u001b[1;32mreturn\u001b[0m \u001b[0mreduction\u001b[0m\u001b[1;33m(\u001b[0m\u001b[0maxis\u001b[0m\u001b[1;33m=\u001b[0m\u001b[0maxis\u001b[0m\u001b[1;33m,\u001b[0m \u001b[0mout\u001b[0m\u001b[1;33m=\u001b[0m\u001b[0mout\u001b[0m\u001b[1;33m,\u001b[0m \u001b[1;33m**\u001b[0m\u001b[0mpasskwargs\u001b[0m\u001b[1;33m)\u001b[0m\u001b[1;33m\u001b[0m\u001b[1;33m\u001b[0m\u001b[0m\n\u001b[0;32m     85\u001b[0m \u001b[1;33m\u001b[0m\u001b[0m\n\u001b[1;32m---> 86\u001b[1;33m     \u001b[1;32mreturn\u001b[0m \u001b[0mufunc\u001b[0m\u001b[1;33m.\u001b[0m\u001b[0mreduce\u001b[0m\u001b[1;33m(\u001b[0m\u001b[0mobj\u001b[0m\u001b[1;33m,\u001b[0m \u001b[0maxis\u001b[0m\u001b[1;33m,\u001b[0m \u001b[0mdtype\u001b[0m\u001b[1;33m,\u001b[0m \u001b[0mout\u001b[0m\u001b[1;33m,\u001b[0m \u001b[1;33m**\u001b[0m\u001b[0mpasskwargs\u001b[0m\u001b[1;33m)\u001b[0m\u001b[1;33m\u001b[0m\u001b[1;33m\u001b[0m\u001b[0m\n\u001b[0m\u001b[0;32m     87\u001b[0m \u001b[1;33m\u001b[0m\u001b[0m\n\u001b[0;32m     88\u001b[0m \u001b[1;33m\u001b[0m\u001b[0m\n",
      "\u001b[1;31mAxisError\u001b[0m: axis 1 is out of bounds for array of dimension 1"
     ]
    }
   ],
   "source": [
    "print(\"b=\",b,sep=\"\\n\")\n",
    "print(\"np.sum(b,axis=1)=\",np.sum(b,axis=1))\n",
    "print(\"np.min(b,axis=0)=\",np.min(b,axis=0))\n",
    "print(\"np.max(b,axis=1)=\",np.max(b,axis=1))"
   ]
  },
  {
   "cell_type": "code",
   "execution_count": 25,
   "metadata": {},
   "outputs": [
    {
     "name": "stdout",
     "output_type": "stream",
     "text": [
      "A=\n",
      "[[ 2  3  4  5]\n",
      " [ 6  7  8  9]\n",
      " [10 11 12 13]]\n",
      "np.argmin(A)= 0\n",
      "np.argmax(A)= 11\n"
     ]
    }
   ],
   "source": [
    "A = np.arange(2,14).reshape((3,4)) \n",
    "print(\"A=\",A,sep=\"\\n\")\n",
    "print(\"np.argmin(A)=\",np.argmin(A))\n",
    "print(\"np.argmax(A)=\",np.argmax(A))"
   ]
  },
  {
   "cell_type": "code",
   "execution_count": 26,
   "metadata": {},
   "outputs": [
    {
     "name": "stdout",
     "output_type": "stream",
     "text": [
      "A=\n",
      "[[ 2  3  4  5]\n",
      " [ 6  7  8  9]\n",
      " [10 11 12 13]]\n",
      "np.argmin(A)= 0\n",
      "np.argmax(A)= 11\n",
      "np.mean(A)= 7.5\n",
      "A.mean()= 7.5\n",
      "np.average(A)= 7.5\n",
      "np.median(A)= 7.5\n",
      "np.cumsum(A)= [ 2  5  9 14 20 27 35 44 54 65 77 90]\n",
      "np.diff(A)=\n",
      "[[1 1 1]\n",
      " [1 1 1]\n",
      " [1 1 1]]\n"
     ]
    }
   ],
   "source": [
    "A = np.arange(2,14).reshape((3,4)) \n",
    "print(\"A=\",A,sep=\"\\n\")\n",
    "print(\"np.argmin(A)=\",np.argmin(A))\n",
    "print(\"np.argmax(A)=\",np.argmax(A))\n",
    "print(\"np.mean(A)=\",np.mean(A))\n",
    "print(\"A.mean()=\",A.mean())\n",
    "print(\"np.average(A)=\",np.average(A))\n",
    "#print(\"A.average()=\",A.average())\n",
    "print(\"np.median(A)=\",np.median(A))    \n",
    "#print(\"A.median()=\",A.median())\n",
    "print(\"np.cumsum(A)=\",np.cumsum(A)) \n",
    "print(\"np.diff(A)=\",np.diff(A),sep=\"\\n\") "
   ]
  },
  {
   "cell_type": "code",
   "execution_count": 27,
   "metadata": {},
   "outputs": [
    {
     "name": "stdout",
     "output_type": "stream",
     "text": [
      "a= [  0   1   8  27  64 125 216 343 512 729]\n",
      "a[2]= 8\n",
      "a[2:5]= [ 8 27 64]\n",
      "a= [-1000     1 -1000    27 -1000   125   216   343   512   729]\n",
      "a[ : :-1]= [  729   512   343   216   125 -1000    27 -1000     1 -1000]\n",
      "a= [-1000     1 -1000    27 -1000   125   216   343   512   729]\n",
      "nan\n",
      "1.0\n",
      "nan\n",
      "3.0\n",
      "nan\n",
      "5.0\n",
      "5.999999999999999\n",
      "6.999999999999999\n",
      "7.999999999999999\n",
      "8.999999999999998\n"
     ]
    },
    {
     "name": "stderr",
     "output_type": "stream",
     "text": [
      "C:\\Users\\T30518\\Anaconda3\\lib\\site-packages\\ipykernel_launcher.py:10: RuntimeWarning: invalid value encountered in power\n",
      "  # Remove the CWD from sys.path while we load stuff.\n"
     ]
    }
   ],
   "source": [
    "a = np.arange(10)**3\n",
    "print(\"a=\",a)\n",
    "print(\"a[2]=\",a[2])\n",
    "print(\"a[2:5]=\",a[2:5])\n",
    "a[:6:2] = -1000 # equivalent to a[0:6:2] = -1000; from start to position 6, exclusive, set every 2nd element to -1000\n",
    "print(\"a=\",a)\n",
    "print(\"a[ : :-1]=\",a[ : :-1]) # reversed a\n",
    "print(\"a=\",a)\n",
    "for i in a:\n",
    "    print(i**(1/3.))"
   ]
  },
  {
   "cell_type": "code",
   "execution_count": 28,
   "metadata": {},
   "outputs": [
    {
     "name": "stdout",
     "output_type": "stream",
     "text": [
      "b=\n",
      "[[ 0  1  2  3]\n",
      " [10 11 12 13]\n",
      " [20 21 22 23]\n",
      " [30 31 32 33]\n",
      " [40 41 42 43]]\n",
      "b[2,3]= 23\n",
      "b[0:5, 1]= [ 1 11 21 31 41]\n",
      "b[ : ,1]= [ 1 11 21 31 41]\n",
      "b[1:3, : ]=\n",
      "[[10 11 12 13]\n",
      " [20 21 22 23]]\n",
      "b[-1]= [40 41 42 43]\n"
     ]
    }
   ],
   "source": [
    "def f(x,y):\n",
    "    return 10*x+y\n",
    "b = np.fromfunction(f,(5,4),dtype=int)\n",
    "print(\"b=\",b,sep=\"\\n\")\n",
    "print(\"b[2,3]=\",b[2,3])\n",
    "print(\"b[0:5, 1]=\",b[0:5, 1]) # each row in the second column of b\n",
    "print(\"b[ : ,1]=\",b[ : ,1]) # equivalent to the previous example\n",
    "print(\"b[1:3, : ]=\",b[1:3, : ],sep=\"\\n\") # each column in the second and third row of b\n",
    "print(\"b[-1]=\",b[-1]) # the last row. Equivalent to b[-1,:]"
   ]
  },
  {
   "cell_type": "code",
   "execution_count": null,
   "metadata": {},
   "outputs": [],
   "source": [
    "c = np.array( [[[  0,  1,  2],   # a 3D array (two stacked 2D arrays)\n",
    "                [ 10, 12, 13]],\n",
    "               [[100,101,102],\n",
    "                [110,112,113]]])\n",
    "print(\"c.shape=\",c.shape)\n",
    "print(c[1,...]) # same as c[1,:,:] or c[1]\n",
    "print(c[...,2]) # same as c[:,:,2]"
   ]
  },
  {
   "cell_type": "code",
   "execution_count": null,
   "metadata": {},
   "outputs": [],
   "source": [
    "for row in b:\n",
    "    print(row)"
   ]
  },
  {
   "cell_type": "code",
   "execution_count": null,
   "metadata": {},
   "outputs": [],
   "source": [
    "for element in b.flat:\n",
    "    print(element)"
   ]
  },
  {
   "cell_type": "code",
   "execution_count": null,
   "metadata": {},
   "outputs": [],
   "source": [
    "A = np.arange(3,15) # array([3,4,5,…,12,13,14])\n",
    "print(A[3]) # 6\n",
    "B = np.arange(3,15).reshape((3,4))\n",
    "print(B)\n",
    "print(B[2]) # [11,12,13,14]\n",
    "print(B[1][1]) # 8\n",
    "print(B[1,1]) # 8\n",
    "print(B[1,1:3]) # [8,9]\n",
    "for row in B: # 逐列迴圈\n",
    "    print(row)\n",
    "for column in B.T: # 逐行迴圈\n",
    "    print(column)\n",
    "for item in B.flat: # 逐元素迴圈\n",
    "    print(item)"
   ]
  },
  {
   "cell_type": "code",
   "execution_count": null,
   "metadata": {},
   "outputs": [],
   "source": [
    "a = np.floor(10*np.random.random((3,4)))\n",
    "print(\"a=\",a,sep=\"\\n\")\n",
    "print(\"a.shape=\",a.shape)"
   ]
  },
  {
   "cell_type": "code",
   "execution_count": null,
   "metadata": {},
   "outputs": [],
   "source": [
    "print(\"a.ravel():\",a.ravel()) # returns the array, flattened\n",
    "print(\"a.reshape(6,2):\",a.reshape(6,2),sep=\"\\n\")  # returns the array with a modified shape\n",
    "print(\"a.T:\",a.T,sep=\"\\n\") # returns the array, transposed\n",
    "print(\"a.T.shape:\",a.T.shape)\n",
    "print(\"a.shape:\",a.shape)"
   ]
  },
  {
   "cell_type": "code",
   "execution_count": null,
   "metadata": {},
   "outputs": [],
   "source": [
    "print(\"a=\",a,sep=\"\\n\")\n",
    "a.resize((2,6))\n",
    "print(\"a=\",a,sep=\"\\n\")"
   ]
  },
  {
   "cell_type": "code",
   "execution_count": null,
   "metadata": {},
   "outputs": [],
   "source": [
    "print(\"a.reshape(3,-1):\",a.reshape(3,-1),sep=\"\\n\") \n",
    "print(\"a.reshape(-1,3):\",a.reshape(-1,3),sep=\"\\n\")"
   ]
  },
  {
   "cell_type": "code",
   "execution_count": null,
   "metadata": {},
   "outputs": [],
   "source": [
    "a = np.floor(10*np.random.random((2,2)))\n",
    "print(\"a=\",a,sep=\"\\n\")\n",
    "b = np.floor(10*np.random.random((2,2)))\n",
    "print(\"b=\",b,sep=\"\\n\")\n",
    "c = np.vstack((a,b))\n",
    "print(\"c\",c,sep=\"\\n\")\n",
    "d = np.hstack((a,b))\n",
    "print(\"d\",d,sep=\"\\n\")"
   ]
  },
  {
   "cell_type": "code",
   "execution_count": null,
   "metadata": {},
   "outputs": [],
   "source": [
    "e = np.column_stack((a,b)) # with 2D arrays\n",
    "print(\"e\",e,sep=\"\\n\")\n",
    "a = np.array([4.,2.])\n",
    "b = np.array([3.,8.])\n",
    "f=np.column_stack((a,b)) \n",
    "print(\"f\",f,sep=\"\\n\")"
   ]
  },
  {
   "cell_type": "code",
   "execution_count": null,
   "metadata": {},
   "outputs": [],
   "source": [
    "import numpy as np\n",
    "A = np.array([1,1,1])\n",
    "B = np.array([2,2,2])\n",
    "C = np.vstack((A,B)) # vertical stack   \n",
    "print(C)\n",
    "print(A.shape,C.shape)"
   ]
  },
  {
   "cell_type": "code",
   "execution_count": null,
   "metadata": {},
   "outputs": [],
   "source": [
    "D = np.hstack((A,B))       # horizontal stack\n",
    "print(D)\n",
    "print(A.shape,D.shape)"
   ]
  },
  {
   "cell_type": "code",
   "execution_count": null,
   "metadata": {},
   "outputs": [],
   "source": [
    "print(A.shape)\n",
    "print(A)\n",
    "print(A.T)\n",
    "E=A[np.newaxis,:]\n",
    "print(E.shape)\n",
    "print(E)\n",
    "print(E.T)"
   ]
  },
  {
   "cell_type": "code",
   "execution_count": null,
   "metadata": {},
   "outputs": [],
   "source": [
    "A=A[np.newaxis,:]\n",
    "B=B[np.newaxis,:]\n",
    "C = np.concatenate((A,B,B,A),axis=0)\n",
    "print(C)\n",
    "D = np.concatenate((A,B,B,A),axis=1)\n",
    "print(D)"
   ]
  },
  {
   "cell_type": "code",
   "execution_count": null,
   "metadata": {},
   "outputs": [],
   "source": [
    "A = np.arange(12).reshape((3, 4))\n",
    "print(np.split(A, 2, axis=1))"
   ]
  },
  {
   "cell_type": "code",
   "execution_count": null,
   "metadata": {},
   "outputs": [],
   "source": [
    "print(np.split(A, 3, axis=0))"
   ]
  },
  {
   "cell_type": "code",
   "execution_count": null,
   "metadata": {},
   "outputs": [],
   "source": [
    "print(np.split(A, 3, axis=1))"
   ]
  },
  {
   "cell_type": "code",
   "execution_count": null,
   "metadata": {},
   "outputs": [],
   "source": [
    "print(np.array_split(A, 3, axis=1))"
   ]
  },
  {
   "cell_type": "code",
   "execution_count": null,
   "metadata": {},
   "outputs": [],
   "source": [
    "print(np.vsplit(A, 3)) #等於 print(np.split(A, 3, axis=0))\n",
    "print(np.hsplit(A, 2)) #等於 print(np.split(A, 2, axis=1))"
   ]
  },
  {
   "cell_type": "code",
   "execution_count": null,
   "metadata": {},
   "outputs": [],
   "source": [
    "a = np.arange(12)\n",
    "b = a # no new object is created\n",
    "print(b is a) # a and b are two names for the same ndarray object\n",
    "b.shape = 3,4    # changes the shape of a\n",
    "print(\"a.shape:\",a.shape)"
   ]
  },
  {
   "cell_type": "code",
   "execution_count": null,
   "metadata": {},
   "outputs": [],
   "source": [
    "def f(x):\n",
    "    print(\"call, id(x)=\",id(x))\n",
    "    x[0,0]=9\n",
    "    print(\"call,change value, id(x)=\",id(x))\n",
    "    x=123\n",
    "    print(\"call,change type, id(x)=\",id(x))  \n",
    "print(\"before call, a=\",a,sep=\"\\n\")\n",
    "print(\"before call, id(a)=\",id(a)) # id is a unique identifier of an object\n",
    "f(a)\n",
    "print(\"after call, a=\",a,sep=\"\\n\")\n",
    "print(\"after call, id(a)=\",id(a))"
   ]
  },
  {
   "cell_type": "code",
   "execution_count": null,
   "metadata": {},
   "outputs": [],
   "source": [
    "c = a.view()\n",
    "print(c is a)\n",
    "print(c.base is a) # c is a view of the data owned by a\n",
    "print(c.flags.owndata)\n",
    "c.shape = 2,6 # a's shape doesn't change\n",
    "print(a.shape)\n",
    "c[0,4] = 1234 # a's data changes\n",
    "print(a)"
   ]
  },
  {
   "cell_type": "code",
   "execution_count": null,
   "metadata": {},
   "outputs": [],
   "source": [
    "s = a[:,1:3] # spaces added for clarity; could also be written \"s = a[:,1:3]\"\n",
    "s[:] = 10 # s[:] is a view of s. Note the difference between s=10 and s[:]=10\n",
    "print(a)"
   ]
  },
  {
   "cell_type": "code",
   "execution_count": null,
   "metadata": {},
   "outputs": [],
   "source": [
    "d = a.copy() # a new array object with new data is created\n",
    "print(d is a)\n",
    "print(d.base is a) # d doesn't share anything with a\n",
    "d[0,0] = 9999\n",
    "print(a)"
   ]
  },
  {
   "cell_type": "code",
   "execution_count": null,
   "metadata": {},
   "outputs": [],
   "source": [
    "a = np.arange(int(1e8))\n",
    "b = a[:100].copy()\n",
    "del a # the memory of ``a`` can be released."
   ]
  },
  {
   "cell_type": "code",
   "execution_count": null,
   "metadata": {},
   "outputs": [],
   "source": [
    "a = np.arange(4)\n",
    "b = a;c = a;d = b\n",
    "d[0] = 11; print(a)\n",
    "print(b is a, c is a, d is a, c is b, d is b, d is c)"
   ]
  },
  {
   "cell_type": "code",
   "execution_count": null,
   "metadata": {},
   "outputs": [],
   "source": [
    "b = a.copy()    # deep copy\n",
    "print(b)        # array([11  1  2  3])\n",
    "a[3] = 44\n",
    "print(a)        # array([11  1  2  44])\n",
    "print(b)        # array([11  1  2  3])"
   ]
  },
  {
   "cell_type": "code",
   "execution_count": null,
   "metadata": {},
   "outputs": [],
   "source": [
    "a = np.arange(12)**2\n",
    "i = np.array([1,1,3,8,5])\n",
    "print(a[i])\n",
    "j = np.array([[3,4],[9,7]])\n",
    "print(a[j])"
   ]
  },
  {
   "cell_type": "code",
   "execution_count": null,
   "metadata": {},
   "outputs": [],
   "source": [
    "a = np.array([[1.0, 2.0], [3.0, 4.0]])\n",
    "print(a)\n",
    "print(a.transpose())\n",
    "print(np.linalg.inv(a))\n",
    "u = np.eye(2) # unit 2x2 matrix; \"eye\" represents \"I\"\n",
    "print(u)\n",
    "j = np.array([[0.0, -1.0], [1.0, 0.0]])\n",
    "print(j @ j) # matrix product\n",
    "np.trace(u) # trace\n",
    "y = np.array([[5.], [7.]])\n",
    "np.linalg.solve(a, y)\n",
    "np.linalg.eig(j)"
   ]
  }
 ],
 "metadata": {
  "kernelspec": {
   "display_name": "Python 3",
   "language": "python",
   "name": "python3"
  },
  "language_info": {
   "codemirror_mode": {
    "name": "ipython",
    "version": 3
   },
   "file_extension": ".py",
   "mimetype": "text/x-python",
   "name": "python",
   "nbconvert_exporter": "python",
   "pygments_lexer": "ipython3",
   "version": "3.7.3"
  }
 },
 "nbformat": 4,
 "nbformat_minor": 4
}
