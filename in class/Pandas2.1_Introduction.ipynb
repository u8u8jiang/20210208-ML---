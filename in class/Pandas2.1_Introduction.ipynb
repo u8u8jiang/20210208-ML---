{
 "cells": [
  {
   "cell_type": "code",
   "execution_count": 1,
   "metadata": {},
   "outputs": [
    {
     "name": "stdout",
     "output_type": "stream",
     "text": [
      "0    20\n",
      "1    10\n",
      "2    15\n",
      "dtype: int64\n"
     ]
    }
   ],
   "source": [
    "#載入pandas模組\n",
    "import pandas as pd\n",
    "#建立Series\n",
    "data = pd.Series([20, 10, 15])\n",
    "#基本Series操作\n",
    "print(data)#列印Series資料"
   ]
  },
  {
   "cell_type": "code",
   "execution_count": 2,
   "metadata": {},
   "outputs": [
    {
     "name": "stdout",
     "output_type": "stream",
     "text": [
      "Max 20\n",
      "\n",
      "Median 15.0\n",
      "\n",
      "data*2:\n",
      "0    40\n",
      "1    20\n",
      "2    30\n",
      "dtype: int64\n"
     ]
    }
   ],
   "source": [
    "print (\"Max\", data.max())#顯示最大值\n",
    "print(\"\\nMedian\", data.median())#顯示中間值\n",
    "data=data*2\n",
    "print(\"\\ndata*2:\",data, sep=\"\\n\")#Series所有資料*2"
   ]
  },
  {
   "cell_type": "code",
   "execution_count": 3,
   "metadata": {},
   "outputs": [
    {
     "name": "stdout",
     "output_type": "stream",
     "text": [
      "0    False\n",
      "1     True\n",
      "2    False\n",
      "dtype: bool\n"
     ]
    }
   ],
   "source": [
    "data = data==20  #一個\"=\"指派，兩個\"=\"運算符號，條件篩選\n",
    "print(data)#顯示判斷結果"
   ]
  },
  {
   "cell_type": "code",
   "execution_count": 4,
   "metadata": {},
   "outputs": [
    {
     "name": "stdout",
     "output_type": "stream",
     "text": [
      "  name  salary\n",
      "0  May   30000\n",
      "1  Lin   60000\n",
      "2  Bob   50000\n"
     ]
    }
   ],
   "source": [
    "#建立DataFrame\n",
    "data=pd.DataFrame({\n",
    "    \"name\":[\"May\", \"Lin\", \"Bob\"],\n",
    "    \"salary\":[30000, 60000, 50000] \n",
    "})\n",
    "print(data)#列印DataFrame資料"
   ]
  },
  {
   "cell_type": "code",
   "execution_count": 5,
   "metadata": {},
   "outputs": [
    {
     "name": "stdout",
     "output_type": "stream",
     "text": [
      "0    30000\n",
      "1    60000\n",
      "2    50000\n",
      "Name: salary, dtype: int64\n"
     ]
    }
   ],
   "source": [
    "#基本DataFrame操作 \n",
    "#取得特定的攔位\n",
    "print(data[\"salary\"])#列印\"salary\"欄位"
   ]
  },
  {
   "cell_type": "code",
   "execution_count": 6,
   "metadata": {},
   "outputs": [
    {
     "name": "stdout",
     "output_type": "stream",
     "text": [
      "name        Lin\n",
      "salary    60000\n",
      "Name: 1, dtype: object\n"
     ]
    }
   ],
   "source": [
    "#取得特定的列\n",
    "print(data.iloc[1]) #印出第二列 i-locate"
   ]
  },
  {
   "cell_type": "code",
   "execution_count": null,
   "metadata": {},
   "outputs": [],
   "source": []
  }
 ],
 "metadata": {
  "kernelspec": {
   "display_name": "Python 3",
   "language": "python",
   "name": "python3"
  },
  "language_info": {
   "codemirror_mode": {
    "name": "ipython",
    "version": 3
   },
   "file_extension": ".py",
   "mimetype": "text/x-python",
   "name": "python",
   "nbconvert_exporter": "python",
   "pygments_lexer": "ipython3",
   "version": "3.7.3"
  }
 },
 "nbformat": 4,
 "nbformat_minor": 4
}
