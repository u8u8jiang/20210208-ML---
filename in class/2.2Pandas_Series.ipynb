{
 "cells": [
  {
   "cell_type": "code",
   "execution_count": 4,
   "metadata": {},
   "outputs": [
    {
     "name": "stdout",
     "output_type": "stream",
     "text": [
      "0    5\n",
      "1    4\n",
      "2   -2\n",
      "3    3\n",
      "4    7\n",
      "dtype: int64\n"
     ]
    }
   ],
   "source": [
    "#載入pandas模組\n",
    "import pandas as pd\n",
    "#資料索引(內建)\n",
    "data=pd.Series([5, 4, -2, 3, 7])\n",
    "print(data)"
   ]
  },
  {
   "cell_type": "code",
   "execution_count": 6,
   "metadata": {},
   "outputs": [
    {
     "name": "stdout",
     "output_type": "stream",
     "text": [
      "a    5\n",
      "b    4\n",
      "c   -2\n",
      "d    3\n",
      "e    7\n",
      "dtype: int64\n"
     ]
    }
   ],
   "source": [
    "#資料索引(自訂[\"a\",\"b\",\"c\",\"d\",\"e\"])\n",
    "data=pd.Series([5, 4, -2, 3, 7],index=[\"a\",\"b\",\"c\",\"d\",\"e\"])\n",
    "print(data)"
   ]
  },
  {
   "cell_type": "code",
   "execution_count": 7,
   "metadata": {},
   "outputs": [
    {
     "name": "stdout",
     "output_type": "stream",
     "text": [
      "資料型態: int64\n",
      "資料數量: 5\n",
      "資料索引: Index(['a', 'b', 'c', 'd', 'e'], dtype='object')\n"
     ]
    }
   ],
   "source": [
    "#觀察資料 \n",
    "print(\"資料型態:\", data.dtype)\n",
    "print(\"資料數量:\", data.size)\n",
    "print(\"資料索引:\", data.index)"
   ]
  },
  {
   "cell_type": "code",
   "execution_count": 8,
   "metadata": {},
   "outputs": [
    {
     "name": "stdout",
     "output_type": "stream",
     "text": [
      "a    5\n",
      "b    4\n",
      "c   -2\n",
      "d    3\n",
      "e    7\n",
      "dtype: int64 \n",
      "==============\n",
      "data[2]: -2 \tdata[0]: 5\n",
      "data[e]: 7 \tdata[d]: 3\n"
     ]
    }
   ],
   "source": [
    "#取得資料：根據順序、根據索引 \n",
    "print(data,\"\\n==============\")\n",
    "print(\"data[2]:\",data[2],\"\\tdata[0]:\",data[0])   #\\t:jump\n",
    "print(\"data[e]:\",data[\"e\"],\"\\tdata[d]:\",data[\"d\"])"
   ]
  },
  {
   "cell_type": "code",
   "execution_count": 10,
   "metadata": {},
   "outputs": [
    {
     "name": "stdout",
     "output_type": "stream",
     "text": [
      "a    5\n",
      "b    4\n",
      "c   -2\n",
      "d    3\n",
      "e    7\n",
      "dtype: int64 \n",
      "==============\n",
      "最大值: 7\n",
      "最小值: -2\n",
      "總和: 17\n",
      "乘積: -840\n",
      "平均值: 3.4\n",
      "標準差: 3.361547262794322\n",
      "中位數: 4.0\n"
     ]
    }
   ],
   "source": [
    "#數字運算：基本、統計、順序 \n",
    "print(data,\"\\n==============\")\n",
    "print(\"最大值:\", data.max())\n",
    "print(\"最小值:\", data.min())\n",
    "print(\"總和:\", data.sum())\n",
    "print(\"乘積:\", data.prod())\n",
    "print(\"平均值:\", data.mean())\n",
    "print(\"標準差:\", data.std())\n",
    "print(\"中位數:\", data.median())"
   ]
  },
  {
   "cell_type": "code",
   "execution_count": 11,
   "metadata": {},
   "outputs": [
    {
     "name": "stdout",
     "output_type": "stream",
     "text": [
      "a    5\n",
      "b    4\n",
      "c   -2\n",
      "d    3\n",
      "e    7\n",
      "dtype: int64 \n",
      "==============\n",
      "最大的三個數:\n",
      "e    7\n",
      "a    5\n",
      "b    4\n",
      "dtype: int64\n",
      "\n",
      "最小的二個數:\n",
      "c   -2\n",
      "d    3\n",
      "dtype: int64\n"
     ]
    }
   ],
   "source": [
    "print(data,\"\\n==============\")\n",
    "print(\"最大的三個數:\", data.nlargest(3), sep=\"\\n\")\n",
    "print(\"\\n最小的二個數:\", data.nsmallest(2), sep=\"\\n\")"
   ]
  },
  {
   "cell_type": "code",
   "execution_count": 18,
   "metadata": {},
   "outputs": [
    {
     "name": "stdout",
     "output_type": "stream",
     "text": [
      "0        您好\n",
      "1    Python\n",
      "2    Pandas\n",
      "dtype: object \n",
      "==============\n",
      "英文字母轉小寫:\n",
      "0        您好\n",
      "1    python\n",
      "2    pandas\n",
      "dtype: object\n",
      "\n",
      "英文字母轉大寫:\n",
      "0        您好\n",
      "1    PYTHON\n",
      "2    PANDAS\n",
      "dtype: object\n",
      "\n",
      "各筆資料長度(字元數):\n",
      "0    2\n",
      "1    6\n",
      "2    6\n",
      "dtype: int64\n",
      "\n",
      "資料以','隔開: 您好,Python,Pandas\n",
      "\n",
      "資料是否包含'P':\n",
      "0    False\n",
      "1     True\n",
      "2     True\n",
      "dtype: bool\n",
      "\n",
      "把\"您好\"取代為\"Hello\": 0     Hello\n",
      "1    Python\n",
      "2    Pandas\n",
      "dtype: object \n",
      "==================\n",
      "\n",
      "現在的資料型態:\n",
      "0        您好\n",
      "1    Python\n",
      "2    Pandas\n",
      "dtype: object\n"
     ]
    }
   ],
   "source": [
    "#字串運算：基本、串接、搜尋、取代\n",
    "data = pd.Series([\"您好\", \"Python\", \"Pandas\"])\n",
    "\n",
    "print(data,\"\\n==============\")\n",
    "print(\"英文字母轉小寫:\",data.str.lower(), sep=\"\\n\")\n",
    "print(\"\\n英文字母轉大寫:\",data.str.upper(), sep=\"\\n\")\n",
    "print(\"\\n各筆資料長度(字元數):\",data.str.len(), sep=\"\\n\")\n",
    "print(\"\\n資料以','隔開:\",data.str.cat(sep=\",\"))\n",
    "print(\"\\n資料是否包含'P':\",data.str.contains(\"P\"), sep=\"\\n\")\n",
    "print('\\n把\"您好\"取代為\"Hello\":',\n",
    "      data.str.replace(\"您好\", \"Hello\"),\n",
    "     '\\n==================')\n",
    "print(\"\\n現在的資料型態:\",data, sep=\"\\n\")"
   ]
  },
  {
   "cell_type": "code",
   "execution_count": 13,
   "metadata": {},
   "outputs": [
    {
     "name": "stdout",
     "output_type": "stream",
     "text": [
      "蘋果    15\n",
      "橘子    33\n",
      "梨子    45\n",
      "櫻桃    55\n",
      "dtype: int64\n"
     ]
    }
   ],
   "source": [
    "#建立Series:自訂索引\n",
    "fruits = [\"蘋果\", \"橘子\", \"梨子\", \"櫻桃\"]\n",
    "quantities = [15, 33, 45, 55]\n",
    "s = pd.Series(quantities, index=fruits) #可以把index改為預設\n",
    "print(s)"
   ]
  },
  {
   "cell_type": "code",
   "execution_count": 19,
   "metadata": {},
   "outputs": [
    {
     "name": "stdout",
     "output_type": "stream",
     "text": [
      "顯示索引: Index(['蘋果', '橘子', '梨子', '櫻桃'], dtype='object')\n",
      "顯示資料數值: [15 33 45 55]\n"
     ]
    }
   ],
   "source": [
    "#顯示索引\n",
    "print(\"顯示索引:\",s.index)\n",
    "#顯示資料數值\n",
    "print(\"顯示資料數值:\",s.values)"
   ]
  },
  {
   "cell_type": "code",
   "execution_count": null,
   "metadata": {},
   "outputs": [],
   "source": [
    "print(\"橘子=\", s[\"橘子\"])"
   ]
  },
  {
   "cell_type": "code",
   "execution_count": 22,
   "metadata": {},
   "outputs": [
    {
     "name": "stdout",
     "output_type": "stream",
     "text": [
      "橘子    33\n",
      "梨子    45\n",
      "櫻桃    55\n",
      "dtype: int64 \n",
      "\n",
      "橘子    33\n",
      "櫻桃    55\n",
      "梨子    45\n",
      "dtype: int64\n"
     ]
    }
   ],
   "source": [
    "print(s[[\"橘子\",\"梨子\",\"櫻桃\"]],'\\n')\n",
    "print(s[[\"橘子\",\"櫻桃\",\"梨子\"]])"
   ]
  },
  {
   "cell_type": "code",
   "execution_count": 25,
   "metadata": {},
   "outputs": [
    {
     "name": "stdout",
     "output_type": "stream",
     "text": [
      "蘋果    15\n",
      "橘子    33\n",
      "梨子    45\n",
      "櫻桃    55\n",
      "dtype: int64 \n",
      "\n",
      "蘋果     51\n",
      "橘子    105\n",
      "梨子    141\n",
      "櫻桃    171\n",
      "dtype: int64\n"
     ]
    }
   ],
   "source": [
    "print(s,'\\n')\n",
    "print((s+2)*3)"
   ]
  },
  {
   "cell_type": "code",
   "execution_count": null,
   "metadata": {},
   "outputs": [],
   "source": []
  }
 ],
 "metadata": {
  "kernelspec": {
   "display_name": "Python 3",
   "language": "python",
   "name": "python3"
  },
  "language_info": {
   "codemirror_mode": {
    "name": "ipython",
    "version": 3
   },
   "file_extension": ".py",
   "mimetype": "text/x-python",
   "name": "python",
   "nbconvert_exporter": "python",
   "pygments_lexer": "ipython3",
   "version": "3.7.3"
  }
 },
 "nbformat": 4,
 "nbformat_minor": 4
}
