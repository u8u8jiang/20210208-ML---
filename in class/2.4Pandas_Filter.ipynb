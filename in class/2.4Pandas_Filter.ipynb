{
 "cells": [
  {
   "cell_type": "code",
   "execution_count": 1,
   "metadata": {},
   "outputs": [
    {
     "name": "stdout",
     "output_type": "stream",
     "text": [
      "原始Series:\n",
      "0    30\n",
      "1    15\n",
      "2    20\n",
      "dtype: int64\n",
      "===============\n",
      "篩選結果:\n",
      "0    30\n",
      "2    20\n",
      "dtype: int64\n"
     ]
    }
   ],
   "source": [
    "#載入pandas模組 \n",
    "import pandas as pd\n",
    "#篩選練習一Series \n",
    "data=pd.Series([30, 15, 20])\n",
    "print (\"原始Series:\",data,sep=\"\\n\")\n",
    "print (\"===============\")\n",
    "condition=[True, False, True]\n",
    "filteredData=data [condition]\n",
    "print (\"篩選結果:\",filteredData,sep=\"\\n\")"
   ]
  },
  {
   "cell_type": "code",
   "execution_count": 2,
   "metadata": {},
   "outputs": [
    {
     "name": "stdout",
     "output_type": "stream",
     "text": [
      "原始Series:\n",
      "0    30\n",
      "1    15\n",
      "2    20\n",
      "dtype: int64\n",
      "===============\n",
      "篩選條件:\n",
      "0     True\n",
      "1    False\n",
      "2     True\n",
      "dtype: bool\n",
      "===============\n",
      "篩選結果:\n",
      "0    30\n",
      "2    20\n",
      "dtype: int64\n"
     ]
    }
   ],
   "source": [
    "print (\"原始Series:\",data,sep=\"\\n\")\n",
    "print (\"===============\")\n",
    "condition=data>18\n",
    "print (\"篩選條件:\",condition,sep=\"\\n\")\n",
    "print (\"===============\")\n",
    "filteredData=data [condition]\n",
    "print (\"篩選結果:\",filteredData,sep=\"\\n\")"
   ]
  },
  {
   "cell_type": "code",
   "execution_count": 3,
   "metadata": {},
   "outputs": [
    {
     "name": "stdout",
     "output_type": "stream",
     "text": [
      "原始Series:\n",
      "0        您好\n",
      "1    Python\n",
      "2    Pandas\n",
      "dtype: object\n",
      "===============\n",
      "篩選結果:\n",
      "1    Python\n",
      "2    Pandas\n",
      "dtype: object\n"
     ]
    }
   ],
   "source": [
    "data=pd.Series([\"您好\", \"Python\", \"Pandas\"]) \n",
    "print (\"原始Series:\",data,sep=\"\\n\")\n",
    "print (\"===============\")\n",
    "condition=[False, True, True]\n",
    "filteredData=data [condition]\n",
    "print (\"篩選結果:\",filteredData,sep=\"\\n\")"
   ]
  },
  {
   "cell_type": "code",
   "execution_count": 4,
   "metadata": {},
   "outputs": [
    {
     "name": "stdout",
     "output_type": "stream",
     "text": [
      "原始Series:\n",
      "0        您好\n",
      "1    Python\n",
      "2    Pandas\n",
      "dtype: object\n",
      "===============\n",
      "篩選條件:\n",
      "0    False\n",
      "1     True\n",
      "2     True\n",
      "dtype: bool\n",
      "===============\n",
      "篩選結果:\n",
      "1    Python\n",
      "2    Pandas\n",
      "dtype: object\n"
     ]
    }
   ],
   "source": [
    "print (\"原始Series:\",data,sep=\"\\n\")\n",
    "print (\"===============\")\n",
    "condition=data.str.contains(\"P\")\n",
    "print (\"篩選條件:\",condition,sep=\"\\n\")\n",
    "print (\"===============\")\n",
    "filteredData=data [condition]\n",
    "print (\"篩選結果:\",filteredData,sep=\"\\n\")"
   ]
  },
  {
   "cell_type": "code",
   "execution_count": 5,
   "metadata": {},
   "outputs": [
    {
     "name": "stdout",
     "output_type": "stream",
     "text": [
      "原始DataFrame:\n",
      "  name  salary\n",
      "0  May   30000\n",
      "1  Lin   60000\n",
      "2  Bob   50000\n",
      "===============\n",
      "篩選結果:\n",
      "  name  salary\n",
      "1  Lin   60000\n",
      "2  Bob   50000\n"
     ]
    }
   ],
   "source": [
    "#篩選練習一DataFrame \n",
    "data=pd.DataFrame({\n",
    "    \"name\":[\"May\", \"Lin\", \"Bob\"],\n",
    "    \"salary\":[30000, 60000, 50000] \n",
    "})\n",
    "print (\"原始DataFrame:\",data,sep=\"\\n\")\n",
    "print (\"===============\")\n",
    "condition=[False, True, True]\n",
    "filteredData=data [condition]\n",
    "print (\"篩選結果:\",filteredData,sep=\"\\n\")"
   ]
  },
  {
   "cell_type": "code",
   "execution_count": 6,
   "metadata": {},
   "outputs": [
    {
     "name": "stdout",
     "output_type": "stream",
     "text": [
      "原始DataFrame:\n",
      "  name  salary\n",
      "0  May   30000\n",
      "1  Lin   60000\n",
      "2  Bob   50000\n",
      "===============\n",
      "篩選條件:\n",
      "0    False\n",
      "1     True\n",
      "2     True\n",
      "Name: salary, dtype: bool\n",
      "===============\n",
      "篩選結果:\n",
      "  name  salary\n",
      "1  Lin   60000\n",
      "2  Bob   50000\n"
     ]
    }
   ],
   "source": [
    "print (\"原始DataFrame:\",data,sep=\"\\n\")\n",
    "print (\"===============\")\n",
    "condition=data[\"salary\"]>=40000\n",
    "print (\"篩選條件:\",condition,sep=\"\\n\")\n",
    "print (\"===============\")\n",
    "filteredData=data [condition]\n",
    "print (\"篩選結果:\",filteredData,sep=\"\\n\")"
   ]
  },
  {
   "cell_type": "code",
   "execution_count": 7,
   "metadata": {},
   "outputs": [
    {
     "name": "stdout",
     "output_type": "stream",
     "text": [
      "  name  salary\n",
      "0  May   30000\n",
      "1  Lin   60000\n",
      "2  Bob   50000\n",
      "===============\n",
      "篩選條件:\n",
      "0    False\n",
      "1     True\n",
      "2    False\n",
      "Name: name, dtype: bool\n",
      "===============\n",
      "篩選結果:\n",
      "  name  salary\n",
      "1  Lin   60000\n"
     ]
    }
   ],
   "source": [
    "print (data)\n",
    "print (\"===============\")\n",
    "condition=data[\"name\"]==\"Lin\"\n",
    "print (\"篩選條件:\",condition,sep=\"\\n\")\n",
    "print (\"===============\")\n",
    "filteredData=data [condition]\n",
    "print (\"篩選結果:\",filteredData,sep=\"\\n\")"
   ]
  },
  {
   "cell_type": "code",
   "execution_count": 9,
   "metadata": {},
   "outputs": [
    {
     "name": "stdout",
     "output_type": "stream",
     "text": [
      "   分類      價格   商店\n",
      "0  居家   11.42  家樂福\n",
      "1  居家   23.50  大潤發\n",
      "2  娛樂   19.99  家樂福\n",
      "3  娛樂   15.95  全聯超\n",
      "4  科技   55.75  大潤發\n",
      "5  科技  111.55  家樂福\n"
     ]
    }
   ],
   "source": [
    "#載入CSV資料\n",
    "df = pd.read_csv(\"products.csv\", encoding=\"utf8\")\n",
    "print(df)"
   ]
  },
  {
   "cell_type": "code",
   "execution_count": 10,
   "metadata": {},
   "outputs": [
    {
     "name": "stdout",
     "output_type": "stream",
     "text": [
      "  type   price name\n",
      "A   居家   11.42  家樂福\n",
      "B   居家   23.50  大潤發\n",
      "C   娛樂   19.99  家樂福\n",
      "D   娛樂   15.95  全聯超\n",
      "E   科技   55.75  大潤發\n",
      "F   科技  111.55  家樂福\n"
     ]
    }
   ],
   "source": [
    "#重設標題與index\n",
    "df.columns = [\"type\", \"price\", \"name\"]\n",
    "ordinals = [\"A\", \"B\", \"C\", \"D\", \"E\", \"F\"]\n",
    "df.index = ordinals\n",
    "print(df)"
   ]
  },
  {
   "cell_type": "code",
   "execution_count": 11,
   "metadata": {},
   "outputs": [
    {
     "name": "stdout",
     "output_type": "stream",
     "text": [
      "A    11.42\n",
      "B    23.50\n",
      "C    19.99\n",
      "Name: price, dtype: float64\n",
      "A    11.42\n",
      "B    23.50\n",
      "C    19.99\n",
      "Name: price, dtype: float64\n"
     ]
    }
   ],
   "source": [
    "#選取單一欄位\n",
    "print(df[\"price\"].head(3))#選取\"price\"欄位並顯示前3筆\n",
    "print(df.price.head(3))#選取\"price\"欄位並顯示前3筆"
   ]
  },
  {
   "cell_type": "code",
   "execution_count": 12,
   "metadata": {},
   "outputs": [
    {
     "name": "stdout",
     "output_type": "stream",
     "text": [
      "  type name\n",
      "A   居家  家樂福\n",
      "B   居家  大潤發\n",
      "C   娛樂  家樂福\n"
     ]
    }
   ],
   "source": [
    "#選取多個欄位\n",
    "print(df[[\"type\",\"name\"]].head(3))#選取\"price\"與\"name\"欄位並顯示前3筆"
   ]
  },
  {
   "cell_type": "code",
   "execution_count": 13,
   "metadata": {},
   "outputs": [
    {
     "name": "stdout",
     "output_type": "stream",
     "text": [
      "  type  price name\n",
      "A   居家  11.42  家樂福\n",
      "B   居家  23.50  大潤發\n",
      "C   娛樂  19.99  家樂福\n",
      "  type  price name\n",
      "C   娛樂  19.99  家樂福\n",
      "D   娛樂  15.95  全聯超\n",
      "E   科技  55.75  大潤發\n"
     ]
    }
   ],
   "source": [
    "#選取特定範圍的多筆記錄\n",
    "print(df[0:3])     #不含3\n",
    "print(df[\"C\":\"E\"]) # 含\"E\""
   ]
  },
  {
   "cell_type": "code",
   "execution_count": 14,
   "metadata": {},
   "outputs": [
    {
     "name": "stdout",
     "output_type": "stream",
     "text": [
      "  type   price name\n",
      "A   居家   11.42  家樂福\n",
      "B   居家   23.50  大潤發\n",
      "C   娛樂   19.99  家樂福\n",
      "D   娛樂   15.95  全聯超\n",
      "E   科技   55.75  大潤發\n",
      "F   科技  111.55  家樂福\n",
      "===============\n",
      "df.loc[\"B\"]:\n",
      "type       居家\n",
      "price    23.5\n",
      "name      大潤發\n",
      "Name: B, dtype: object\n",
      "===============\n",
      "type(df.loc[\"B\"]): <class 'pandas.core.series.Series'>\n"
     ]
    }
   ],
   "source": [
    "#使用標籤選取資料\n",
    "print(df)\n",
    "print (\"===============\")\n",
    "print('df.loc[\"B\"]:',df.loc[\"B\"],sep=\"\\n\")\n",
    "print (\"===============\")\n",
    "print('type(df.loc[\"B\"]):',type(df.loc[\"B\"]))"
   ]
  },
  {
   "cell_type": "code",
   "execution_count": 15,
   "metadata": {},
   "outputs": [
    {
     "name": "stdout",
     "output_type": "stream",
     "text": [
      "  type   price name\n",
      "A   居家   11.42  家樂福\n",
      "B   居家   23.50  大潤發\n",
      "C   娛樂   19.99  家樂福\n",
      "D   娛樂   15.95  全聯超\n",
      "E   科技   55.75  大潤發\n",
      "F   科技  111.55  家樂福\n",
      "===============\n",
      "df.iloc[3]:\n",
      "type        娛樂\n",
      "price    15.95\n",
      "name       全聯超\n",
      "Name: D, dtype: object\n",
      "===============\n",
      "df.iloc[3:5, 1:3]:\n",
      "   price name\n",
      "D  15.95  全聯超\n",
      "E  55.75  大潤發\n"
     ]
    }
   ],
   "source": [
    "#使用位置選取資料\n",
    "print(df)\n",
    "print (\"===============\")\n",
    "print(\"df.iloc[3]:\",df.iloc[3],sep=\"\\n\")# 第 4 筆\n",
    "print (\"===============\")\n",
    "print(\"df.iloc[3:5, 1:3]:\", df.iloc[3:5, 1:3],sep=\"\\n\")   # 切割"
   ]
  },
  {
   "cell_type": "code",
   "execution_count": 16,
   "metadata": {},
   "outputs": [
    {
     "name": "stdout",
     "output_type": "stream",
     "text": [
      "  type   price name\n",
      "A   居家   11.42  家樂福\n",
      "B   居家   23.50  大潤發\n",
      "C   娛樂   19.99  家樂福\n",
      "D   娛樂   15.95  全聯超\n",
      "E   科技   55.75  大潤發\n",
      "F   科技  111.55  家樂福\n",
      "===============\n",
      "  type   price name\n",
      "B   居家   23.50  大潤發\n",
      "E   科技   55.75  大潤發\n",
      "F   科技  111.55  家樂福\n"
     ]
    }
   ],
   "source": [
    "#過濾資料 – 使用布林索引\n",
    "print(df)\n",
    "print (\"===============\")\n",
    "print(df[df.price > 20])"
   ]
  },
  {
   "cell_type": "code",
   "execution_count": 17,
   "metadata": {},
   "outputs": [
    {
     "name": "stdout",
     "output_type": "stream",
     "text": [
      "  type   price name\n",
      "A   居家   11.42  家樂福\n",
      "B   居家   23.50  大潤發\n",
      "C   娛樂   19.99  家樂福\n",
      "D   娛樂   15.95  全聯超\n",
      "E   科技   55.75  大潤發\n",
      "F   科技  111.55  家樂福\n",
      "===============\n",
      "  type   price name\n",
      "A   居家   11.42  家樂福\n",
      "B   居家   23.50  大潤發\n",
      "E   科技   55.75  大潤發\n",
      "F   科技  111.55  家樂福\n"
     ]
    }
   ],
   "source": [
    "#過濾資料 – 使用isin()函數\n",
    "print(df)\n",
    "print (\"===============\")\n",
    "print(df[df[\"type\"].isin([\"科技\",\"居家\"])])"
   ]
  },
  {
   "cell_type": "code",
   "execution_count": 18,
   "metadata": {},
   "outputs": [
    {
     "name": "stdout",
     "output_type": "stream",
     "text": [
      "  type   price name\n",
      "A   居家   11.42  家樂福\n",
      "B   居家   23.50  大潤發\n",
      "C   娛樂   19.99  家樂福\n",
      "D   娛樂   15.95  全聯超\n",
      "E   科技   55.75  大潤發\n",
      "F   科技  111.55  家樂福\n",
      "===============\n",
      "  type  price name\n",
      "B   居家  23.50  大潤發\n",
      "C   娛樂  19.99  家樂福\n",
      "D   娛樂  15.95  全聯超\n"
     ]
    }
   ],
   "source": [
    "#使用多個條件和字串函數過濾資料\n",
    "print(df)\n",
    "print (\"===============\")\n",
    "print(df[(df.price > 15) & (df.price < 25)])"
   ]
  },
  {
   "cell_type": "code",
   "execution_count": 19,
   "metadata": {},
   "outputs": [
    {
     "name": "stdout",
     "output_type": "stream",
     "text": [
      "  type   price name\n",
      "A   居家   11.42  家樂福\n",
      "B   居家   23.50  大潤發\n",
      "C   娛樂   19.99  家樂福\n",
      "D   娛樂   15.95  全聯超\n",
      "E   科技   55.75  大潤發\n",
      "F   科技  111.55  家樂福\n",
      "G   科學   28.50  全聯超\n",
      "===============\n",
      "  type   price name\n",
      "E   科技   55.75  大潤發\n",
      "F   科技  111.55  家樂福\n",
      "G   科學   28.50  全聯超\n"
     ]
    }
   ],
   "source": [
    "df.loc[\"G\"] = [\"科學\", 28.5, \"全聯超\"]\n",
    "print(df)\n",
    "print (\"===============\")\n",
    "print(df[df[\"type\"].str.startswith(\"科\")])"
   ]
  },
  {
   "cell_type": "code",
   "execution_count": 20,
   "metadata": {},
   "outputs": [
    {
     "name": "stdout",
     "output_type": "stream",
     "text": [
      "       type name\n",
      "price           \n",
      "11.42    居家  家樂福\n",
      "23.50    居家  大潤發\n",
      "19.99    娛樂  家樂福\n",
      "15.95    娛樂  全聯超\n",
      "55.75    科技  大潤發\n",
      "111.55   科技  家樂福\n",
      "28.50    科學  全聯超 \n",
      "===============\n",
      "price由大到小:\n",
      "       type name\n",
      "price           \n",
      "111.55   科技  家樂福\n",
      "55.75    科技  大潤發\n",
      "28.50    科學  全聯超\n",
      "23.50    居家  大潤發\n",
      "19.99    娛樂  家樂福\n",
      "15.95    娛樂  全聯超\n",
      "11.42    居家  家樂福\n",
      "===============\n",
      "price由小到大:\n",
      "       type name\n",
      "price           \n",
      "11.42    居家  家樂福\n",
      "15.95    娛樂  全聯超\n",
      "19.99    娛樂  家樂福\n",
      "23.50    居家  大潤發\n",
      "28.50    科學  全聯超\n",
      "55.75    科技  大潤發\n",
      "111.55   科技  家樂福\n"
     ]
    }
   ],
   "source": [
    "#排序資料 - 指定索引欄位排序\n",
    "df2 = df.set_index(\"price\")\n",
    "print(df2,\"\\n===============\")\n",
    "df2.sort_index(ascending=False, inplace=True)\n",
    "print(\"price由大到小:\",df2,sep=\"\\n\")\n",
    "print (\"===============\")\n",
    "df2.sort_index(inplace=True)\n",
    "print(\"price由小到大:\",df2,sep=\"\\n\")"
   ]
  },
  {
   "cell_type": "code",
   "execution_count": 21,
   "metadata": {},
   "outputs": [
    {
     "name": "stdout",
     "output_type": "stream",
     "text": [
      "  type   price name\n",
      "F   科技  111.55  家樂福\n",
      "E   科技   55.75  大潤發\n",
      "G   科學   28.50  全聯超\n",
      "B   居家   23.50  大潤發\n",
      "C   娛樂   19.99  家樂福\n",
      "D   娛樂   15.95  全聯超\n",
      "A   居家   11.42  家樂福\n",
      "  type   price name\n",
      "D   娛樂   15.95  全聯超\n",
      "C   娛樂   19.99  家樂福\n",
      "A   居家   11.42  家樂福\n",
      "B   居家   23.50  大潤發\n",
      "G   科學   28.50  全聯超\n",
      "E   科技   55.75  大潤發\n",
      "F   科技  111.55  家樂福\n",
      "  type   price name\n",
      "A   居家   11.42  家樂福\n",
      "B   居家   23.50  大潤發\n",
      "C   娛樂   19.99  家樂福\n",
      "D   娛樂   15.95  全聯超\n",
      "E   科技   55.75  大潤發\n",
      "F   科技  111.55  家樂福\n",
      "G   科學   28.50  全聯超\n"
     ]
    }
   ],
   "source": [
    "#排序資料 – 指定欄位值排序\n",
    "df2 = df.sort_values(\"price\", ascending=False)\n",
    "print(df2)\n",
    "print(df.sort_values([\"type\",\"price\"], inplace=False))\n",
    "print(df)"
   ]
  },
  {
   "cell_type": "code",
   "execution_count": null,
   "metadata": {},
   "outputs": [],
   "source": []
  }
 ],
 "metadata": {
  "kernelspec": {
   "display_name": "Python 3",
   "language": "python",
   "name": "python3"
  },
  "language_info": {
   "codemirror_mode": {
    "name": "ipython",
    "version": 3
   },
   "file_extension": ".py",
   "mimetype": "text/x-python",
   "name": "python",
   "nbconvert_exporter": "python",
   "pygments_lexer": "ipython3",
   "version": "3.7.3"
  }
 },
 "nbformat": 4,
 "nbformat_minor": 4
}
