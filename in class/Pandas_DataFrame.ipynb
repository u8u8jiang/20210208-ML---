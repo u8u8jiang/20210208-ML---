{
 "cells": [
  {
   "cell_type": "code",
   "execution_count": null,
   "metadata": {
    "scrolled": true
   },
   "outputs": [],
   "source": [
    "#載入pandas模組\n",
    "import pandas as pd\n",
    "#資料索引: pd.DataFrame(字典, index=索引列表)\n",
    "data=pd.DataFrame({\n",
    "    \"name\":[\"May\", \"Lin\", \"Bob\"],\n",
    "    \"salary\":[30000, 60000, 50000] \n",
    "})\n",
    "print(data)"
   ]
  },
  {
   "cell_type": "code",
   "execution_count": null,
   "metadata": {
    "scrolled": true
   },
   "outputs": [],
   "source": [
    "#資料索引(自訂): pd.DataFrame(字典, index=索引列表)\n",
    "data=pd.DataFrame({\n",
    "    \"name\":[\"May\", \"Lin\", \"Bob\"],\n",
    "    \"salary\":[30000, 60000, 50000] \n",
    "}, index=[\"a\",\"b\",\"c\"])\n",
    "print(data)"
   ]
  },
  {
   "cell_type": "code",
   "execution_count": null,
   "metadata": {
    "scrolled": true
   },
   "outputs": [],
   "source": [
    "#觀察資料 \n",
    "print(\"資料數量:\", data.size)\n",
    "print(\"資料形狀(列, 欄):\", data.shape)\n",
    "print(\"資料索引:\", data.index)"
   ]
  },
  {
   "cell_type": "code",
   "execution_count": null,
   "metadata": {
    "scrolled": true
   },
   "outputs": [],
   "source": [
    "#取得列（Row/橫向）的Series資料：根據順序、根據索引 \n",
    "print(data,\"\\n===========\")\n",
    "print(\"取得第二列\", data.iloc[1], sep=\"\\n\")"
   ]
  },
  {
   "cell_type": "code",
   "execution_count": null,
   "metadata": {
    "scrolled": true
   },
   "outputs": [],
   "source": [
    "print(data,\"\\n===========\")\n",
    "print(\"取得第c列\", data.loc[\"c\"], sep=\"\\n\")"
   ]
  },
  {
   "cell_type": "code",
   "execution_count": null,
   "metadata": {
    "scrolled": true
   },
   "outputs": [],
   "source": [
    "#取得欄（Column/直向）的Series資料：根據欄位的名稱 \n",
    "print(data,\"\\n===========\")\n",
    "print(\"取得name欄位\", data[\"name\"], sep=\"\\n\")"
   ]
  },
  {
   "cell_type": "code",
   "execution_count": null,
   "metadata": {
    "scrolled": true
   },
   "outputs": [],
   "source": [
    "name=data[\"name\"]\n",
    "print(\"把name全部轉大寫\", name.str.upper(), sep=\"\\n\")"
   ]
  },
  {
   "cell_type": "code",
   "execution_count": null,
   "metadata": {
    "scrolled": true
   },
   "outputs": [],
   "source": [
    "salaries=data[\"salary\"]\n",
    "print(\"薪水的平均值\", salaries.mean())"
   ]
  },
  {
   "cell_type": "code",
   "execution_count": null,
   "metadata": {
    "scrolled": true
   },
   "outputs": [],
   "source": [
    "#建立新的欄位 \n",
    "#data[新欄位的名稱]=列表\n",
    "print(data,\"\\n===========\")\n",
    "data[\"revenue\"]=[500000, 400000, 300000] \n",
    "print(data)"
   ]
  },
  {
   "cell_type": "code",
   "execution_count": null,
   "metadata": {
    "scrolled": true
   },
   "outputs": [],
   "source": [
    "#data[新欄位的名稱]=Series的資料\n",
    "print(data,\"\\n===========\")\n",
    "data[\"rank\"]=pd.Series([3,6,1], index=[\"a\",\"b\",\"c\"])\n",
    "data[\"cp\"]=data[\"revenue\"]/data[\"salary\"]\n",
    "print(data)"
   ]
  },
  {
   "cell_type": "code",
   "execution_count": null,
   "metadata": {
    "scrolled": false
   },
   "outputs": [],
   "source": [
    "#建立DataFrame  -自訂資料索引\n",
    "products = {\"分類\": [\"居家\",\"居家\",\"娛樂\",\"娛樂\",\"科技\",\"科技\"],\n",
    "\"商店\": [\"家樂福\",\"大潤發\",\"家樂福\",\"全聯超\",\"大潤發\",\"家樂福\"],\n",
    "            \"價格\": [11.42,23.50,19.99,15.95,55.75,111.55]}\n",
    "ordinals =[\"A\", \"B\", \"C\", \"D\", \"E\", \"F\"]\n",
    "df = pd.DataFrame(products, index=ordinals) \n",
    "print(df)"
   ]
  },
  {
   "cell_type": "code",
   "execution_count": null,
   "metadata": {},
   "outputs": [],
   "source": [
    "#建立DataFrame - 重新指定DataFrame物件的欄位順序\n",
    "df = pd.DataFrame(products, \n",
    "                  columns = [\"分類\", \"價格\", \"商店\"],\n",
    "                  index=ordinals) \n",
    "print(df)"
   ]
  },
  {
   "cell_type": "code",
   "execution_count": null,
   "metadata": {},
   "outputs": [],
   "source": [
    "#匯出CSV格式檔案\n",
    "df.to_csv(\"products.csv\", encoding=\"utf16\",  index=False)"
   ]
  },
  {
   "cell_type": "code",
   "execution_count": null,
   "metadata": {},
   "outputs": [],
   "source": [
    "#使用存在的欄位作為索引標籤\n",
    "df = pd.DataFrame(products, \n",
    "                  columns = [\"商店\", \"價格\"],\n",
    "                  index = products[\"分類\"]) \n",
    "print(df)"
   ]
  },
  {
   "cell_type": "code",
   "execution_count": null,
   "metadata": {},
   "outputs": [],
   "source": [
    "#匯入CSV檔案\n",
    "df = pd.read_csv(\"products.csv\", encoding=\"utf16\")\n",
    "print(df)"
   ]
  },
  {
   "cell_type": "code",
   "execution_count": null,
   "metadata": {},
   "outputs": [],
   "source": [
    "#轉置DataFrame物件\n",
    "print(df.T)"
   ]
  },
  {
   "cell_type": "code",
   "execution_count": null,
   "metadata": {},
   "outputs": [],
   "source": [
    "#顯示前幾筆記錄\n",
    "print(df.head())#顯示前5筆記錄 \n",
    "print(\"==============\") \n",
    "print(df.head(3))"
   ]
  },
  {
   "cell_type": "code",
   "execution_count": null,
   "metadata": {},
   "outputs": [],
   "source": [
    "#顯示最後幾筆記錄\n",
    "print(df.tail())#顯示最後5筆記錄\n",
    "print(\"==============\") \n",
    "print(df.tail(3))"
   ]
  },
  {
   "cell_type": "code",
   "execution_count": null,
   "metadata": {},
   "outputs": [],
   "source": [
    "#自訂的欄位標籤: 從中文標籤改為英文標籤\n",
    "df.columns = [\"type\", \"price\", \"name\"]\n",
    "print(df.head(3))"
   ]
  },
  {
   "cell_type": "code",
   "execution_count": null,
   "metadata": {},
   "outputs": [],
   "source": [
    "#取得DataFrame物件的索引、欄位和資料\n",
    "print(\"df.index:\",df.index)\n",
    "print(\"df.columns:\",df.columns)\n",
    "print(\"df.values:\",df.values, sep=\"\\n\")"
   ]
  },
  {
   "cell_type": "code",
   "execution_count": null,
   "metadata": {},
   "outputs": [],
   "source": [
    "#顯示DataFrame物件的摘要資訊\n",
    "print(\"資料筆數= \", len(df))\n",
    "print(\"形狀= \", df.shape)  "
   ]
  },
  {
   "cell_type": "code",
   "execution_count": null,
   "metadata": {},
   "outputs": [],
   "source": [
    "df.info() "
   ]
  },
  {
   "cell_type": "code",
   "execution_count": null,
   "metadata": {},
   "outputs": [],
   "source": [
    "#使用iterrows()函數走訪DataFrame物件\n",
    "df.columns = [\"分類\", \"價格\", \"商店\"]\n",
    "for index, row in df.iterrows() :\n",
    "    print(index, row[\"分類\"], row[\"商店\"], row[\"價格\"])"
   ]
  },
  {
   "cell_type": "code",
   "execution_count": null,
   "metadata": {},
   "outputs": [],
   "source": [
    "#指定索引的欄位\n",
    "df2 = df.set_index(\"分類\")\n",
    "print(df2.head())"
   ]
  },
  {
   "cell_type": "code",
   "execution_count": null,
   "metadata": {},
   "outputs": [],
   "source": [
    "#重設索引的欄位\n",
    "df3 = df2.reset_index()\n",
    "print(df3.head())"
   ]
  },
  {
   "cell_type": "code",
   "execution_count": null,
   "metadata": {},
   "outputs": [],
   "source": [
    "#指定多欄位複合索引\n",
    "df2 = df.set_index([\"分類\", \"商店\"])\n",
    "print(df2)\n",
    "df2.sort_index(ascending=False, inplace=True)\n",
    "print(df2)"
   ]
  },
  {
   "cell_type": "code",
   "execution_count": null,
   "metadata": {},
   "outputs": [],
   "source": []
  }
 ],
 "metadata": {
  "kernelspec": {
   "display_name": "Python 3",
   "language": "python",
   "name": "python3"
  },
  "language_info": {
   "codemirror_mode": {
    "name": "ipython",
    "version": 3
   },
   "file_extension": ".py",
   "mimetype": "text/x-python",
   "name": "python",
   "nbconvert_exporter": "python",
   "pygments_lexer": "ipython3",
   "version": "3.8.6"
  }
 },
 "nbformat": 4,
 "nbformat_minor": 4
}
