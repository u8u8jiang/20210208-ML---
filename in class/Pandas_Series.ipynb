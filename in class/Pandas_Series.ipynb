{
 "cells": [
  {
   "cell_type": "code",
   "execution_count": null,
   "metadata": {},
   "outputs": [],
   "source": [
    "#載入pandas模組\n",
    "import pandas as pd\n",
    "#資料索引(內建)\n",
    "data=pd.Series([5, 4, -2, 3, 7])\n",
    "print(data)"
   ]
  },
  {
   "cell_type": "code",
   "execution_count": null,
   "metadata": {},
   "outputs": [],
   "source": [
    "#資料索引(自訂[\"a\",\"b\",\"c\",\"d\",\"e\"])\n",
    "data=pd.Series([5, 4, -2, 3, 7],index=[\"a\",\"b\",\"c\",\"d\",\"e\"])\n",
    "print(data)"
   ]
  },
  {
   "cell_type": "code",
   "execution_count": null,
   "metadata": {},
   "outputs": [],
   "source": [
    "#觀察資料 \n",
    "print(\"資料型態:\", data.dtype)\n",
    "print(\"資料數量:\", data.size)\n",
    "print(\"資料索引:\", data.index)"
   ]
  },
  {
   "cell_type": "code",
   "execution_count": null,
   "metadata": {},
   "outputs": [],
   "source": [
    "#取得資料：根據順序、根據索引 \n",
    "print(data,\"\\n==============\")\n",
    "print(\"data[2]:\",data[2],\"\\tdata[0]:\",data[0])\n",
    "print(\"data[e]:\",data[\"e\"],\"\\tdata[d]:\",data[\"d\"])"
   ]
  },
  {
   "cell_type": "code",
   "execution_count": null,
   "metadata": {},
   "outputs": [],
   "source": [
    "#數字運算：基本、統計、順序 \n",
    "print(data,\"\\n==============\")\n",
    "print(\"最大值:\", data.max())\n",
    "print(\"最小值:\", data.min())\n",
    "print(\"總和:\", data.sum())\n",
    "print(\"乘積:\", data.prod())\n",
    "print(\"平均值:\", data.mean())\n",
    "print(\"標準差:\", data.std())\n",
    "print(\"中位數:\", data.median())"
   ]
  },
  {
   "cell_type": "code",
   "execution_count": null,
   "metadata": {},
   "outputs": [],
   "source": [
    "print(data,\"\\n==============\")\n",
    "print(\"最大的三個數:\", data.nlargest(3), sep=\"\\n\")\n",
    "print(\"\\n最小的二個數:\", data.nsmallest(2), sep=\"\\n\")"
   ]
  },
  {
   "cell_type": "code",
   "execution_count": null,
   "metadata": {},
   "outputs": [],
   "source": [
    "#字串運算：基本、串接、搜尋、取代\n",
    "data=pd.Series([\"您好\", \"Python\", \"Pandas\"])\n",
    "print(data,\"\\n==============\")\n",
    "print(\"英文字母轉小寫:\",data.str.lower(), sep=\"\\n\")\n",
    "print(\"\\n英文字母轉大寫:\",data.str.upper(), sep=\"\\n\")\n",
    "print(\"\\n各筆資料長度(字元數):\",data.str.len(), sep=\"\\n\")\n",
    "print(\"\\n資料以','隔開:\",data.str.cat(sep=\",\"))\n",
    "print(\"\\n資料是否包含'P':\",data.str.contains(\"P\"), sep=\"\\n\")\n",
    "print('\\n把\"您好\"取代為\"Hello\":',\n",
    "      data.str.replace(\"您好\", \"Hello\"), sep=\"\\n\")"
   ]
  },
  {
   "cell_type": "code",
   "execution_count": null,
   "metadata": {},
   "outputs": [],
   "source": [
    "#建立Series:自訂索引\n",
    "fruits = [\"蘋果\", \"橘子\", \"梨子\", \"櫻桃\"]\n",
    "quantities = [15, 33, 45, 55]\n",
    "s = pd.Series(quantities, index=fruits) \n",
    "print(s)"
   ]
  },
  {
   "cell_type": "code",
   "execution_count": null,
   "metadata": {},
   "outputs": [],
   "source": [
    "#顯示索引\n",
    "print(\"顯示索引:\",s.index)\n",
    "#顯示資料數值\n",
    "print(\"顯示資料數值:\",s.values)"
   ]
  },
  {
   "cell_type": "code",
   "execution_count": null,
   "metadata": {},
   "outputs": [],
   "source": [
    "print(\"橘子=\", s[\"橘子\"])"
   ]
  },
  {
   "cell_type": "code",
   "execution_count": null,
   "metadata": {},
   "outputs": [],
   "source": [
    "print(s[[\"橘子\",\"梨子\",\"櫻桃\"]])"
   ]
  },
  {
   "cell_type": "code",
   "execution_count": null,
   "metadata": {},
   "outputs": [],
   "source": [
    "print((s+2)*3)"
   ]
  },
  {
   "cell_type": "code",
   "execution_count": null,
   "metadata": {},
   "outputs": [],
   "source": []
  }
 ],
 "metadata": {
  "kernelspec": {
   "display_name": "Python 3",
   "language": "python",
   "name": "python3"
  },
  "language_info": {
   "codemirror_mode": {
    "name": "ipython",
    "version": 3
   },
   "file_extension": ".py",
   "mimetype": "text/x-python",
   "name": "python",
   "nbconvert_exporter": "python",
   "pygments_lexer": "ipython3",
   "version": "3.8.6"
  }
 },
 "nbformat": 4,
 "nbformat_minor": 4
}
