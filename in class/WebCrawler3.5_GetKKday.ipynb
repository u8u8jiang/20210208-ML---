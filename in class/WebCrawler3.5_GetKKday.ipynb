{
 "cells": [
  {
   "cell_type": "code",
   "execution_count": 1,
   "metadata": {},
   "outputs": [],
   "source": [
    "import urllib.request as req\n",
    "import urllib.parse\n",
    "import json \n",
    "\n",
    "# 將字串轉為編碼\n",
    "def percentEncode(str):\n",
    "    res = urllib.parse.quote(str, '')\n",
    "    res = res.replace('+', '%20')\n",
    "    res = res.replace('*', '%2A')\n",
    "    res = res.replace('%7E', '~')\n",
    "    return res\n",
    "\n",
    "def GetKKday(city , name):\n",
    "    city=percentEncode(city)\n",
    "    url=\"https://www.kkday.com/zh-tw/product/ajax_productlist/?keyword=\"+city+\"&cat=TAG_4_4&sort=rdesc\"\n",
    "    request=req.Request(url, headers={ \"User-Agent\":\"Mozilla/5.0 (Windows NT 10.0; Win64; x64) AppleWebKit/537.36 (KHTML, like Gecko) Chrome/86.0.4240.193 Safari/537.36 Edg/86.0.622.68\"\n",
    "    })   # header>path->url\n",
    "    with req.urlopen(request) as response:\n",
    "        data=response.read().decode(\"utf-8\")\n",
    "    data=json.loads(data)\n",
    "    posts=data[\"data\"]\n",
    "    count=0\n",
    "    for key in posts:\n",
    "        title = key[name]\n",
    "        print(title)"
   ]
  },
  {
   "cell_type": "code",
   "execution_count": 16,
   "metadata": {},
   "outputs": [
    {
     "name": "stdout",
     "output_type": "stream",
     "text": [
      "【限定優惠】太平山一日遊 | 鳩之澤溫泉＆見晴懷古步道 ＆ 翠峰湖 | 台北市區 & 宜蘭火車站接送\n",
      "苗栗賞楓 | 馬拉邦山賞楓 & 採草莓一日遊 | 台北市區出發\n",
      "小資旅遊推薦｜基隆北海岸野柳一日遊／二日遊｜入住台北喜來登／天成文旅華山町／萬華凱達大飯店｜台北市出發\n",
      "小資旅遊推薦｜新北市十分九份半日遊／二日遊｜入住台北喜來登／天成文旅華山町／萬華凱達大飯店｜台北市出發\n",
      "台灣宜蘭｜明池森林九寮溪生態一日｜台北市區出發\n",
      "小資旅遊推薦｜基隆正濱漁港＆新北象鼻岩一日遊／二日遊｜入住台北喜來登／天成文旅華山町／萬華凱達大飯店｜台北市出發\n",
      "新竹人氣健行景點｜霞喀羅古道一日縱走｜台北市區出發\n",
      "宜蘭溫泉一日遊｜A.maze 兔子迷宮景觀餐廳 & 礁溪溫泉 & 安農溪落羽松｜台北市區彈性接送\n",
      "台灣新竹｜山上人家歐風假期一日遊｜台北市區出發\n",
      "陽明山海芋季一日遊｜竹子湖採海芋 & 繡球花季 & 冷水坑 | 台北市區彈性接送\n"
     ]
    }
   ],
   "source": [
    "GetKKday(\"台北市\", \"name\")"
   ]
  },
  {
   "cell_type": "code",
   "execution_count": 3,
   "metadata": {
    "scrolled": true
   },
   "outputs": [
    {
     "name": "stdout",
     "output_type": "stream",
     "text": [
      "https://www.kkday.com/zh-tw/product/105016\n",
      "https://www.kkday.com/zh-tw/product/105113\n",
      "https://www.kkday.com/zh-tw/product/24133\n",
      "https://www.kkday.com/zh-tw/product/24131\n",
      "https://www.kkday.com/zh-tw/product/114102\n",
      "https://www.kkday.com/zh-tw/product/24135\n",
      "https://www.kkday.com/zh-tw/product/24129\n",
      "https://www.kkday.com/zh-tw/product/23828\n",
      "https://www.kkday.com/zh-tw/product/100250\n",
      "https://www.kkday.com/zh-tw/product/101500\n"
     ]
    }
   ],
   "source": [
    "GetKKday(\"桃園市\" , \"url\")"
   ]
  },
  {
   "cell_type": "code",
   "execution_count": 4,
   "metadata": {},
   "outputs": [
    {
     "name": "stdout",
     "output_type": "stream",
     "text": [
      "910\n",
      "888\n",
      "560\n",
      "888\n",
      "999\n",
      "999\n",
      "1050\n",
      "1200\n",
      "1200\n",
      "1550\n"
     ]
    }
   ],
   "source": [
    "GetKKday(\"台中市\" , \"price\")"
   ]
  },
  {
   "cell_type": "code",
   "execution_count": 5,
   "metadata": {},
   "outputs": [
    {
     "name": "stdout",
     "output_type": "stream",
     "text": [
      "20210217\n",
      "20210212\n",
      "20210217\n",
      "20210217\n",
      "20210217\n",
      "20210215\n",
      "20210217\n",
      "20210301\n",
      "20210218\n",
      "20210217\n"
     ]
    }
   ],
   "source": [
    "GetKKday(\"台南市\" , \"earliest_sale_date\")"
   ]
  },
  {
   "cell_type": "code",
   "execution_count": 6,
   "metadata": {},
   "outputs": [
    {
     "name": "stdout",
     "output_type": "stream",
     "text": [
      "4.91\n",
      "4.78\n",
      "4.79\n",
      "4.86\n",
      "4.49\n",
      "4.8\n",
      "4.73\n",
      "0\n",
      "0\n",
      "4.5\n"
     ]
    }
   ],
   "source": [
    "GetKKday(\"高雄市\" , \"rating_star\")"
   ]
  }
 ],
 "metadata": {
  "kernelspec": {
   "display_name": "Python 3",
   "language": "python",
   "name": "python3"
  },
  "language_info": {
   "codemirror_mode": {
    "name": "ipython",
    "version": 3
   },
   "file_extension": ".py",
   "mimetype": "text/x-python",
   "name": "python",
   "nbconvert_exporter": "python",
   "pygments_lexer": "ipython3",
   "version": "3.7.3"
  }
 },
 "nbformat": 4,
 "nbformat_minor": 4
}
