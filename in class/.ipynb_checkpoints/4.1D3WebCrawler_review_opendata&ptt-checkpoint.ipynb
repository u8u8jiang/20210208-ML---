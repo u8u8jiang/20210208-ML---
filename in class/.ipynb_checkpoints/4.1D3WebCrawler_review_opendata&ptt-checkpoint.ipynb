{
 "cells": [
  {
   "cell_type": "code",
   "execution_count": null,
   "metadata": {},
   "outputs": [],
   "source": [
    "#基本網路爬蟲\n",
    "import urllib.request as request\n",
    "src=\"https://www.cjcu.edu.tw/\"\n",
    "with request.urlopen(src)as response:\n",
    "    data=response.read().decode(\"utf-8\") #utf-8解碼\n",
    "print(data)"
   ]
  },
  {
   "cell_type": "code",
   "execution_count": null,
   "metadata": {},
   "outputs": [],
   "source": [
    "#網路爬蟲-公開資料(觀察資料-JSON) \n",
    "import urllib .request as request\n",
    "src=\"https://data.taipei/api/v1/dataset/296acfa2-5d93-4706-ad58-e83cc951863c?scope=resourceAquire\"\n",
    "with request.urlopen(src)as response:\n",
    "    data=response.read().decode(\"utf-8\") \n",
    "print(data)"
   ]
  },
  {
   "cell_type": "code",
   "execution_count": null,
   "metadata": {},
   "outputs": [],
   "source": [
    "#網路爬蟲-公開資料-JSON格式讀取  \n",
    "import urllib .request as request\n",
    "import json#使用JSON格式讀取\n",
    "src=\"https://data.taipei/api/v1/dataset/296acfa2-5d93-4706-ad58-e83cc951863c?scope=resourceAquire\"\n",
    "with request.urlopen(src) as response:\n",
    "    data=json.load(response)#使用JSON格式讀取 \n",
    "\n",
    "#將公司名稱列表出來 \n",
    "clist = data[\"result\"][\"results\"] \n",
    "for company in clist:\n",
    "    print(company[\"公司名稱\"])"
   ]
  },
  {
   "cell_type": "code",
   "execution_count": null,
   "metadata": {},
   "outputs": [],
   "source": [
    "#網路爬蟲-觀察資料-HTML \n",
    "import urllib.request as request \n",
    "src=\"https://www.ptt.cc/bbs/Lifeismoney/index.html\" #PTT省錢版\n",
    "requestUA=request.Request(src, headers={\n",
    "    \"User-Agent\":\"Mozilla/5.0 (Windows NT 10.0; Win64; x64) AppleWebKit/537.36 (KHTML, like Gecko) Chrome/86.0.4240.193 Safari/537.36 Edg/86.0.622.68\"\n",
    "})\n",
    "with request.urlopen(requestUA) as response:\n",
    "    data=response.read().decode(\"utf-8\")\n",
    "print(data)"
   ]
  },
  {
   "cell_type": "code",
   "execution_count": null,
   "metadata": {},
   "outputs": [],
   "source": [
    "#網路爬蟲-HTML格式讀取 \n",
    "import urllib.request as request \n",
    "src=\"https://www.ptt.cc/bbs/Lifeismoney/index.html\" #PTT省錢版\n",
    "requestUA=request.Request(src, headers={\n",
    "    \"User-Agent\":\"Mozilla/5.0 (Windows NT 10.0; Win64; x64) AppleWebKit/537.36 (KHTML, like Gecko) Chrome/86.0.4240.193 Safari/537.36 Edg/86.0.622.68\"\n",
    "})\n",
    "with request.urlopen(requestUA) as response:\n",
    "    data=response.read().decode(\"utf-8\")\n",
    "import bs4\n",
    "root=bs4.BeautifulSoup(data, \"html.parser\") #讓BeautifulSoup協助解析HTML格式文件\n",
    "#印出網頁標題\n",
    "print(root.title.string)#尋找\"title\"標籤字串\n",
    "\n",
    "#印出文章主題\n",
    "titles=root.find_all(\"div\", class_=\"title\") #尋找所有class=\"title\"的div標籤\n",
    "for title in titles:\n",
    "    if title.a != None: #如果標題包含a標籤 (沒有被刪除), 印出來\n",
    "        print(title.a.string)"
   ]
  },
  {
   "cell_type": "code",
   "execution_count": null,
   "metadata": {},
   "outputs": [],
   "source": [
    "#網路爬蟲-Cookie\n",
    "#抓取PTT性版網頁的原始碼\n",
    "import urllib.request as request \n",
    "src=\"https://www.ptt.cc/bbs/Gossiping/index.html\"\n",
    "requestUA=request.Request(src, headers={\n",
    "    \"cookie\":\"over18=1\",#加入滿18歲的cookie\n",
    "    \"User-Agent\":\"Mozilla/5.0 (Windows NT 10.0; Win64; x64) AppleWebKit/537.36 (KHTML, like Gecko) Chrome/86.0.4240.193 Safari/537.36 Edg/86.0.622.68\"\n",
    "})\n",
    "with request.urlopen(requestUA) as response:\n",
    "    data=response.read().decode(\"utf-8\")\n",
    "import bs4\n",
    "root=bs4.BeautifulSoup(data, \"html.parser\") #讓BeautifulSoup協助解析HTML格式文件\n",
    "titles=root.find_all(\"div\", class_=\"title\") #尋找所有class=\"title\"的div標籤\n",
    "for title in titles:\n",
    "    if title.a != None: #如果標題包含a標籤 (沒有被刪除), 印出來\n",
    "        print(title.a.string)"
   ]
  },
  {
   "cell_type": "code",
   "execution_count": null,
   "metadata": {},
   "outputs": [],
   "source": [
    "#網路爬蟲-HTML格式讀取-自動列出多頁標題\n",
    "import urllib.request as request \n",
    "import bs4\n",
    "\n",
    "def getData(src):#顯示標題並回傳上一頁網址    \n",
    "    requestUA=request.Request(src, headers={\n",
    "        \"cookie\":\"over18=1\",\n",
    "        \"User-Agent\":\"Mozilla/5.0 (Windows NT 10.0; Win64; x64) AppleWebKit/537.36 (KHTML, like Gecko) Chrome/86.0.4240.193 Safari/537.36 Edg/86.0.622.68\"\n",
    "    })\n",
    "    with request.urlopen(requestUA) as response:\n",
    "        data=response.read().decode(\"utf-8\")\n",
    "\n",
    "    root=bs4.BeautifulSoup(data, \"html.parser\") #讓BeautifulSoup協助解析HTML格式文件\n",
    "    titles=root.find_all(\"div\", class_=\"title\") #尋找所有class=\"title\"的div標籤\n",
    "    for title in titles:\n",
    "        if title.a != None: #如果標題包含a標籤 (沒有被刪除), 印出來\n",
    "            print(title.a.string)\n",
    "            pass\n",
    "        pass\n",
    "    nextLink=root.find(\"a\", string=\"‹ 上頁\")#找內文是\"‹ 上頁\"的a標籤\n",
    "    return nextLink[\"href\"]\n",
    "######################################################################\n",
    "board=\"movie\"\n",
    "src=\"https://www.ptt.cc/bbs/\"+board+\"/index.html\"\n",
    "pages=5\n",
    "\n",
    "count=0\n",
    "while count<pages:\n",
    "    print(\"第\",count+1,\"頁:\")\n",
    "    src=NextPage=\"https://www.ptt.cc/\"+getData(src)\n",
    "    count+=1\n",
    "    print(\"========================\\n\")"
   ]
  },
  {
   "cell_type": "code",
   "execution_count": null,
   "metadata": {},
   "outputs": [],
   "source": [
    "#取得kkday關鍵網址資料\n",
    "import urllib.request as req\n",
    "import json\n",
    "url=\"https://www.kkday.com/zh-tw/product/ajax_productlist/?keyword=%E5%8F%B0%E5%8D%97%E5%B8%82&page=1\"\n",
    "request=req.Request(url, headers={ \"User-Agent\":\"Mozilla/5.0 (Windows NT 10.0; Win64; x64) AppleWebKit/537.36 (KHTML, like Gecko) Chrome/86.0.4240.193 Safari/537.36 Edg/86.0.622.68\"\n",
    "})\n",
    "with req.urlopen(request) as response:\n",
    "    data=json.loads(response.read().decode(\"utf-8\"))\n",
    "print(data)"
   ]
  },
  {
   "cell_type": "code",
   "execution_count": null,
   "metadata": {},
   "outputs": [],
   "source": [
    "#取得總筆數與總頁數\n",
    "total=data[\"total\"]\n",
    "pages=data[\"total_page\"]\n",
    "print(\"總筆數:\",total,\"\\t總頁數:\",pages)"
   ]
  },
  {
   "cell_type": "code",
   "execution_count": null,
   "metadata": {},
   "outputs": [],
   "source": [
    "#取得票券名稱\n",
    "posts=data[\"data\"]\n",
    "print(\"票券名稱:\")\n",
    "count=0\n",
    "for key in posts:\n",
    "    title = key[\"name\"]\n",
    "    print(title)"
   ]
  },
  {
   "cell_type": "code",
   "execution_count": null,
   "metadata": {},
   "outputs": [],
   "source": [
    "#取得票券詳細內容\n",
    "print(\"票券詳細內容:\")\n",
    "for key in posts:\n",
    "    title = key[\"introduction\"]\n",
    "    print(title+'\\n')"
   ]
  },
  {
   "cell_type": "code",
   "execution_count": null,
   "metadata": {},
   "outputs": [],
   "source": [
    "#取得票券連結\n",
    "print(\"票券連結:\")\n",
    "for key in posts:\n",
    "    title = key[\"url\"]\n",
    "    print(title)"
   ]
  },
  {
   "cell_type": "code",
   "execution_count": null,
   "metadata": {},
   "outputs": [],
   "source": [
    "#取得票券價格\n",
    "print(\"票券價格:\")\n",
    "for key in posts:\n",
    "    title = key[\"price\"]\n",
    "    print(title)"
   ]
  },
  {
   "cell_type": "code",
   "execution_count": null,
   "metadata": {},
   "outputs": [],
   "source": [
    "#取得最早可使用日期\n",
    "print(\"最早可使用日期:\")\n",
    "for key in posts:\n",
    "    title = key[\"earliest_sale_date\"]\n",
    "    print(title)"
   ]
  },
  {
   "cell_type": "code",
   "execution_count": null,
   "metadata": {},
   "outputs": [],
   "source": [
    "#取得評價\n",
    "print(\"評價:\")\n",
    "for key in posts:\n",
    "    title = key[\"rating_star\"]\n",
    "    print(title)"
   ]
  },
  {
   "cell_type": "code",
   "execution_count": null,
   "metadata": {},
   "outputs": [],
   "source": [
    "#取得kkday關鍵網址資料\n",
    "import urllib.request as req\n",
    "import json\n",
    "#url=\"https://www.kkday.com/zh-tw/product/ajax_productlist/?keyword=%E5%8F%B0%E5%8D%97%E5%B8%82&page=1\"\n",
    "url=\"https://www.kkday.com/zh-tw/product/ajax_productlist/?keyword=台南市&page=1\"\n",
    "request=req.Request(url, headers={ \"User-Agent\":\"Mozilla/5.0 (Windows NT 10.0; Win64; x64) AppleWebKit/537.36 (KHTML, like Gecko) Chrome/86.0.4240.193 Safari/537.36 Edg/86.0.622.68\"\n",
    "})\n",
    "with req.urlopen(request) as response:\n",
    "    data=json.loads(response.read().decode(\"utf-8\"))\n",
    "print(data)"
   ]
  },
  {
   "cell_type": "code",
   "execution_count": null,
   "metadata": {},
   "outputs": [],
   "source": [
    "import urllib.parse\n",
    "#utf-8轉url: urllib.parse.quote(str)\n",
    "utf8='台南市'\n",
    "print(utf8,urllib.parse.quote(utf8))\n",
    "\n",
    "#url轉utf-8: urllib.parse.unquote(str)\n",
    "url='%E5%8F%B0%E5%8D%97%E5%B8%82'\n",
    "print(urllib.parse.unquote(url),url)"
   ]
  },
  {
   "cell_type": "code",
   "execution_count": null,
   "metadata": {},
   "outputs": [],
   "source": []
  }
 ],
 "metadata": {
  "kernelspec": {
   "display_name": "Python 3",
   "language": "python",
   "name": "python3"
  },
  "language_info": {
   "codemirror_mode": {
    "name": "ipython",
    "version": 3
   },
   "file_extension": ".py",
   "mimetype": "text/x-python",
   "name": "python",
   "nbconvert_exporter": "python",
   "pygments_lexer": "ipython3",
   "version": "3.7.3"
  }
 },
 "nbformat": 4,
 "nbformat_minor": 4
}
