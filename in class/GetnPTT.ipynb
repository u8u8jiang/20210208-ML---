{
 "cells": [
  {
   "cell_type": "code",
   "execution_count": 1,
   "metadata": {},
   "outputs": [],
   "source": [
    "import urllib.request as request \n",
    "import bs4\n",
    "\n",
    "def getData(src):#顯示標題並回傳上一頁網址    \n",
    "    requestUA=request.Request(src, headers={\n",
    "        \"cookie\":\"over18=1\",\n",
    "        \"User-Agent\":\"Mozilla/5.0 (Windows NT 10.0; Win64; x64) AppleWebKit/537.36 (KHTML, like Gecko) Chrome/86.0.4240.193 Safari/537.36 Edg/86.0.622.68\"\n",
    "    })\n",
    "    with request.urlopen(requestUA) as response:\n",
    "        data=response.read().decode(\"utf-8\")\n",
    "\n",
    "    root=bs4.BeautifulSoup(data, \"html.parser\") #讓BeautifulSoup協助解析HTML格式文件\n",
    "    titles=root.find_all(\"div\", class_=\"title\") #尋找所有class=\"title\"的div標籤\n",
    "    for title in titles:\n",
    "        if title.a != None: #如果標題包含a標籤 (沒有被刪除), 印出來\n",
    "            print(title.a.string)\n",
    "            pass\n",
    "        pass\n",
    "    nextLink=root.find(\"a\", string=\"‹ 上頁\")#找內文是\"‹ 上頁\"的a標籤\n",
    "    return nextLink[\"href\"]\n",
    "#抓上一頁連結\n",
    "def GetnPTT(name,pages):\n",
    "    if name==None:\n",
    "        name=\"NBA\"\n",
    "    count=0;\n",
    "    src=\"https://www.ptt.cc/bbs/\"+name+\"/index.html\"\n",
    "    while count<pages:\n",
    "        src=NextPage=\"https://www.ptt.cc/\"+getData(src)\n",
    "        count+=1\n",
    "        print(\"第\",count,\"頁\\n========================\\n\")        "
   ]
  },
  {
   "cell_type": "code",
   "execution_count": 2,
   "metadata": {},
   "outputs": [
    {
     "name": "stdout",
     "output_type": "stream",
     "text": [
      "[情報] 家樂福購物會員生日折價券100元\n",
      "[情報] 全家 2/8 一起喝茶吧\n",
      "[情報] 3/7「高雄」捐血送全聯禮券400+面紙盒\n",
      "[情報] 蝦皮白蘭氏 85折+88折券(可疊加\n",
      "[情報] 蝦皮屈臣氏衛生紙110抽限時特價\n",
      "[情報] 2/20就決定是你了！三重捐血室GO~送口罩!\n",
      "[情報] hamivideo 瘋狂十八豆\n",
      "[公告] 板務宣導&違規檢舉區\n",
      "[公告] 省錢板板規 2021年最新版\n",
      "[公告] 未滿1元集點抽獎資訊集中文\n",
      "第 1 頁\n",
      "========================\n",
      "\n",
      "Re: [情報] 台灣樂天 贈送100元點數(分眾)\n",
      "[情報] 汪喵星球無低消送6個罐頭\n",
      "[情報] 橘子支付2/11-16 7-11快閃加碼滿500送100\n",
      "Re: [情報]免費信用卡&支付優惠查詢工具(版友自造)\n",
      "[情報] 麗奇牙線大包裝買一送一\n",
      "Re: [情報]HamiPay單筆滿百最高回饋100點累點無上限\n",
      "[情報] 草莓網全站八折再九折再九五折\n",
      "[情報] 全聯週末限定買一送一(2/6-7）\n",
      "[情報] 舒酸定/靠得住品牌日滿額回饋15%點數\n",
      "[情報] 風倍清噴霧全系列屈臣氏加價購99\n",
      "[情報] 高雄、彰化，除夕領紅包\n",
      "[討論] irent要漲價啦\n",
      "[情報] happygo點數50點\n",
      "[情報] Momo PHILIPS AC3033空氣清淨機\n",
      "[情報] 肯德基優惠券 21566\n",
      "[情報] 大倉眼鏡買一送一1280元\n",
      "Re: [情報] 中華電信新春抽抽樂，一百抽一次通通\n",
      "Re: [情報] 家樂福滿千送百活動時間 \n",
      "[情報] 02/08 汽油不變 柴油不變！\n",
      "[情報] 蝦皮新用戶299-150折扣碼\n",
      "第 2 頁\n",
      "========================\n",
      "\n",
      "[情報]HamiPay單筆滿百最高回饋100點累點無上限\n",
      "Re: [情報] 寶雅 風倍清除臭特價\n",
      "[情報] 天母福袋 刷毛衣兩件288\n",
      "[情報] Canon集標籤送7-ELEVEN購物金(墨水/碳粉\n",
      "[情報] 中信麥當勞/台新拉亞atm早餐券,搭悠遊卡\n",
      "[情報] 黑沃咖啡暖心咖啡限量30萬杯\n",
      "[情報] line point 4+4\n",
      "[情報] 小熊維尼人氣貼圖限時半價\n",
      "Re: [情報] 中華電信新春抽抽樂，一百抽一次通通\n",
      "[情報] 國泰優惠app 2/5會員日活動\n",
      "[情報] IOS 小豬出任務  \n",
      "[情報] 對戒現折5200 有限名額\n",
      "[情報] realme Buds Q 耳機 $499\n",
      "[情報] GoShare $15x4\n",
      "Re: [情報] 首次完成綁定Hi ATM送100元萊爾富購\n",
      "[情報] UberEats折扣碼優惠\n",
      "[情報] 岡本003蘆薈保險套6入折後171元\n",
      "[情報] Hot7 line好友 刮刮卡 ～2/28\n",
      "[情報] 蝦皮白蘭氏蜆精，44元/瓶\n",
      "[情報]  加入CHACHA門市會員 OPT$50/盒\n",
      "第 3 頁\n",
      "========================\n",
      "\n"
     ]
    }
   ],
   "source": [
    "GetnPTT(\"LifeisMoney\",3)#抓取PTT省錢版前3頁的標題"
   ]
  },
  {
   "cell_type": "code",
   "execution_count": null,
   "metadata": {},
   "outputs": [],
   "source": []
  }
 ],
 "metadata": {
  "kernelspec": {
   "display_name": "Python 3",
   "language": "python",
   "name": "python3"
  },
  "language_info": {
   "codemirror_mode": {
    "name": "ipython",
    "version": 3
   },
   "file_extension": ".py",
   "mimetype": "text/x-python",
   "name": "python",
   "nbconvert_exporter": "python",
   "pygments_lexer": "ipython3",
   "version": "3.7.3"
  }
 },
 "nbformat": 4,
 "nbformat_minor": 4
}
