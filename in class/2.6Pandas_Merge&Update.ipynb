{
 "cells": [
  {
   "cell_type": "code",
   "execution_count": 1,
   "metadata": {},
   "outputs": [
    {
     "name": "stdout",
     "output_type": "stream",
     "text": [
      "   分類      價格   商店\n",
      "0  居家   11.42  家樂福\n",
      "1  居家   23.50  大潤發\n",
      "2  娛樂   19.99  家樂福\n",
      "3  娛樂   15.95  全聯超\n",
      "4  科技   55.75  大潤發\n",
      "5  科技  111.55  家樂福\n"
     ]
    }
   ],
   "source": [
    "#載入pandas模組 \n",
    "import pandas as pd\n",
    "#載入CSV資料\n",
    "df = pd.read_csv(\"products.csv\", encoding=\"utf8\")\n",
    "print(df)"
   ]
  },
  {
   "cell_type": "code",
   "execution_count": 2,
   "metadata": {},
   "outputs": [
    {
     "name": "stdout",
     "output_type": "stream",
     "text": [
      "   分類    價格   商店\n",
      "0  居家  21.6  家樂福\n",
      "1  居家  46.3  大潤發\n"
     ]
    }
   ],
   "source": [
    "#更新純量值\n",
    "df.loc[0, \"價格\"] = 21.6\n",
    "df.iloc[1,1] = 46.3\n",
    "print(df.head(2))"
   ]
  },
  {
   "cell_type": "code",
   "execution_count": 3,
   "metadata": {},
   "outputs": [
    {
     "name": "stdout",
     "output_type": "stream",
     "text": [
      "   分類     價格   商店\n",
      "0  居家  30.40  家樂福\n",
      "1  居家  46.30  大潤發\n",
      "2  娛樂  19.99  家樂福\n"
     ]
    }
   ],
   "source": [
    "#更新單筆記錄\n",
    "s = [\"居家\",30.4,\"家樂福\"] \n",
    "df.loc[0] = s\n",
    "print(df.head(3))"
   ]
  },
  {
   "cell_type": "code",
   "execution_count": 9,
   "metadata": {},
   "outputs": [
    {
     "name": "stdout",
     "output_type": "stream",
     "text": [
      "orginal data:\n",
      "    分類    價格   商店\n",
      "0  居家  23.4  家樂福\n",
      "1  居家  56.7  大潤發\n",
      "2  娛樂  12.1  家樂福\n",
      "3  娛樂  90.5  全聯超\n",
      "4  科技  11.2  大潤發\n",
      "5  科技  34.1  家樂福 \n",
      " =================\n",
      "replaced data:\n",
      "    分類    價格   商店\n",
      "0  居家  23.4  家樂福\n",
      "1  居家  56.7  大潤發\n",
      "2  娛樂  12.1  家樂福\n",
      "3  娛樂  90.5  全聯超\n",
      "4  科技  11.2  大潤發\n",
      "5  科技  34.1  家樂福\n"
     ]
    }
   ],
   "source": [
    "#更新整個欄位值\n",
    "print('orginal data:\\n',df,'\\n','=================')\n",
    "df.loc[:,\"價格\"] = [23.4, 56.7, 12.1, 90.5, 11.2, 34.1]\n",
    "print('replaced data:\\n',df)"
   ]
  },
  {
   "cell_type": "code",
   "execution_count": null,
   "metadata": {},
   "outputs": [],
   "source": [
    "#更新整個DataFrame物件\n",
    "import random\n",
    "df2 = pd.DataFrame([random.sample(range(0,1000), 3),\n",
    "                   random.sample(range(0,1000), 3)])\n",
    "print(df2)\n",
    "print(df2[df2 > 500])\n",
    "df2[df2 > 500] = df2 - 100\n",
    "print(df2)"
   ]
  },
  {
   "cell_type": "code",
   "execution_count": null,
   "metadata": {},
   "outputs": [],
   "source": [
    "#刪除純量值\n",
    "df.loc[0,\"價格\"] = None\n",
    "df.iloc[2,1] = None\n",
    "print(df.head(3))"
   ]
  },
  {
   "cell_type": "code",
   "execution_count": 10,
   "metadata": {},
   "outputs": [
    {
     "name": "stdout",
     "output_type": "stream",
     "text": [
      "   分類    價格   商店\n",
      "0  居家  23.4  家樂福\n",
      "2  娛樂  12.1  家樂福\n",
      "3  娛樂  90.5  全聯超\n",
      "5  科技  34.1  家樂福\n",
      "   分類    價格   商店\n",
      "0  居家  23.4  家樂福\n",
      "1  居家  56.7  大潤發\n",
      "4  科技  11.2  大潤發\n",
      "5  科技  34.1  家樂福\n"
     ]
    }
   ],
   "source": [
    "#刪除記錄\n",
    "df2 = df.drop([1,4])    # 2,5 筆\n",
    "print(df2)\n",
    "df.drop(df.index[[2,3]], inplace=True) # 3,4 筆\n",
    "print(df)"
   ]
  },
  {
   "cell_type": "code",
   "execution_count": 11,
   "metadata": {},
   "outputs": [
    {
     "name": "stdout",
     "output_type": "stream",
     "text": [
      "   分類   商店\n",
      "0  居家  家樂福\n",
      "1  居家  大潤發\n",
      "4  科技  大潤發\n",
      "5  科技  家樂福\n"
     ]
    }
   ],
   "source": [
    "#刪除欄位\n",
    "df2 = df.drop([\"價格\"], axis=1)#axis參數值預設值0是記錄；1是欄位\n",
    "print(df2)"
   ]
  },
  {
   "cell_type": "code",
   "execution_count": 12,
   "metadata": {},
   "outputs": [
    {
     "name": "stdout",
     "output_type": "stream",
     "text": [
      "   分類    價格   商店\n",
      "0  居家  23.4  家樂福\n",
      "1  居家  56.7  大潤發\n",
      "4  科技  11.2  大潤發\n",
      "5  科技  34.1  家樂福\n",
      "G  科學  28.5  全聯超\n",
      "   分類    價格   商店\n",
      "0  居家  23.4  家樂福\n",
      "1  居家  56.7  大潤發\n",
      "2  科技  11.2  大潤發\n",
      "3  科技  34.1  家樂福\n",
      "4  科學  28.5  全聯超\n",
      "5  科學  79.2  大潤發\n"
     ]
    }
   ],
   "source": [
    "#新增記錄\n",
    "df.loc[\"G\"] = [\"科學\", 28.5, \"全聯超\"]\n",
    "print(df)\n",
    "s = pd.Series({\"分類\":\"科學\",\"商店\":\"大潤發\",\"價格\":79.2})\n",
    "df2 = df.append(s, ignore_index=True)\n",
    "print(df2)"
   ]
  },
  {
   "cell_type": "code",
   "execution_count": null,
   "metadata": {},
   "outputs": [],
   "source": [
    "#新增欄位\n",
    "df[\"銷售\"] = [124.5,227.5,156.7,435.6,333.7] \n",
    "print(df)\n",
    "df.loc[:,\"城市\"] = [\"台北\",\"新竹\",\"台中\",\"新北\",\"高雄\"]\n",
    "print(df)"
   ]
  },
  {
   "cell_type": "code",
   "execution_count": null,
   "metadata": {},
   "outputs": [],
   "source": [
    "#建立空的DataFrame物件\n",
    "columns = [\"分類\", \"商店\", \"價格\"]\n",
    "df_empty = pd.DataFrame(None, index=[\"A\",\"B\",\"C\",\"D\",\"E\"], columns=columns)\n",
    "print(df_empty)"
   ]
  },
  {
   "cell_type": "code",
   "execution_count": null,
   "metadata": {},
   "outputs": [],
   "source": [
    "#複製DataFrame物件\n",
    "df_copy = df.copy()\n",
    "print(df_copy)"
   ]
  },
  {
   "cell_type": "code",
   "execution_count": null,
   "metadata": {},
   "outputs": [],
   "source": [
    "#連接多個DataFrame物件\n",
    "df = pd.read_csv(\"products.csv\", encoding=\"utf16\")\n",
    "columns = [\"type\", \"price\",\"name\" ]\n",
    "df.index = [\"A\", \"B\", \"C\", \"D\", \"E\", \"F\"]\n",
    "df.columns = columns\n",
    "print(df)\n",
    "df2 = df.drop(df.index[[0,2,4]])\n",
    "df2[\"price\"]=df2[\"price\"]*2\n",
    "df2.index = [\"A\",\"B\",\"C\"]\n",
    "print(df2)\n",
    "df3 = pd.concat([df,df2])  \n",
    "print(df3)\n",
    "df4 = pd.concat([df,df2], ignore_index=True)\n",
    "print(df4)"
   ]
  },
  {
   "cell_type": "code",
   "execution_count": null,
   "metadata": {},
   "outputs": [],
   "source": [
    "#合併2個DataFrame物件\n",
    "df = pd.read_csv(\"products.csv\", encoding=\"utf16\")\n",
    "df.columns = [\"type\", \"price\",\"name\" ]\n",
    "df.index = [\"A\", \"B\", \"C\", \"D\", \"E\", \"F\"]\n",
    "print(df)\n",
    "df2 = df.drop(df.index[[0,2,4]])\n",
    "df2[\"price\"]=df2[\"price\"]*2\n",
    "df2.columns = [\"type\", \"sales\",\"name\" ]\n",
    "df2.index = [\"A\",\"B\",\"C\"]\n",
    "print(df2)\n",
    "df3 = pd.merge(df, df2)\n",
    "print(df3)\n",
    "df4 = pd.merge(df2, df)\n",
    "print(df4) "
   ]
  },
  {
   "cell_type": "code",
   "execution_count": null,
   "metadata": {},
   "outputs": [],
   "source": []
  }
 ],
 "metadata": {
  "kernelspec": {
   "display_name": "Python 3",
   "language": "python",
   "name": "python3"
  },
  "language_info": {
   "codemirror_mode": {
    "name": "ipython",
    "version": 3
   },
   "file_extension": ".py",
   "mimetype": "text/x-python",
   "name": "python",
   "nbconvert_exporter": "python",
   "pygments_lexer": "ipython3",
   "version": "3.7.3"
  }
 },
 "nbformat": 4,
 "nbformat_minor": 4
}
