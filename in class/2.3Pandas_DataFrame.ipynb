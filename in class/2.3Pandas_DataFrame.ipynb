{
 "cells": [
  {
   "cell_type": "code",
   "execution_count": 1,
   "metadata": {
    "scrolled": true
   },
   "outputs": [
    {
     "name": "stdout",
     "output_type": "stream",
     "text": [
      "  name  salary\n",
      "0  May   30000\n",
      "1  Lin   60000\n",
      "2  Bob   50000\n"
     ]
    }
   ],
   "source": [
    "#載入pandas模組\n",
    "import pandas as pd\n",
    "#資料索引: pd.DataFrame(字典, index=索引列表)\n",
    "data = pd.DataFrame({\n",
    "    \"name\":[\"May\", \"Lin\", \"Bob\"],\n",
    "    \"salary\":[30000, 60000, 50000] \n",
    "})\n",
    "print(data)"
   ]
  },
  {
   "cell_type": "code",
   "execution_count": 2,
   "metadata": {
    "scrolled": true
   },
   "outputs": [
    {
     "name": "stdout",
     "output_type": "stream",
     "text": [
      "  name  salary\n",
      "a  May   30000\n",
      "b  Lin   60000\n",
      "c  Bob   50000\n"
     ]
    }
   ],
   "source": [
    "#資料索引(自訂): pd.DataFrame(字典, index=索引列表)\n",
    "data = pd.DataFrame({\n",
    "    \"name\":[\"May\", \"Lin\", \"Bob\"],\n",
    "    \"salary\":[30000, 60000, 50000] \n",
    "}, index=[\"a\",\"b\",\"c\"])\n",
    "print(data)"
   ]
  },
  {
   "cell_type": "code",
   "execution_count": 3,
   "metadata": {
    "scrolled": true
   },
   "outputs": [
    {
     "name": "stdout",
     "output_type": "stream",
     "text": [
      "資料數量: 6\n",
      "資料形狀(列, 欄): (3, 2)\n",
      "資料索引: Index(['a', 'b', 'c'], dtype='object')\n"
     ]
    }
   ],
   "source": [
    "#觀察資料 \n",
    "print(\"資料數量:\", data.size)\n",
    "print(\"資料形狀(列, 欄):\", data.shape)\n",
    "print(\"資料索引:\", data.index)  #series type"
   ]
  },
  {
   "cell_type": "code",
   "execution_count": 4,
   "metadata": {
    "scrolled": true
   },
   "outputs": [
    {
     "name": "stdout",
     "output_type": "stream",
     "text": [
      "  name  salary\n",
      "a  May   30000\n",
      "b  Lin   60000\n",
      "c  Bob   50000 \n",
      "===========\n",
      "取得第二列\n",
      "name        Lin\n",
      "salary    60000\n",
      "Name: b, dtype: object\n"
     ]
    }
   ],
   "source": [
    "#取得列（Row/橫向）的Series資料：根據順序、根據索引 \n",
    "print(data,\"\\n===========\")\n",
    "print(\"取得第二列\", data.iloc[1], sep=\"\\n\")   #key:iloc"
   ]
  },
  {
   "cell_type": "code",
   "execution_count": 5,
   "metadata": {
    "scrolled": true
   },
   "outputs": [
    {
     "name": "stdout",
     "output_type": "stream",
     "text": [
      "  name  salary\n",
      "a  May   30000\n",
      "b  Lin   60000\n",
      "c  Bob   50000 \n",
      "===========\n",
      "取得第c列\n",
      "name        Bob\n",
      "salary    50000\n",
      "Name: c, dtype: object\n"
     ]
    }
   ],
   "source": [
    "print(data,\"\\n===========\")\n",
    "print(\"取得第c列\", data.loc[\"c\"], sep=\"\\n\")  #key:loc"
   ]
  },
  {
   "cell_type": "code",
   "execution_count": 6,
   "metadata": {
    "scrolled": true
   },
   "outputs": [
    {
     "name": "stdout",
     "output_type": "stream",
     "text": [
      "  name  salary\n",
      "a  May   30000\n",
      "b  Lin   60000\n",
      "c  Bob   50000 \n",
      "===========\n",
      "取得name欄位\n",
      "a    May\n",
      "b    Lin\n",
      "c    Bob\n",
      "Name: name, dtype: object\n"
     ]
    }
   ],
   "source": [
    "#取得欄（Column/直向）的Series資料：根據欄位的名稱 \n",
    "print(data,\"\\n===========\")\n",
    "print(\"取得name欄位\", data[\"name\"], sep=\"\\n\")"
   ]
  },
  {
   "cell_type": "code",
   "execution_count": 7,
   "metadata": {
    "scrolled": true
   },
   "outputs": [
    {
     "name": "stdout",
     "output_type": "stream",
     "text": [
      "把name全部轉大寫\n",
      "a    MAY\n",
      "b    LIN\n",
      "c    BOB\n",
      "Name: name, dtype: object\n"
     ]
    }
   ],
   "source": [
    "name = data[\"name\"]\n",
    "print(\"把name全部轉大寫\", name.str.upper(), sep=\"\\n\")"
   ]
  },
  {
   "cell_type": "code",
   "execution_count": 8,
   "metadata": {
    "scrolled": true
   },
   "outputs": [
    {
     "name": "stdout",
     "output_type": "stream",
     "text": [
      "薪水的平均值 46666.666666666664\n"
     ]
    }
   ],
   "source": [
    "salaries = data[\"salary\"]\n",
    "print(\"薪水的平均值\", salaries.mean())"
   ]
  },
  {
   "cell_type": "code",
   "execution_count": 5,
   "metadata": {
    "scrolled": true
   },
   "outputs": [
    {
     "name": "stdout",
     "output_type": "stream",
     "text": [
      "  name  salary  rank\n",
      "a  May   30000     3\n",
      "b  Lin   60000     6\n",
      "c  Bob   50000     1 \n",
      "===========\n",
      "  name  salary  rank  revenue\n",
      "a  May   30000     3   500000\n",
      "b  Lin   60000     6   400000\n",
      "c  Bob   50000     1   300000\n"
     ]
    }
   ],
   "source": [
    "#建立新的欄位 \n",
    "#data[新欄位的名稱]=列表\n",
    "print(data,\"\\n===========\")\n",
    "data[\"revenue\"] = [500000, 400000, 300000] \n",
    "print(data)"
   ]
  },
  {
   "cell_type": "code",
   "execution_count": 6,
   "metadata": {
    "scrolled": true
   },
   "outputs": [
    {
     "name": "stdout",
     "output_type": "stream",
     "text": [
      "  name  salary  rank  revenue\n",
      "a  May   30000     3   500000\n",
      "b  Lin   60000     6   400000\n",
      "c  Bob   50000     1   300000 \n",
      "===========\n",
      "  name  salary  rank  revenue         cp\n",
      "a  May   30000     3   500000  16.666667\n",
      "b  Lin   60000     6   400000   6.666667\n",
      "c  Bob   50000     1   300000   6.000000\n"
     ]
    }
   ],
   "source": [
    "#data[新欄位的名稱]=Series的資料\n",
    "print(data,\"\\n===========\")\n",
    "data[\"rank\"]=pd.Series([3,6,1], index=[\"a\",\"b\",\"c\"])\n",
    "data[\"cp\"]=data[\"revenue\"]/data[\"salary\"]   #產值/薪水 = cp值\n",
    "print(data)"
   ]
  },
  {
   "cell_type": "code",
   "execution_count": 7,
   "metadata": {
    "scrolled": false
   },
   "outputs": [
    {
     "name": "stdout",
     "output_type": "stream",
     "text": [
      "   分類   商店      價格\n",
      "A  居家  家樂福   11.42\n",
      "B  居家  大潤發   23.50\n",
      "C  娛樂  家樂福   19.99\n",
      "D  娛樂  全聯超   15.95\n",
      "E  科技  大潤發   55.75\n",
      "F  科技  家樂福  111.55\n"
     ]
    }
   ],
   "source": [
    "#建立DataFrame  -自訂資料索引\n",
    "products = {\"分類\": [\"居家\",\"居家\",\"娛樂\",\"娛樂\",\"科技\",\"科技\"],\n",
    "\"商店\": [\"家樂福\",\"大潤發\",\"家樂福\",\"全聯超\",\"大潤發\",\"家樂福\"],\n",
    "            \"價格\": [11.42,23.50,19.99,15.95,55.75,111.55]}    #字典:order\n",
    "ordinals =[\"A\", \"B\", \"C\", \"D\", \"E\", \"F\"]\n",
    "df = pd.DataFrame(products, index=ordinals) \n",
    "print(df)"
   ]
  },
  {
   "cell_type": "code",
   "execution_count": 8,
   "metadata": {},
   "outputs": [
    {
     "name": "stdout",
     "output_type": "stream",
     "text": [
      "   分類      價格   商店\n",
      "A  居家   11.42  家樂福\n",
      "B  居家   23.50  大潤發\n",
      "C  娛樂   19.99  家樂福\n",
      "D  娛樂   15.95  全聯超\n",
      "E  科技   55.75  大潤發\n",
      "F  科技  111.55  家樂福\n"
     ]
    }
   ],
   "source": [
    "#建立DataFrame - 重新指定DataFrame物件的欄位順序\n",
    "df = pd.DataFrame(products, \n",
    "                  columns = [\"分類\", \"價格\", \"商店\"],\n",
    "                  index=ordinals) \n",
    "print(df)"
   ]
  },
  {
   "cell_type": "code",
   "execution_count": 17,
   "metadata": {
    "scrolled": true
   },
   "outputs": [],
   "source": [
    "#匯出CSV格式檔案  -->csv, json, html, excel, sql\n",
    "df.to_csv(\"products.csv\", encoding=\"utf8\",  index=False)  #純匯出可用utf16\n",
    "df.to_csv(\"products1.csv\", encoding=\"utf16\",  index=True)"
   ]
  },
  {
   "cell_type": "code",
   "execution_count": 16,
   "metadata": {},
   "outputs": [
    {
     "name": "stdout",
     "output_type": "stream",
     "text": [
      "     商店      價格\n",
      "居家  家樂福   11.42\n",
      "居家  大潤發   23.50\n",
      "娛樂  家樂福   19.99\n",
      "娛樂  全聯超   15.95\n",
      "科技  大潤發   55.75\n",
      "科技  家樂福  111.55\n"
     ]
    }
   ],
   "source": [
    "#使用存在的欄位作為索引標籤\n",
    "df = pd.DataFrame(products, \n",
    "                  columns = [\"商店\", \"價格\"],\n",
    "                  index = products[\"分類\"]) \n",
    "print(df)"
   ]
  },
  {
   "cell_type": "code",
   "execution_count": 22,
   "metadata": {},
   "outputs": [
    {
     "ename": "UnicodeDecodeError",
     "evalue": "'utf-8' codec can't decode byte 0xff in position 0: invalid start byte",
     "output_type": "error",
     "traceback": [
      "\u001b[1;31m---------------------------------------------------------------------------\u001b[0m",
      "\u001b[1;31mUnicodeDecodeError\u001b[0m                        Traceback (most recent call last)",
      "\u001b[1;32m<ipython-input-22-84db62488fed>\u001b[0m in \u001b[0;36m<module>\u001b[1;34m\u001b[0m\n\u001b[0;32m      1\u001b[0m \u001b[1;31m#匯入CSV檔案\u001b[0m\u001b[1;33m\u001b[0m\u001b[1;33m\u001b[0m\u001b[1;33m\u001b[0m\u001b[0m\n\u001b[1;32m----> 2\u001b[1;33m \u001b[0mdf\u001b[0m \u001b[1;33m=\u001b[0m \u001b[0mpd\u001b[0m\u001b[1;33m.\u001b[0m\u001b[0mread_csv\u001b[0m\u001b[1;33m(\u001b[0m\u001b[1;34m\"products.csv\"\u001b[0m\u001b[1;33m,\u001b[0m \u001b[0mencoding\u001b[0m\u001b[1;33m=\u001b[0m\u001b[1;34m\"utf8\"\u001b[0m\u001b[1;33m)\u001b[0m\u001b[1;33m\u001b[0m\u001b[1;33m\u001b[0m\u001b[0m\n\u001b[0m\u001b[0;32m      3\u001b[0m \u001b[0mprint\u001b[0m\u001b[1;33m(\u001b[0m\u001b[0mdf\u001b[0m\u001b[1;33m)\u001b[0m\u001b[1;33m\u001b[0m\u001b[1;33m\u001b[0m\u001b[0m\n",
      "\u001b[1;32m~\\Anaconda3\\lib\\site-packages\\pandas\\io\\parsers.py\u001b[0m in \u001b[0;36mparser_f\u001b[1;34m(filepath_or_buffer, sep, delimiter, header, names, index_col, usecols, squeeze, prefix, mangle_dupe_cols, dtype, engine, converters, true_values, false_values, skipinitialspace, skiprows, skipfooter, nrows, na_values, keep_default_na, na_filter, verbose, skip_blank_lines, parse_dates, infer_datetime_format, keep_date_col, date_parser, dayfirst, iterator, chunksize, compression, thousands, decimal, lineterminator, quotechar, quoting, doublequote, escapechar, comment, encoding, dialect, tupleize_cols, error_bad_lines, warn_bad_lines, delim_whitespace, low_memory, memory_map, float_precision)\u001b[0m\n\u001b[0;32m    700\u001b[0m                     skip_blank_lines=skip_blank_lines)\n\u001b[0;32m    701\u001b[0m \u001b[1;33m\u001b[0m\u001b[0m\n\u001b[1;32m--> 702\u001b[1;33m         \u001b[1;32mreturn\u001b[0m \u001b[0m_read\u001b[0m\u001b[1;33m(\u001b[0m\u001b[0mfilepath_or_buffer\u001b[0m\u001b[1;33m,\u001b[0m \u001b[0mkwds\u001b[0m\u001b[1;33m)\u001b[0m\u001b[1;33m\u001b[0m\u001b[1;33m\u001b[0m\u001b[0m\n\u001b[0m\u001b[0;32m    703\u001b[0m \u001b[1;33m\u001b[0m\u001b[0m\n\u001b[0;32m    704\u001b[0m     \u001b[0mparser_f\u001b[0m\u001b[1;33m.\u001b[0m\u001b[0m__name__\u001b[0m \u001b[1;33m=\u001b[0m \u001b[0mname\u001b[0m\u001b[1;33m\u001b[0m\u001b[1;33m\u001b[0m\u001b[0m\n",
      "\u001b[1;32m~\\Anaconda3\\lib\\site-packages\\pandas\\io\\parsers.py\u001b[0m in \u001b[0;36m_read\u001b[1;34m(filepath_or_buffer, kwds)\u001b[0m\n\u001b[0;32m    427\u001b[0m \u001b[1;33m\u001b[0m\u001b[0m\n\u001b[0;32m    428\u001b[0m     \u001b[1;31m# Create the parser.\u001b[0m\u001b[1;33m\u001b[0m\u001b[1;33m\u001b[0m\u001b[1;33m\u001b[0m\u001b[0m\n\u001b[1;32m--> 429\u001b[1;33m     \u001b[0mparser\u001b[0m \u001b[1;33m=\u001b[0m \u001b[0mTextFileReader\u001b[0m\u001b[1;33m(\u001b[0m\u001b[0mfilepath_or_buffer\u001b[0m\u001b[1;33m,\u001b[0m \u001b[1;33m**\u001b[0m\u001b[0mkwds\u001b[0m\u001b[1;33m)\u001b[0m\u001b[1;33m\u001b[0m\u001b[1;33m\u001b[0m\u001b[0m\n\u001b[0m\u001b[0;32m    430\u001b[0m \u001b[1;33m\u001b[0m\u001b[0m\n\u001b[0;32m    431\u001b[0m     \u001b[1;32mif\u001b[0m \u001b[0mchunksize\u001b[0m \u001b[1;32mor\u001b[0m \u001b[0miterator\u001b[0m\u001b[1;33m:\u001b[0m\u001b[1;33m\u001b[0m\u001b[1;33m\u001b[0m\u001b[0m\n",
      "\u001b[1;32m~\\Anaconda3\\lib\\site-packages\\pandas\\io\\parsers.py\u001b[0m in \u001b[0;36m__init__\u001b[1;34m(self, f, engine, **kwds)\u001b[0m\n\u001b[0;32m    893\u001b[0m             \u001b[0mself\u001b[0m\u001b[1;33m.\u001b[0m\u001b[0moptions\u001b[0m\u001b[1;33m[\u001b[0m\u001b[1;34m'has_index_names'\u001b[0m\u001b[1;33m]\u001b[0m \u001b[1;33m=\u001b[0m \u001b[0mkwds\u001b[0m\u001b[1;33m[\u001b[0m\u001b[1;34m'has_index_names'\u001b[0m\u001b[1;33m]\u001b[0m\u001b[1;33m\u001b[0m\u001b[1;33m\u001b[0m\u001b[0m\n\u001b[0;32m    894\u001b[0m \u001b[1;33m\u001b[0m\u001b[0m\n\u001b[1;32m--> 895\u001b[1;33m         \u001b[0mself\u001b[0m\u001b[1;33m.\u001b[0m\u001b[0m_make_engine\u001b[0m\u001b[1;33m(\u001b[0m\u001b[0mself\u001b[0m\u001b[1;33m.\u001b[0m\u001b[0mengine\u001b[0m\u001b[1;33m)\u001b[0m\u001b[1;33m\u001b[0m\u001b[1;33m\u001b[0m\u001b[0m\n\u001b[0m\u001b[0;32m    896\u001b[0m \u001b[1;33m\u001b[0m\u001b[0m\n\u001b[0;32m    897\u001b[0m     \u001b[1;32mdef\u001b[0m \u001b[0mclose\u001b[0m\u001b[1;33m(\u001b[0m\u001b[0mself\u001b[0m\u001b[1;33m)\u001b[0m\u001b[1;33m:\u001b[0m\u001b[1;33m\u001b[0m\u001b[1;33m\u001b[0m\u001b[0m\n",
      "\u001b[1;32m~\\Anaconda3\\lib\\site-packages\\pandas\\io\\parsers.py\u001b[0m in \u001b[0;36m_make_engine\u001b[1;34m(self, engine)\u001b[0m\n\u001b[0;32m   1120\u001b[0m     \u001b[1;32mdef\u001b[0m \u001b[0m_make_engine\u001b[0m\u001b[1;33m(\u001b[0m\u001b[0mself\u001b[0m\u001b[1;33m,\u001b[0m \u001b[0mengine\u001b[0m\u001b[1;33m=\u001b[0m\u001b[1;34m'c'\u001b[0m\u001b[1;33m)\u001b[0m\u001b[1;33m:\u001b[0m\u001b[1;33m\u001b[0m\u001b[1;33m\u001b[0m\u001b[0m\n\u001b[0;32m   1121\u001b[0m         \u001b[1;32mif\u001b[0m \u001b[0mengine\u001b[0m \u001b[1;33m==\u001b[0m \u001b[1;34m'c'\u001b[0m\u001b[1;33m:\u001b[0m\u001b[1;33m\u001b[0m\u001b[1;33m\u001b[0m\u001b[0m\n\u001b[1;32m-> 1122\u001b[1;33m             \u001b[0mself\u001b[0m\u001b[1;33m.\u001b[0m\u001b[0m_engine\u001b[0m \u001b[1;33m=\u001b[0m \u001b[0mCParserWrapper\u001b[0m\u001b[1;33m(\u001b[0m\u001b[0mself\u001b[0m\u001b[1;33m.\u001b[0m\u001b[0mf\u001b[0m\u001b[1;33m,\u001b[0m \u001b[1;33m**\u001b[0m\u001b[0mself\u001b[0m\u001b[1;33m.\u001b[0m\u001b[0moptions\u001b[0m\u001b[1;33m)\u001b[0m\u001b[1;33m\u001b[0m\u001b[1;33m\u001b[0m\u001b[0m\n\u001b[0m\u001b[0;32m   1123\u001b[0m         \u001b[1;32melse\u001b[0m\u001b[1;33m:\u001b[0m\u001b[1;33m\u001b[0m\u001b[1;33m\u001b[0m\u001b[0m\n\u001b[0;32m   1124\u001b[0m             \u001b[1;32mif\u001b[0m \u001b[0mengine\u001b[0m \u001b[1;33m==\u001b[0m \u001b[1;34m'python'\u001b[0m\u001b[1;33m:\u001b[0m\u001b[1;33m\u001b[0m\u001b[1;33m\u001b[0m\u001b[0m\n",
      "\u001b[1;32m~\\Anaconda3\\lib\\site-packages\\pandas\\io\\parsers.py\u001b[0m in \u001b[0;36m__init__\u001b[1;34m(self, src, **kwds)\u001b[0m\n\u001b[0;32m   1851\u001b[0m         \u001b[0mkwds\u001b[0m\u001b[1;33m[\u001b[0m\u001b[1;34m'usecols'\u001b[0m\u001b[1;33m]\u001b[0m \u001b[1;33m=\u001b[0m \u001b[0mself\u001b[0m\u001b[1;33m.\u001b[0m\u001b[0musecols\u001b[0m\u001b[1;33m\u001b[0m\u001b[1;33m\u001b[0m\u001b[0m\n\u001b[0;32m   1852\u001b[0m \u001b[1;33m\u001b[0m\u001b[0m\n\u001b[1;32m-> 1853\u001b[1;33m         \u001b[0mself\u001b[0m\u001b[1;33m.\u001b[0m\u001b[0m_reader\u001b[0m \u001b[1;33m=\u001b[0m \u001b[0mparsers\u001b[0m\u001b[1;33m.\u001b[0m\u001b[0mTextReader\u001b[0m\u001b[1;33m(\u001b[0m\u001b[0msrc\u001b[0m\u001b[1;33m,\u001b[0m \u001b[1;33m**\u001b[0m\u001b[0mkwds\u001b[0m\u001b[1;33m)\u001b[0m\u001b[1;33m\u001b[0m\u001b[1;33m\u001b[0m\u001b[0m\n\u001b[0m\u001b[0;32m   1854\u001b[0m         \u001b[0mself\u001b[0m\u001b[1;33m.\u001b[0m\u001b[0munnamed_cols\u001b[0m \u001b[1;33m=\u001b[0m \u001b[0mself\u001b[0m\u001b[1;33m.\u001b[0m\u001b[0m_reader\u001b[0m\u001b[1;33m.\u001b[0m\u001b[0munnamed_cols\u001b[0m\u001b[1;33m\u001b[0m\u001b[1;33m\u001b[0m\u001b[0m\n\u001b[0;32m   1855\u001b[0m \u001b[1;33m\u001b[0m\u001b[0m\n",
      "\u001b[1;32mpandas/_libs/parsers.pyx\u001b[0m in \u001b[0;36mpandas._libs.parsers.TextReader.__cinit__\u001b[1;34m()\u001b[0m\n",
      "\u001b[1;32mpandas/_libs/parsers.pyx\u001b[0m in \u001b[0;36mpandas._libs.parsers.TextReader._get_header\u001b[1;34m()\u001b[0m\n",
      "\u001b[1;31mUnicodeDecodeError\u001b[0m: 'utf-8' codec can't decode byte 0xff in position 0: invalid start byte"
     ]
    }
   ],
   "source": [
    "#匯入CSV檔案\n",
    "df = pd.read_csv(\"products.csv\", encoding=\"utf16\")\n",
    "print(df)"
   ]
  },
  {
   "cell_type": "code",
   "execution_count": 17,
   "metadata": {},
   "outputs": [
    {
     "name": "stdout",
     "output_type": "stream",
     "text": [
      "       居家    居家     娛樂     娛樂     科技      科技\n",
      "商店    家樂福   大潤發    家樂福    全聯超    大潤發     家樂福\n",
      "價格  11.42  23.5  19.99  15.95  55.75  111.55\n"
     ]
    }
   ],
   "source": [
    "#轉置DataFrame物件\n",
    "print(df.T)"
   ]
  },
  {
   "cell_type": "code",
   "execution_count": 18,
   "metadata": {},
   "outputs": [
    {
     "name": "stdout",
     "output_type": "stream",
     "text": [
      "     商店     價格\n",
      "居家  家樂福  11.42\n",
      "居家  大潤發  23.50\n",
      "娛樂  家樂福  19.99\n",
      "娛樂  全聯超  15.95\n",
      "科技  大潤發  55.75\n",
      "==============\n",
      "     商店     價格\n",
      "居家  家樂福  11.42\n",
      "居家  大潤發  23.50\n",
      "娛樂  家樂福  19.99\n"
     ]
    }
   ],
   "source": [
    "#顯示前幾筆記錄\n",
    "print(df.head())#顯示前5筆記錄 \n",
    "print(\"==============\") \n",
    "print(df.head(3))"
   ]
  },
  {
   "cell_type": "code",
   "execution_count": 19,
   "metadata": {},
   "outputs": [
    {
     "name": "stdout",
     "output_type": "stream",
     "text": [
      "     商店      價格\n",
      "居家  大潤發   23.50\n",
      "娛樂  家樂福   19.99\n",
      "娛樂  全聯超   15.95\n",
      "科技  大潤發   55.75\n",
      "科技  家樂福  111.55\n",
      "==============\n",
      "     商店      價格\n",
      "娛樂  全聯超   15.95\n",
      "科技  大潤發   55.75\n",
      "科技  家樂福  111.55\n"
     ]
    }
   ],
   "source": [
    "#顯示最後幾筆記錄\n",
    "print(df.tail())#顯示最後5筆記錄\n",
    "print(\"==============\") \n",
    "print(df.tail(3))"
   ]
  },
  {
   "cell_type": "code",
   "execution_count": 20,
   "metadata": {},
   "outputs": [
    {
     "ename": "ValueError",
     "evalue": "Length mismatch: Expected axis has 2 elements, new values have 3 elements",
     "output_type": "error",
     "traceback": [
      "\u001b[1;31m---------------------------------------------------------------------------\u001b[0m",
      "\u001b[1;31mValueError\u001b[0m                                Traceback (most recent call last)",
      "\u001b[1;32m<ipython-input-20-a7b0a1682ff2>\u001b[0m in \u001b[0;36m<module>\u001b[1;34m\u001b[0m\n\u001b[0;32m      1\u001b[0m \u001b[1;31m#自訂的欄位標籤: 從中文標籤改為英文標籤\u001b[0m\u001b[1;33m\u001b[0m\u001b[1;33m\u001b[0m\u001b[1;33m\u001b[0m\u001b[0m\n\u001b[1;32m----> 2\u001b[1;33m \u001b[0mdf\u001b[0m\u001b[1;33m.\u001b[0m\u001b[0mcolumns\u001b[0m \u001b[1;33m=\u001b[0m \u001b[1;33m[\u001b[0m\u001b[1;34m\"type\"\u001b[0m\u001b[1;33m,\u001b[0m \u001b[1;34m\"price\"\u001b[0m\u001b[1;33m,\u001b[0m \u001b[1;34m\"name\"\u001b[0m\u001b[1;33m]\u001b[0m\u001b[1;33m\u001b[0m\u001b[1;33m\u001b[0m\u001b[0m\n\u001b[0m\u001b[0;32m      3\u001b[0m \u001b[0mprint\u001b[0m\u001b[1;33m(\u001b[0m\u001b[0mdf\u001b[0m\u001b[1;33m.\u001b[0m\u001b[0mhead\u001b[0m\u001b[1;33m(\u001b[0m\u001b[1;36m3\u001b[0m\u001b[1;33m)\u001b[0m\u001b[1;33m)\u001b[0m\u001b[1;33m\u001b[0m\u001b[1;33m\u001b[0m\u001b[0m\n",
      "\u001b[1;32m~\\Anaconda3\\lib\\site-packages\\pandas\\core\\generic.py\u001b[0m in \u001b[0;36m__setattr__\u001b[1;34m(self, name, value)\u001b[0m\n\u001b[0;32m   5078\u001b[0m         \u001b[1;32mtry\u001b[0m\u001b[1;33m:\u001b[0m\u001b[1;33m\u001b[0m\u001b[1;33m\u001b[0m\u001b[0m\n\u001b[0;32m   5079\u001b[0m             \u001b[0mobject\u001b[0m\u001b[1;33m.\u001b[0m\u001b[0m__getattribute__\u001b[0m\u001b[1;33m(\u001b[0m\u001b[0mself\u001b[0m\u001b[1;33m,\u001b[0m \u001b[0mname\u001b[0m\u001b[1;33m)\u001b[0m\u001b[1;33m\u001b[0m\u001b[1;33m\u001b[0m\u001b[0m\n\u001b[1;32m-> 5080\u001b[1;33m             \u001b[1;32mreturn\u001b[0m \u001b[0mobject\u001b[0m\u001b[1;33m.\u001b[0m\u001b[0m__setattr__\u001b[0m\u001b[1;33m(\u001b[0m\u001b[0mself\u001b[0m\u001b[1;33m,\u001b[0m \u001b[0mname\u001b[0m\u001b[1;33m,\u001b[0m \u001b[0mvalue\u001b[0m\u001b[1;33m)\u001b[0m\u001b[1;33m\u001b[0m\u001b[1;33m\u001b[0m\u001b[0m\n\u001b[0m\u001b[0;32m   5081\u001b[0m         \u001b[1;32mexcept\u001b[0m \u001b[0mAttributeError\u001b[0m\u001b[1;33m:\u001b[0m\u001b[1;33m\u001b[0m\u001b[1;33m\u001b[0m\u001b[0m\n\u001b[0;32m   5082\u001b[0m             \u001b[1;32mpass\u001b[0m\u001b[1;33m\u001b[0m\u001b[1;33m\u001b[0m\u001b[0m\n",
      "\u001b[1;32mpandas/_libs/properties.pyx\u001b[0m in \u001b[0;36mpandas._libs.properties.AxisProperty.__set__\u001b[1;34m()\u001b[0m\n",
      "\u001b[1;32m~\\Anaconda3\\lib\\site-packages\\pandas\\core\\generic.py\u001b[0m in \u001b[0;36m_set_axis\u001b[1;34m(self, axis, labels)\u001b[0m\n\u001b[0;32m    636\u001b[0m \u001b[1;33m\u001b[0m\u001b[0m\n\u001b[0;32m    637\u001b[0m     \u001b[1;32mdef\u001b[0m \u001b[0m_set_axis\u001b[0m\u001b[1;33m(\u001b[0m\u001b[0mself\u001b[0m\u001b[1;33m,\u001b[0m \u001b[0maxis\u001b[0m\u001b[1;33m,\u001b[0m \u001b[0mlabels\u001b[0m\u001b[1;33m)\u001b[0m\u001b[1;33m:\u001b[0m\u001b[1;33m\u001b[0m\u001b[1;33m\u001b[0m\u001b[0m\n\u001b[1;32m--> 638\u001b[1;33m         \u001b[0mself\u001b[0m\u001b[1;33m.\u001b[0m\u001b[0m_data\u001b[0m\u001b[1;33m.\u001b[0m\u001b[0mset_axis\u001b[0m\u001b[1;33m(\u001b[0m\u001b[0maxis\u001b[0m\u001b[1;33m,\u001b[0m \u001b[0mlabels\u001b[0m\u001b[1;33m)\u001b[0m\u001b[1;33m\u001b[0m\u001b[1;33m\u001b[0m\u001b[0m\n\u001b[0m\u001b[0;32m    639\u001b[0m         \u001b[0mself\u001b[0m\u001b[1;33m.\u001b[0m\u001b[0m_clear_item_cache\u001b[0m\u001b[1;33m(\u001b[0m\u001b[1;33m)\u001b[0m\u001b[1;33m\u001b[0m\u001b[1;33m\u001b[0m\u001b[0m\n\u001b[0;32m    640\u001b[0m \u001b[1;33m\u001b[0m\u001b[0m\n",
      "\u001b[1;32m~\\Anaconda3\\lib\\site-packages\\pandas\\core\\internals\\managers.py\u001b[0m in \u001b[0;36mset_axis\u001b[1;34m(self, axis, new_labels)\u001b[0m\n\u001b[0;32m    153\u001b[0m             raise ValueError(\n\u001b[0;32m    154\u001b[0m                 \u001b[1;34m'Length mismatch: Expected axis has {old} elements, new '\u001b[0m\u001b[1;33m\u001b[0m\u001b[1;33m\u001b[0m\u001b[0m\n\u001b[1;32m--> 155\u001b[1;33m                 'values have {new} elements'.format(old=old_len, new=new_len))\n\u001b[0m\u001b[0;32m    156\u001b[0m \u001b[1;33m\u001b[0m\u001b[0m\n\u001b[0;32m    157\u001b[0m         \u001b[0mself\u001b[0m\u001b[1;33m.\u001b[0m\u001b[0maxes\u001b[0m\u001b[1;33m[\u001b[0m\u001b[0maxis\u001b[0m\u001b[1;33m]\u001b[0m \u001b[1;33m=\u001b[0m \u001b[0mnew_labels\u001b[0m\u001b[1;33m\u001b[0m\u001b[1;33m\u001b[0m\u001b[0m\n",
      "\u001b[1;31mValueError\u001b[0m: Length mismatch: Expected axis has 2 elements, new values have 3 elements"
     ]
    }
   ],
   "source": [
    "#自訂的欄位標籤: 從中文標籤改為英文標籤\n",
    "df.columns = [\"type\", \"price\", \"name\"]\n",
    "print(df.head(3))"
   ]
  },
  {
   "cell_type": "code",
   "execution_count": 10,
   "metadata": {},
   "outputs": [
    {
     "name": "stdout",
     "output_type": "stream",
     "text": [
      "df.index: Index(['A', 'B', 'C', 'D', 'E', 'F'], dtype='object')\n",
      "df.columns: Index(['分類', '價格', '商店'], dtype='object')\n",
      "df.values:\n",
      "[['居家' 11.42 '家樂福']\n",
      " ['居家' 23.5 '大潤發']\n",
      " ['娛樂' 19.99 '家樂福']\n",
      " ['娛樂' 15.95 '全聯超']\n",
      " ['科技' 55.75 '大潤發']\n",
      " ['科技' 111.55 '家樂福']]\n"
     ]
    }
   ],
   "source": [
    "#取得DataFrame物件的索引、欄位和資料\n",
    "print(\"df.index:\",df.index)\n",
    "print(\"df.columns:\",df.columns)\n",
    "print(\"df.values:\",df.values, sep=\"\\n\")"
   ]
  },
  {
   "cell_type": "code",
   "execution_count": 11,
   "metadata": {},
   "outputs": [
    {
     "name": "stdout",
     "output_type": "stream",
     "text": [
      "資料筆數=  6\n",
      "形狀=  (6, 3)\n"
     ]
    }
   ],
   "source": [
    "#顯示DataFrame物件的摘要資訊\n",
    "print(\"資料筆數= \", len(df))\n",
    "print(\"形狀= \", df.shape)  "
   ]
  },
  {
   "cell_type": "code",
   "execution_count": 12,
   "metadata": {},
   "outputs": [
    {
     "name": "stdout",
     "output_type": "stream",
     "text": [
      "<class 'pandas.core.frame.DataFrame'>\n",
      "Index: 6 entries, A to F\n",
      "Data columns (total 3 columns):\n",
      "分類    6 non-null object\n",
      "價格    6 non-null float64\n",
      "商店    6 non-null object\n",
      "dtypes: float64(1), object(2)\n",
      "memory usage: 192.0+ bytes\n"
     ]
    }
   ],
   "source": [
    "df.info() "
   ]
  },
  {
   "cell_type": "code",
   "execution_count": 13,
   "metadata": {},
   "outputs": [
    {
     "name": "stdout",
     "output_type": "stream",
     "text": [
      "A 居家 家樂福 11.42\n",
      "B 居家 大潤發 23.5\n",
      "C 娛樂 家樂福 19.99\n",
      "D 娛樂 全聯超 15.95\n",
      "E 科技 大潤發 55.75\n",
      "F 科技 家樂福 111.55\n"
     ]
    }
   ],
   "source": [
    "#使用iterrows()函數走訪DataFrame物件\n",
    "df.columns = [\"分類\", \"價格\", \"商店\"]\n",
    "for index, row in df.iterrows() :\n",
    "    print(index, row[\"分類\"], row[\"商店\"], row[\"價格\"])"
   ]
  },
  {
   "cell_type": "code",
   "execution_count": 14,
   "metadata": {},
   "outputs": [
    {
     "name": "stdout",
     "output_type": "stream",
     "text": [
      "       價格   商店\n",
      "分類            \n",
      "居家  11.42  家樂福\n",
      "居家  23.50  大潤發\n",
      "娛樂  19.99  家樂福\n",
      "娛樂  15.95  全聯超\n",
      "科技  55.75  大潤發\n"
     ]
    }
   ],
   "source": [
    "#指定索引的欄位\n",
    "df2 = df.set_index(\"分類\")\n",
    "print(df2.head())"
   ]
  },
  {
   "cell_type": "code",
   "execution_count": 15,
   "metadata": {},
   "outputs": [
    {
     "name": "stdout",
     "output_type": "stream",
     "text": [
      "   分類     價格   商店\n",
      "0  居家  11.42  家樂福\n",
      "1  居家  23.50  大潤發\n",
      "2  娛樂  19.99  家樂福\n",
      "3  娛樂  15.95  全聯超\n",
      "4  科技  55.75  大潤發\n"
     ]
    }
   ],
   "source": [
    "#重設索引的欄位\n",
    "df3 = df2.reset_index()\n",
    "print(df3.head())"
   ]
  },
  {
   "cell_type": "code",
   "execution_count": 16,
   "metadata": {},
   "outputs": [
    {
     "name": "stdout",
     "output_type": "stream",
     "text": [
      "            價格\n",
      "分類 商店         \n",
      "居家 家樂福   11.42\n",
      "   大潤發   23.50\n",
      "娛樂 家樂福   19.99\n",
      "   全聯超   15.95\n",
      "科技 大潤發   55.75\n",
      "   家樂福  111.55\n",
      "            價格\n",
      "分類 商店         \n",
      "科技 家樂福  111.55\n",
      "   大潤發   55.75\n",
      "居家 家樂福   11.42\n",
      "   大潤發   23.50\n",
      "娛樂 家樂福   19.99\n",
      "   全聯超   15.95\n"
     ]
    }
   ],
   "source": [
    "#指定多欄位複合索引\n",
    "df2 = df.set_index([\"分類\", \"商店\"])\n",
    "print(df2)\n",
    "df2.sort_index(ascending=False, inplace=True)   #排序完是否取代\n",
    "print(df2)"
   ]
  },
  {
   "cell_type": "code",
   "execution_count": null,
   "metadata": {},
   "outputs": [],
   "source": []
  }
 ],
 "metadata": {
  "kernelspec": {
   "display_name": "Python 3",
   "language": "python",
   "name": "python3"
  },
  "language_info": {
   "codemirror_mode": {
    "name": "ipython",
    "version": 3
   },
   "file_extension": ".py",
   "mimetype": "text/x-python",
   "name": "python",
   "nbconvert_exporter": "python",
   "pygments_lexer": "ipython3",
   "version": "3.7.3"
  }
 },
 "nbformat": 4,
 "nbformat_minor": 4
}
