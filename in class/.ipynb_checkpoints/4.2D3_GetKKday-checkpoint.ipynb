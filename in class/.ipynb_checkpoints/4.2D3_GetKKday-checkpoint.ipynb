{
 "cells": [
  {
   "cell_type": "code",
   "execution_count": null,
   "metadata": {},
   "outputs": [],
   "source": [
    "import urllib.request as req\n",
    "import urllib.parse\n",
    "import json \n",
    "\n",
    "#取得關鍵字keyword,欄位name,第page頁(預設為第一頁)的資料\n",
    "def GetKKday(keyword, name, page=1):\n",
    "    keyword=urllib.parse.quote(keyword)        \n",
    "    url=\"https://www.kkday.com/zh-tw/product/ajax_productlist/?keyword=\"+keyword+\"&page=\"+str(page)\n",
    "    request=req.Request(url, headers={ \"User-Agent\":\"Mozilla/5.0 (Windows NT 10.0; Win64; x64) AppleWebKit/537.36 (KHTML, like Gecko) Chrome/86.0.4240.193 Safari/537.36 Edg/86.0.622.68\"\n",
    "    })\n",
    "    with req.urlopen(request) as response:\n",
    "        data=response.read().decode(\"utf-8\")\n",
    "    data=json.loads(data)\n",
    "    posts=data[\"data\"]\n",
    "    count=0\n",
    "    for key in posts:\n",
    "        title = key[name]\n",
    "        print(title)\n",
    "\n",
    "#取得關鍵字keyword的總頁數\n",
    "def GetKKdayTotalPages(keyword):\n",
    "    keyword=urllib.parse.quote(keyword)        \n",
    "    url=\"https://www.kkday.com/zh-tw/product/ajax_productlist/?keyword=\"+keyword\n",
    "    request=req.Request(url, headers={ \"User-Agent\":\"Mozilla/5.0 (Windows NT 10.0; Win64; x64) AppleWebKit/537.36 (KHTML, like Gecko) Chrome/86.0.4240.193 Safari/537.36 Edg/86.0.622.68\"\n",
    "    })\n",
    "    with req.urlopen(request) as response:\n",
    "        data=response.read().decode(\"utf-8\")\n",
    "    data=json.loads(data)\n",
    "    return data[\"total_page\"]\n",
    "\n",
    "#取得關鍵字keyword,欄位name,所有的資料\n",
    "def GetKKdayAll(keyword , name):\n",
    "    totalpages=GetKKdayTotalPages(keyword)\n",
    "    for i in range(totalpages):\n",
    "        GetKKday(keyword , name, i+1)"
   ]
  },
  {
   "cell_type": "code",
   "execution_count": null,
   "metadata": {},
   "outputs": [],
   "source": [
    "#取得關鍵字\"DIY\"第1頁的票券詳細內容資料\n",
    "GetKKday(\"DIY\" , \"introduction\")"
   ]
  },
  {
   "cell_type": "code",
   "execution_count": null,
   "metadata": {},
   "outputs": [],
   "source": [
    "#取得關鍵字\"DIY\"的前30筆名稱\n",
    "for i in range(3):\n",
    "    GetKKday(\"DIY\" , \"name\", i+1)"
   ]
  },
  {
   "cell_type": "code",
   "execution_count": null,
   "metadata": {},
   "outputs": [],
   "source": [
    "#取得關鍵字\"DIY\"的總頁數\n",
    "print(GetKKdayTotalPages(\"DIY\"))"
   ]
  },
  {
   "cell_type": "code",
   "execution_count": null,
   "metadata": {},
   "outputs": [],
   "source": [
    "#取得關鍵字\"DIY\"的所有票券名稱\n",
    "GetKKdayAll(\"DIY\" , \"name\")"
   ]
  },
  {
   "cell_type": "code",
   "execution_count": null,
   "metadata": {
    "scrolled": true
   },
   "outputs": [],
   "source": [
    "#取得關鍵字\"台南市\"前10筆的最早可使用日期\n",
    "GetKKday(\"台南市\" , \"earliest_sale_date\")"
   ]
  },
  {
   "cell_type": "code",
   "execution_count": null,
   "metadata": {},
   "outputs": [],
   "source": [
    "#取得關鍵字\"高雄市\"前10筆的評價\n",
    "GetKKday(\"高雄市\" , \"rating_star\")"
   ]
  },
  {
   "cell_type": "code",
   "execution_count": null,
   "metadata": {},
   "outputs": [],
   "source": [
    "#取得關鍵字\"台中市\"前10筆的票券連結\n",
    "GetKKday(\"台中市\" , \"url\")"
   ]
  },
  {
   "cell_type": "code",
   "execution_count": null,
   "metadata": {},
   "outputs": [],
   "source": [
    "#取得關鍵字\"台北市\"前10筆的票券價格\n",
    "GetKKday(\"台中市\" , \"price\")"
   ]
  }
 ],
 "metadata": {
  "kernelspec": {
   "display_name": "Python 3",
   "language": "python",
   "name": "python3"
  },
  "language_info": {
   "codemirror_mode": {
    "name": "ipython",
    "version": 3
   },
   "file_extension": ".py",
   "mimetype": "text/x-python",
   "name": "python",
   "nbconvert_exporter": "python",
   "pygments_lexer": "ipython3",
   "version": "3.7.3"
  }
 },
 "nbformat": 4,
 "nbformat_minor": 4
}
