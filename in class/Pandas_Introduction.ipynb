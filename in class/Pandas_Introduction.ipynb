{
 "cells": [
  {
   "cell_type": "code",
   "execution_count": null,
   "metadata": {},
   "outputs": [],
   "source": [
    "#載入pandas模組\n",
    "import pandas as pd\n",
    "#建立Series\n",
    "data=pd.Series([20, 10, 15])\n",
    "#基本Series操作\n",
    "print(data)#列印Series資料"
   ]
  },
  {
   "cell_type": "code",
   "execution_count": null,
   "metadata": {},
   "outputs": [],
   "source": [
    "print (\"Max\", data.max())#顯示最大值\n",
    "print(\"\\nMedian\", data.median())#顯示中間值\n",
    "data=data*2\n",
    "print(\"\\ndata*2:\",data, sep=\"\\n\")#Series所有資料*2"
   ]
  },
  {
   "cell_type": "code",
   "execution_count": null,
   "metadata": {},
   "outputs": [],
   "source": [
    "data=data==20\n",
    "print(data)#顯示判斷結果"
   ]
  },
  {
   "cell_type": "code",
   "execution_count": null,
   "metadata": {},
   "outputs": [],
   "source": [
    "#建立DataFrame\n",
    "data=pd.DataFrame({\n",
    "    \"name\":[\"May\", \"Lin\", \"Bob\"],\n",
    "    \"salary\":[30000, 60000, 50000] \n",
    "})\n",
    "print(data)#列印DataFrame資料"
   ]
  },
  {
   "cell_type": "code",
   "execution_count": null,
   "metadata": {},
   "outputs": [],
   "source": [
    "#基本DataFrame操作 \n",
    "#取得特定的攔位\n",
    "print(data[\"salary\"])#列印\"salary\"欄位"
   ]
  },
  {
   "cell_type": "code",
   "execution_count": null,
   "metadata": {},
   "outputs": [],
   "source": [
    "#取得特定的列\n",
    "print(data.iloc[1]) #印出第二列 "
   ]
  },
  {
   "cell_type": "code",
   "execution_count": null,
   "metadata": {},
   "outputs": [],
   "source": []
  }
 ],
 "metadata": {
  "kernelspec": {
   "display_name": "Python 3",
   "language": "python",
   "name": "python3"
  },
  "language_info": {
   "codemirror_mode": {
    "name": "ipython",
    "version": 3
   },
   "file_extension": ".py",
   "mimetype": "text/x-python",
   "name": "python",
   "nbconvert_exporter": "python",
   "pygments_lexer": "ipython3",
   "version": "3.8.6"
  }
 },
 "nbformat": 4,
 "nbformat_minor": 4
}
