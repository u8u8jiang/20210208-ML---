{
 "cells": [
  {
   "cell_type": "code",
   "execution_count": null,
   "metadata": {},
   "outputs": [],
   "source": [
    "import urllib.request as request \n",
    "import bs4\n",
    "\n",
    "def GetTitle(src):\n",
    "    requestUA = request.Request(src, headers={\n",
    "    \"user-agent\":\"Mozilla/5.0 (Windows NT 10.0; Win64; x64) AppleWebKit/537.36 (KHTML, like Gecko) Chrome/88.0.4324.146 Safari/537.36\"\n",
    "    })   \n",
    "    with request.urlopen(requestUA) as response:\n",
    "        data = response.read().decode(\"utf-8\")\n",
    "        pass\n",
    "    root = bs4.BeautifulSoup(data, \"html.parser\")\n",
    "    titles = root.find_all(\"div\", class_=\"title\") #尋找所有class=\"title\"的div標籤\n",
    " \n",
    "    for title in titles:\n",
    "        if title.a != None: #如果標題包含a標籤 (沒有被刪除), 印出來\n",
    "            print(title.a.string)\n",
    "            pass\n",
    "        pass\n",
    "    pass\n",
    "\n",
    "GetTitle('https://www.ptt.cc/bbs/EAseries/index.html')\n",
    "    "
   ]
  },
  {
   "cell_type": "code",
   "execution_count": null,
   "metadata": {},
   "outputs": [],
   "source": [
    "# get the title in ppt\n",
    "\n",
    "import urllib.request as request \n",
    "import bs4\n",
    "\n",
    "def GetTitle(name):\n",
    "    src = 'https://www.ptt.cc/bbs/'+name+'/index.html'\n",
    "    requestUA = request.Request(src, headers={\n",
    "    \"user-agent\":\"Mozilla/5.0 (Windows NT 10.0; Win64; x64) AppleWebKit/537.36 (KHTML, like Gecko) Chrome/88.0.4324.146 Safari/537.36\"\n",
    "    })   \n",
    "    with request.urlopen(requestUA) as response:\n",
    "        data = response.read().decode(\"utf-8\")\n",
    "        pass\n",
    "    root = bs4.BeautifulSoup(data, \"html.parser\")\n",
    "    titles = root.find_all(\"div\", class_=\"title\") #尋找所有class=\"title\"的div標籤\n",
    " \n",
    "    for title in titles:\n",
    "        if title.a != None: #如果標題包含a標籤 (沒有被刪除), 印出來\n",
    "            print(title.a.string)\n",
    "            pass\n",
    "        pass\n",
    "    pass\n",
    "\n",
    "GetTitle('Stock')"
   ]
  },
  {
   "cell_type": "code",
   "execution_count": null,
   "metadata": {},
   "outputs": [],
   "source": [
    "# get the title there is cookie in ppt\n",
    "\n",
    "import urllib.request as request \n",
    "import bs4\n",
    "\n",
    "def getData(src):#顯示標題並回傳上一頁網址    \n",
    "    requestUA = request.Request(src, headers={\n",
    "        \"cookie\":\"over18=1\",\n",
    "        \"User-Agent\":\"Mozilla/5.0 (Windows NT 10.0; Win64; x64) AppleWebKit/537.36 (KHTML, like Gecko) Chrome/86.0.4240.193 Safari/537.36 Edg/86.0.622.68\"\n",
    "    })\n",
    "    with request.urlopen(requestUA) as response:\n",
    "        data = response.read().decode(\"utf-8\")\n",
    "\n",
    "    root = bs4.BeautifulSoup(data, \"html.parser\") #讓BeautifulSoup協助解析HTML格式文件\n",
    "    titles = root.find_all(\"div\", class_=\"title\") #尋找所有class=\"title\"的div標籤\n",
    "    for title in titles:\n",
    "        if title.a != None: #如果標題包含a標籤 (沒有被刪除), 印出來\n",
    "            print(title.a.string)\n",
    "            pass\n",
    "        pass\n",
    "    nextLink = root.find(\"a\", string=\"‹ 上頁\")#找內文是\"‹ 上頁\"的a標籤\n",
    "    return nextLink[\"href\"]\n",
    "\n",
    "#抓上一頁連結\n",
    "src = \"https://www.ptt.cc/bbs/Gossiping/index.html\"\n",
    "NextPage = \"https://www.ptt.cc/\"+getData(src)\n",
    "\n",
    "count=0\n",
    "while count<15:\n",
    "    src = NextPage = \"https://www.ptt.cc/\"+getData(src)\n",
    "    count += 1\n",
    "    print(\"第\",count,\"頁\\n========================\\n\")"
   ]
  }
 ],
 "metadata": {
  "kernelspec": {
   "display_name": "Python 3",
   "language": "python",
   "name": "python3"
  },
  "language_info": {
   "codemirror_mode": {
    "name": "ipython",
    "version": 3
   },
   "file_extension": ".py",
   "mimetype": "text/x-python",
   "name": "python",
   "nbconvert_exporter": "python",
   "pygments_lexer": "ipython3",
   "version": "3.7.3"
  }
 },
 "nbformat": 4,
 "nbformat_minor": 2
}
