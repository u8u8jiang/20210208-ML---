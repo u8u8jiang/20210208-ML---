{
 "cells": [
  {
   "cell_type": "code",
   "execution_count": null,
   "metadata": {},
   "outputs": [],
   "source": [
    "import pandas as pd\n",
    "import numpy as np\n",
    "#收集資料 https://data.humdata.org/dataset/novel-coronavirus-2019-ncov-cases\n",
    "#讀取資料\n",
    "data = pd.read_csv(\"time_series_covid19_confirmed_global.csv\")\n",
    "#觀察資料\n",
    "print(\"資料數量\", data.shape)"
   ]
  },
  {
   "cell_type": "code",
   "execution_count": null,
   "metadata": {},
   "outputs": [],
   "source": [
    "print(\"資料欄位\", data.columns)"
   ]
  },
  {
   "cell_type": "code",
   "execution_count": null,
   "metadata": {
    "scrolled": false
   },
   "outputs": [],
   "source": [
    "print(data[\"Country/Region\"])\n",
    "print(\"==============================================\")\n",
    "print(data[\"Province/State\"])"
   ]
  },
  {
   "cell_type": "code",
   "execution_count": null,
   "metadata": {
    "scrolled": true
   },
   "outputs": [],
   "source": [
    "# condition = data[\"Country/Region\"] == \"Taiwan*\"\n",
    "condition = data[\"Country/Region\"] == \"Spain\"\n",
    "\n",
    "twindex = data[condition].index\n",
    "twdata = np.array(data.iloc[twindex])\n",
    "twdata = twdata[0][4:]\n",
    "twdata2 = twdata.copy() #number of confirmed cases\n",
    "print(twdata)\n",
    "for i in range(1,len(twdata)):\n",
    "    twdata2[i] = twdata[i] - twdata[i-1]\n",
    "print(twdata2)\n",
    "# print(data.columns[4:])"
   ]
  },
  {
   "cell_type": "code",
   "execution_count": null,
   "metadata": {},
   "outputs": [],
   "source": [
    "import matplotlib.pyplot as plt\n",
    "index = np.arange(len(twdata))\n",
    "#index = data.columns[4:]\n",
    "plt.plot(index, twdata)\n",
    "plt.xlabel(\"Date\")\n",
    "plt.ylabel(\"person\")\n",
    "plt.title(\"COVID-19 accumulation confirmed of Taiwan\")\n",
    "plt.show()"
   ]
  },
  {
   "cell_type": "code",
   "execution_count": null,
   "metadata": {},
   "outputs": [],
   "source": [
    "twdata2=twdata.copy()\n",
    "twdata2[0]=twdata[0] #twdata2:每日確診人數\n",
    "for i in range(1,len(twdata)):    \n",
    "    twdata2[i]=twdata[i]-twdata[i-1]\n",
    "plt.plot(index, twdata2)\n",
    "plt.xlabel(\"Date\")\n",
    "plt.ylabel(\"person\")\n",
    "plt.title(\"COVID-19 confirmed of Taiwan\")\n",
    "plt.show()"
   ]
  },
  {
   "cell_type": "code",
   "execution_count": null,
   "metadata": {},
   "outputs": [],
   "source": [
    "twdata2 = twdata.copy()\n",
    "twdata2[0] = twdata[0] #twdata2:台灣每日確診人數\n",
    "for i in range(1,len(twdata)):    \n",
    "    twdata2[i] = twdata[i]-twdata[i-1]\n",
    "plt.plot(index, twdata)\n",
    "plt.plot(index, twdata2*20)\n",
    "plt.xlabel(\"Date\")\n",
    "plt.ylabel(\"person\")\n",
    "plt.title(\"COVID-19 confirmed and accumulation confirmed of Taiwan\")\n",
    "plt.show()"
   ]
  }
 ],
 "metadata": {
  "kernelspec": {
   "display_name": "Python 3",
   "language": "python",
   "name": "python3"
  },
  "language_info": {
   "codemirror_mode": {
    "name": "ipython",
    "version": 3
   },
   "file_extension": ".py",
   "mimetype": "text/x-python",
   "name": "python",
   "nbconvert_exporter": "python",
   "pygments_lexer": "ipython3",
   "version": "3.7.3"
  }
 },
 "nbformat": 4,
 "nbformat_minor": 4
}
