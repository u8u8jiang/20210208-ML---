{
 "cells": [
  {
   "cell_type": "code",
   "execution_count": null,
   "metadata": {},
   "outputs": [],
   "source": [
    "import pandas as pd\n",
    "s=pd.Series([11,27,87,11,None,7,18,7,87,27])\n",
    "print(s.sort_values())"
   ]
  },
  {
   "cell_type": "code",
   "execution_count": null,
   "metadata": {},
   "outputs": [],
   "source": [
    "print(\"s.count():\",s.count())"
   ]
  },
  {
   "cell_type": "code",
   "execution_count": null,
   "metadata": {},
   "outputs": [],
   "source": [
    "print(\"s.mode():\",s.mode(),sep=\"\\n\")"
   ]
  },
  {
   "cell_type": "code",
   "execution_count": null,
   "metadata": {},
   "outputs": [],
   "source": [
    "print(\"s.median():\",s.median())\n",
    "print(\"s.mean():\",s.mean())\n",
    "print(\"s.max():\",s.max())\n",
    "print(\"s.min():\",s.min())"
   ]
  },
  {
   "cell_type": "code",
   "execution_count": null,
   "metadata": {},
   "outputs": [],
   "source": [
    "print(\"s.quantile(0.25):\",s.quantile(0.25))\n",
    "print(\"s.quantile(0.5):\",s.quantile(0.5))\n",
    "print(\"s.quantile(0.75):\",s.quantile(0.75))\n",
    "print(\"s.quantile():\",s.quantile())"
   ]
  },
  {
   "cell_type": "code",
   "execution_count": null,
   "metadata": {},
   "outputs": [],
   "source": [
    "print(\"s.sum():\",s.sum())\n",
    "print(\"s.var():\",s.var())\n",
    "print(\"s.std():\",s.std())"
   ]
  },
  {
   "cell_type": "code",
   "execution_count": null,
   "metadata": {},
   "outputs": [],
   "source": [
    "s2=pd.Series([18, 27, 3, 11 , 27,None])\n",
    "print(s2.sort_values())\n",
    "print(\"s2.count():\",s2.count())\n",
    "print(\"s2.mode():\",s2.mode(),sep=\"\\n\")\n",
    "print(\"s2.median():\",s2.median())\n",
    "print(\"s2.mean():\",s2.mean())\n",
    "print(\"s2.max():\",s2.max())\n",
    "print(\"s2.min():\",s2.min())\n",
    "print(\"s2.quantile():\",s2.quantile())\n",
    "print(\"s2.quantile(0.25):\",s2.quantile(0.25))\n",
    "print(\"s2.quantile(0.5):\",s2.quantile(0.5))\n",
    "print(\"s2.quantile(0.75):\",s2.quantile(0.75))\n",
    "print(\"s2.sum():\",s2.sum())\n",
    "print(\"s2.var():\",s2.var())\n",
    "print(\"s2.std():\",s2.std())"
   ]
  },
  {
   "cell_type": "code",
   "execution_count": null,
   "metadata": {},
   "outputs": [],
   "source": [
    "X=pd.Series([1,2,3,4,5])\n",
    "Y=pd.Series([6,7,8,9,10])\n",
    "print(\"X.cov(Y):\",X.cov(Y))\n",
    "print(\"X.corr(Y):\",X.corr(Y))\n",
    "print(\"X.std():\",X.std())\n",
    "print(\"Y.std():\",Y.std())\n",
    "print(\"X.cov(Y)/(X.std()*Y.std()):\",X.cov(Y)/(X.std()*Y.std()))"
   ]
  },
  {
   "cell_type": "code",
   "execution_count": null,
   "metadata": {},
   "outputs": [],
   "source": [
    "X=pd.Series([1,2,3,4,5])\n",
    "Y=pd.Series([6,7,8,9,10])\n",
    "import matplotlib.pyplot as plt\n",
    "plt.plot(X, Y)\n",
    "plt.show()\n",
    "print(\"X.corr(Y):\",X.corr(Y))"
   ]
  },
  {
   "cell_type": "code",
   "execution_count": null,
   "metadata": {},
   "outputs": [],
   "source": [
    "X=pd.Series([1,2,3,4,5])\n",
    "Y=pd.Series([10,9,8,7,6])\n",
    "plt.plot(X, Y)\n",
    "plt.show()\n",
    "print(\"X.corr(Y):\",X.corr(Y))"
   ]
  },
  {
   "cell_type": "code",
   "execution_count": null,
   "metadata": {},
   "outputs": [],
   "source": [
    "X=pd.Series([1,2,3,4,5])\n",
    "Y=pd.Series([6,5,6,5,6])\n",
    "plt.plot(X, Y)\n",
    "plt.show()\n",
    "print(\"X.corr(Y):\",X.corr(Y))"
   ]
  },
  {
   "cell_type": "code",
   "execution_count": null,
   "metadata": {},
   "outputs": [],
   "source": [
    "X=pd.Series([1,2,3,4,5])\n",
    "Y1=pd.Series([6,7,8,9,10])\n",
    "Y2=pd.Series([10,9,8,7,6])\n",
    "Y3=pd.Series([7.5,7,7.5,7,7.5])\n",
    "plt.plot(X, Y1)\n",
    "plt.plot(X, Y2)\n",
    "plt.plot(X, Y3)\n",
    "plt.show()\n",
    "print(\"X.corr(Y1):\",X.corr(Y1))\n",
    "print(\"X.corr(Y2):\",X.corr(Y2))\n",
    "print(\"X.corr(Y3):\",X.corr(Y3))"
   ]
  },
  {
   "cell_type": "code",
   "execution_count": null,
   "metadata": {},
   "outputs": [],
   "source": [
    "df=pd.DataFrame([[13, 11 , 27],[18, 27, 3],[27, 3, 11]])\n",
    "print(df)\n",
    "print(\"df[0].cov(df[0])=[\",df.loc[0,0],df.loc[1,0],df.loc[2,0],\n",
    "      \"]cov[\",df.loc[0,0],df.loc[1,0],df.loc[2,0],\"]=\",df[0].cov(df[0]))\n",
    "print(\"df[0].cov(df[1])=[\",df.loc[0,0],df.loc[1,0],df.loc[2,0],\n",
    "      \"]cov[\",df.loc[0,1],df.loc[1,1],df.loc[2,1],\"]=\",df[0].cov(df[1]))\n",
    "print(\"df[0].cov(df[2])=[\",df.loc[0,0],df.loc[1,0],df.loc[2,0],\n",
    "      \"]cov[\",df.loc[0,2],df.loc[1,2],df.loc[2,2],\"]=\",df[0].cov(df[2]))\n",
    "print(\"df[1].cov(df[1])=[\",df.loc[0,1],df.loc[1,1],df.loc[2,1],\n",
    "      \"]cov[\",df.loc[0,1],df.loc[1,1],df.loc[2,1],\"]=\",df[1].cov(df[1]))\n",
    "print(\"df[1].cov(df[2])=[\",df.loc[0,1],df.loc[1,1],df.loc[2,1],\n",
    "      \"]cov[\",df.loc[0,2],df.loc[1,2],df.loc[2,2],\"]=\",df[1].cov(df[2]))\n",
    "print(\"df[2].cov(df[2])=[\",df.loc[0,2],df.loc[1,2],df.loc[2,2],\n",
    "      \"]cov[\",df.loc[0,2],df.loc[1,2],df.loc[2,2],\"]=\",df[2].cov(df[2]))\n",
    "print(\"df.cov():\",df.cov(),sep=\"\\n\")"
   ]
  },
  {
   "cell_type": "code",
   "execution_count": null,
   "metadata": {},
   "outputs": [],
   "source": [
    "df=pd.DataFrame([[13, 11 , 27],[18, 27, 3],[27, 3, 11]])\n",
    "print(df)\n",
    "print(\"df[0].corr(df[0])=[\",df.loc[0,0],df.loc[1,0],df.loc[2,0],\n",
    "      \"]corr[\",df.loc[0,0],df.loc[1,0],df.loc[2,0],\"]=\",df[0].corr(df[0]))\n",
    "print(\"df[0].corr(df[1])=[\",df.loc[0,0],df.loc[1,0],df.loc[2,0],\n",
    "      \"]corr[\",df.loc[0,1],df.loc[1,1],df.loc[2,1],\"]=\",df[0].corr(df[1]))\n",
    "print(\"df[0].corr(df[2])=[\",df.loc[0,0],df.loc[1,0],df.loc[2,0],\n",
    "      \"]corr[\",df.loc[0,2],df.loc[1,2],df.loc[2,2],\"]=\",df[0].corr(df[2]))\n",
    "print(\"df[1].corr(df[1])=[\",df.loc[0,1],df.loc[1,1],df.loc[2,1],\n",
    "      \"]corr[\",df.loc[0,1],df.loc[1,1],df.loc[2,1],\"]=\",df[1].corr(df[1]))\n",
    "print(\"df[1].corr(df[2])=[\",df.loc[0,1],df.loc[1,1],df.loc[2,1],\n",
    "      \"]corr[\",df.loc[0,2],df.loc[1,2],df.loc[2,2],\"]=\",df[1].corr(df[2]))\n",
    "print(\"df[2].corr(df[2])=[\",df.loc[0,2],df.loc[1,2],df.loc[2,2],\n",
    "      \"]corr[\",df.loc[0,2],df.loc[1,2],df.loc[2,2],\"]=\",df[2].corr(df[2]))\n",
    "print(\"df.corr():\",df.corr(),sep=\"\\n\")"
   ]
  },
  {
   "cell_type": "code",
   "execution_count": null,
   "metadata": {},
   "outputs": [],
   "source": [
    "df = pd.DataFrame({\"id\":range(1,10),\"score\":[4,5,6,3,4,7,2,7,6]})\n",
    "print(df)"
   ]
  },
  {
   "cell_type": "code",
   "execution_count": null,
   "metadata": {},
   "outputs": [],
   "source": [
    "df[\"cumsum\"] = df[\"score\"].cumsum()\n",
    "print(df)"
   ]
  },
  {
   "cell_type": "code",
   "execution_count": null,
   "metadata": {},
   "outputs": [],
   "source": [
    "df[\"cumprod\"] = df[\"score\"].cumprod()\n",
    "print(df.drop([\"cumsum\"] , axis=1))"
   ]
  },
  {
   "cell_type": "code",
   "execution_count": null,
   "metadata": {},
   "outputs": [],
   "source": [
    "df[\"cummin\"] = df[\"score\"].cummin()\n",
    "print(df.drop([\"cumsum\",\"cumprod\"] , axis=1))"
   ]
  },
  {
   "cell_type": "code",
   "execution_count": null,
   "metadata": {},
   "outputs": [],
   "source": [
    "df[\"cummax\"] = df[\"score\"].cummax()\n",
    "print(df.drop([\"cumsum\",\"cumprod\",\"cummin\"] , axis=1))"
   ]
  },
  {
   "cell_type": "code",
   "execution_count": null,
   "metadata": {},
   "outputs": [],
   "source": []
  }
 ],
 "metadata": {
  "kernelspec": {
   "display_name": "Python 3",
   "language": "python",
   "name": "python3"
  },
  "language_info": {
   "codemirror_mode": {
    "name": "ipython",
    "version": 3
   },
   "file_extension": ".py",
   "mimetype": "text/x-python",
   "name": "python",
   "nbconvert_exporter": "python",
   "pygments_lexer": "ipython3",
   "version": "3.8.6"
  }
 },
 "nbformat": 4,
 "nbformat_minor": 4
}
